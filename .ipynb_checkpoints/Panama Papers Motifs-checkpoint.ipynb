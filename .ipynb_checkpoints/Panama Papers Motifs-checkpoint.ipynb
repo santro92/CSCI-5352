{
 "cells": [
  {
   "cell_type": "code",
   "execution_count": 1,
   "metadata": {
    "collapsed": true
   },
   "outputs": [],
   "source": [
    "import graphlab\n",
    "import pandas as pd"
   ]
  },
  {
   "cell_type": "markdown",
   "metadata": {},
   "source": [
    "# Load the motifs data"
   ]
  },
  {
   "cell_type": "code",
   "execution_count": 8,
   "metadata": {
    "collapsed": true
   },
   "outputs": [],
   "source": [
    "motifs = pd.read_csv('ensemble1.csv')"
   ]
  },
  {
   "cell_type": "code",
   "execution_count": 9,
   "metadata": {
    "collapsed": false
   },
   "outputs": [
    {
     "data": {
      "text/html": [
       "<div>\n",
       "<table border=\"1\" class=\"dataframe\">\n",
       "  <thead>\n",
       "    <tr style=\"text-align: right;\">\n",
       "      <th></th>\n",
       "      <th>total_2_1edge</th>\n",
       "      <th>total_2_indep</th>\n",
       "      <th>total_3_tris</th>\n",
       "      <th>total_2_star</th>\n",
       "      <th>total_3_1edge</th>\n",
       "      <th>total_3_indep</th>\n",
       "      <th>total_4_clique</th>\n",
       "      <th>total_4_chordcycle</th>\n",
       "      <th>total_4_tailed_tris</th>\n",
       "      <th>total_4_cycle</th>\n",
       "      <th>total_3_star</th>\n",
       "      <th>total_4_path</th>\n",
       "      <th>total_4_1edge</th>\n",
       "      <th>total_4_2edge</th>\n",
       "      <th>total_4_2star</th>\n",
       "      <th>total_4_tri</th>\n",
       "      <th>total_4_indep</th>\n",
       "      <th>filename</th>\n",
       "    </tr>\n",
       "  </thead>\n",
       "  <tbody>\n",
       "    <tr>\n",
       "      <th>0</th>\n",
       "      <td>1598</td>\n",
       "      <td>1276003</td>\n",
       "      <td>0</td>\n",
       "      <td>1276003</td>\n",
       "      <td>0</td>\n",
       "      <td>678833596</td>\n",
       "      <td>0</td>\n",
       "      <td>0</td>\n",
       "      <td>0</td>\n",
       "      <td>0</td>\n",
       "      <td>678833596</td>\n",
       "      <td>0</td>\n",
       "      <td>0</td>\n",
       "      <td>0</td>\n",
       "      <td>0</td>\n",
       "      <td>0</td>\n",
       "      <td>270684896405</td>\n",
       "      <td>./motifs/1.motifcount</td>\n",
       "    </tr>\n",
       "    <tr>\n",
       "      <th>1</th>\n",
       "      <td>1294</td>\n",
       "      <td>836571</td>\n",
       "      <td>0</td>\n",
       "      <td>836571</td>\n",
       "      <td>0</td>\n",
       "      <td>360283244</td>\n",
       "      <td>0</td>\n",
       "      <td>0</td>\n",
       "      <td>0</td>\n",
       "      <td>0</td>\n",
       "      <td>360283244</td>\n",
       "      <td>0</td>\n",
       "      <td>0</td>\n",
       "      <td>0</td>\n",
       "      <td>0</td>\n",
       "      <td>0</td>\n",
       "      <td>116281417001</td>\n",
       "      <td>./motifs/2.motifcount</td>\n",
       "    </tr>\n",
       "    <tr>\n",
       "      <th>2</th>\n",
       "      <td>745</td>\n",
       "      <td>277140</td>\n",
       "      <td>0</td>\n",
       "      <td>277140</td>\n",
       "      <td>0</td>\n",
       "      <td>68638340</td>\n",
       "      <td>0</td>\n",
       "      <td>0</td>\n",
       "      <td>0</td>\n",
       "      <td>0</td>\n",
       "      <td>68638340</td>\n",
       "      <td>0</td>\n",
       "      <td>0</td>\n",
       "      <td>0</td>\n",
       "      <td>0</td>\n",
       "      <td>0</td>\n",
       "      <td>12732412070</td>\n",
       "      <td>./motifs/3.motifcount</td>\n",
       "    </tr>\n",
       "    <tr>\n",
       "      <th>3</th>\n",
       "      <td>654</td>\n",
       "      <td>206392</td>\n",
       "      <td>0</td>\n",
       "      <td>10358</td>\n",
       "      <td>399152</td>\n",
       "      <td>43898334</td>\n",
       "      <td>0</td>\n",
       "      <td>0</td>\n",
       "      <td>0</td>\n",
       "      <td>20</td>\n",
       "      <td>386456</td>\n",
       "      <td>64297</td>\n",
       "      <td>122234811</td>\n",
       "      <td>138836</td>\n",
       "      <td>5351436</td>\n",
       "      <td>0</td>\n",
       "      <td>6972156145</td>\n",
       "      <td>./motifs/4.motifcount</td>\n",
       "    </tr>\n",
       "    <tr>\n",
       "      <th>4</th>\n",
       "      <td>597</td>\n",
       "      <td>177309</td>\n",
       "      <td>0</td>\n",
       "      <td>10745</td>\n",
       "      <td>333725</td>\n",
       "      <td>34940220</td>\n",
       "      <td>0</td>\n",
       "      <td>0</td>\n",
       "      <td>0</td>\n",
       "      <td>1</td>\n",
       "      <td>439224</td>\n",
       "      <td>62277</td>\n",
       "      <td>93903984</td>\n",
       "      <td>104882</td>\n",
       "      <td>4940300</td>\n",
       "      <td>0</td>\n",
       "      <td>5140325797</td>\n",
       "      <td>./motifs/5.motifcount</td>\n",
       "    </tr>\n",
       "  </tbody>\n",
       "</table>\n",
       "</div>"
      ],
      "text/plain": [
       "   total_2_1edge  total_2_indep  total_3_tris  total_2_star total_3_1edge  \\\n",
       "0           1598        1276003             0       1276003             0   \n",
       "1           1294         836571             0        836571             0   \n",
       "2            745         277140             0        277140             0   \n",
       "3            654         206392             0         10358        399152   \n",
       "4            597         177309             0         10745        333725   \n",
       "\n",
       "  total_3_indep  total_4_clique  total_4_chordcycle  total_4_tailed_tris  \\\n",
       "0     678833596               0                   0                    0   \n",
       "1     360283244               0                   0                    0   \n",
       "2      68638340               0                   0                    0   \n",
       "3      43898334               0                   0                    0   \n",
       "4      34940220               0                   0                    0   \n",
       "\n",
       "   total_4_cycle  total_3_star  total_4_path  total_4_1edge total_4_2edge  \\\n",
       "0              0     678833596             0              0             0   \n",
       "1              0     360283244             0              0             0   \n",
       "2              0      68638340             0              0             0   \n",
       "3             20        386456         64297      122234811        138836   \n",
       "4              1        439224         62277       93903984        104882   \n",
       "\n",
       "  total_4_2star  total_4_tri total_4_indep               filename  \n",
       "0             0            0  270684896405  ./motifs/1.motifcount  \n",
       "1             0            0  116281417001  ./motifs/2.motifcount  \n",
       "2             0            0   12732412070  ./motifs/3.motifcount  \n",
       "3       5351436            0    6972156145  ./motifs/4.motifcount  \n",
       "4       4940300            0    5140325797  ./motifs/5.motifcount  "
      ]
     },
     "execution_count": 9,
     "metadata": {},
     "output_type": "execute_result"
    }
   ],
   "source": [
    "motifs.head()"
   ]
  },
  {
   "cell_type": "code",
   "execution_count": 10,
   "metadata": {
    "collapsed": false
   },
   "outputs": [],
   "source": [
    "colmns = motifs.columns.tolist()\n",
    "colmns = colmns[-1:] + colmns[:-1]\n",
    "motifs = motifs[colmns]"
   ]
  },
  {
   "cell_type": "code",
   "execution_count": 11,
   "metadata": {
    "collapsed": false
   },
   "outputs": [
    {
     "data": {
      "text/html": [
       "<div>\n",
       "<table border=\"1\" class=\"dataframe\">\n",
       "  <thead>\n",
       "    <tr style=\"text-align: right;\">\n",
       "      <th></th>\n",
       "      <th>filename</th>\n",
       "      <th>total_2_1edge</th>\n",
       "      <th>total_2_indep</th>\n",
       "      <th>total_3_tris</th>\n",
       "      <th>total_2_star</th>\n",
       "      <th>total_3_1edge</th>\n",
       "      <th>total_3_indep</th>\n",
       "      <th>total_4_clique</th>\n",
       "      <th>total_4_chordcycle</th>\n",
       "      <th>total_4_tailed_tris</th>\n",
       "      <th>total_4_cycle</th>\n",
       "      <th>total_3_star</th>\n",
       "      <th>total_4_path</th>\n",
       "      <th>total_4_1edge</th>\n",
       "      <th>total_4_2edge</th>\n",
       "      <th>total_4_2star</th>\n",
       "      <th>total_4_tri</th>\n",
       "      <th>total_4_indep</th>\n",
       "    </tr>\n",
       "  </thead>\n",
       "  <tbody>\n",
       "    <tr>\n",
       "      <th>0</th>\n",
       "      <td>./motifs/1.motifcount</td>\n",
       "      <td>1598</td>\n",
       "      <td>1276003</td>\n",
       "      <td>0</td>\n",
       "      <td>1276003</td>\n",
       "      <td>0</td>\n",
       "      <td>678833596</td>\n",
       "      <td>0</td>\n",
       "      <td>0</td>\n",
       "      <td>0</td>\n",
       "      <td>0</td>\n",
       "      <td>678833596</td>\n",
       "      <td>0</td>\n",
       "      <td>0</td>\n",
       "      <td>0</td>\n",
       "      <td>0</td>\n",
       "      <td>0</td>\n",
       "      <td>270684896405</td>\n",
       "    </tr>\n",
       "    <tr>\n",
       "      <th>1</th>\n",
       "      <td>./motifs/2.motifcount</td>\n",
       "      <td>1294</td>\n",
       "      <td>836571</td>\n",
       "      <td>0</td>\n",
       "      <td>836571</td>\n",
       "      <td>0</td>\n",
       "      <td>360283244</td>\n",
       "      <td>0</td>\n",
       "      <td>0</td>\n",
       "      <td>0</td>\n",
       "      <td>0</td>\n",
       "      <td>360283244</td>\n",
       "      <td>0</td>\n",
       "      <td>0</td>\n",
       "      <td>0</td>\n",
       "      <td>0</td>\n",
       "      <td>0</td>\n",
       "      <td>116281417001</td>\n",
       "    </tr>\n",
       "    <tr>\n",
       "      <th>2</th>\n",
       "      <td>./motifs/3.motifcount</td>\n",
       "      <td>745</td>\n",
       "      <td>277140</td>\n",
       "      <td>0</td>\n",
       "      <td>277140</td>\n",
       "      <td>0</td>\n",
       "      <td>68638340</td>\n",
       "      <td>0</td>\n",
       "      <td>0</td>\n",
       "      <td>0</td>\n",
       "      <td>0</td>\n",
       "      <td>68638340</td>\n",
       "      <td>0</td>\n",
       "      <td>0</td>\n",
       "      <td>0</td>\n",
       "      <td>0</td>\n",
       "      <td>0</td>\n",
       "      <td>12732412070</td>\n",
       "    </tr>\n",
       "    <tr>\n",
       "      <th>3</th>\n",
       "      <td>./motifs/4.motifcount</td>\n",
       "      <td>654</td>\n",
       "      <td>206392</td>\n",
       "      <td>0</td>\n",
       "      <td>10358</td>\n",
       "      <td>399152</td>\n",
       "      <td>43898334</td>\n",
       "      <td>0</td>\n",
       "      <td>0</td>\n",
       "      <td>0</td>\n",
       "      <td>20</td>\n",
       "      <td>386456</td>\n",
       "      <td>64297</td>\n",
       "      <td>122234811</td>\n",
       "      <td>138836</td>\n",
       "      <td>5351436</td>\n",
       "      <td>0</td>\n",
       "      <td>6972156145</td>\n",
       "    </tr>\n",
       "    <tr>\n",
       "      <th>4</th>\n",
       "      <td>./motifs/5.motifcount</td>\n",
       "      <td>597</td>\n",
       "      <td>177309</td>\n",
       "      <td>0</td>\n",
       "      <td>10745</td>\n",
       "      <td>333725</td>\n",
       "      <td>34940220</td>\n",
       "      <td>0</td>\n",
       "      <td>0</td>\n",
       "      <td>0</td>\n",
       "      <td>1</td>\n",
       "      <td>439224</td>\n",
       "      <td>62277</td>\n",
       "      <td>93903984</td>\n",
       "      <td>104882</td>\n",
       "      <td>4940300</td>\n",
       "      <td>0</td>\n",
       "      <td>5140325797</td>\n",
       "    </tr>\n",
       "  </tbody>\n",
       "</table>\n",
       "</div>"
      ],
      "text/plain": [
       "                filename  total_2_1edge  total_2_indep  total_3_tris  \\\n",
       "0  ./motifs/1.motifcount           1598        1276003             0   \n",
       "1  ./motifs/2.motifcount           1294         836571             0   \n",
       "2  ./motifs/3.motifcount            745         277140             0   \n",
       "3  ./motifs/4.motifcount            654         206392             0   \n",
       "4  ./motifs/5.motifcount            597         177309             0   \n",
       "\n",
       "   total_2_star total_3_1edge total_3_indep  total_4_clique  \\\n",
       "0       1276003             0     678833596               0   \n",
       "1        836571             0     360283244               0   \n",
       "2        277140             0      68638340               0   \n",
       "3         10358        399152      43898334               0   \n",
       "4         10745        333725      34940220               0   \n",
       "\n",
       "   total_4_chordcycle  total_4_tailed_tris  total_4_cycle  total_3_star  \\\n",
       "0                   0                    0              0     678833596   \n",
       "1                   0                    0              0     360283244   \n",
       "2                   0                    0              0      68638340   \n",
       "3                   0                    0             20        386456   \n",
       "4                   0                    0              1        439224   \n",
       "\n",
       "   total_4_path  total_4_1edge total_4_2edge total_4_2star  total_4_tri  \\\n",
       "0             0              0             0             0            0   \n",
       "1             0              0             0             0            0   \n",
       "2             0              0             0             0            0   \n",
       "3         64297      122234811        138836       5351436            0   \n",
       "4         62277       93903984        104882       4940300            0   \n",
       "\n",
       "  total_4_indep  \n",
       "0  270684896405  \n",
       "1  116281417001  \n",
       "2   12732412070  \n",
       "3    6972156145  \n",
       "4    5140325797  "
      ]
     },
     "execution_count": 11,
     "metadata": {},
     "output_type": "execute_result"
    }
   ],
   "source": [
    "motifs.head()"
   ]
  },
  {
   "cell_type": "code",
   "execution_count": 12,
   "metadata": {
    "collapsed": false
   },
   "outputs": [],
   "source": [
    "filenames = motifs['filename']"
   ]
  },
  {
   "cell_type": "code",
   "execution_count": 13,
   "metadata": {
    "collapsed": false
   },
   "outputs": [],
   "source": [
    "del motifs['filename']\n",
    "indexes = motifs.columns"
   ]
  },
  {
   "cell_type": "markdown",
   "metadata": {},
   "source": [
    "## Normalize the rows"
   ]
  },
  {
   "cell_type": "code",
   "execution_count": 14,
   "metadata": {
    "collapsed": false
   },
   "outputs": [],
   "source": [
    "tmotifs = motifs.transpose()"
   ]
  },
  {
   "cell_type": "code",
   "execution_count": 15,
   "metadata": {
    "collapsed": false
   },
   "outputs": [
    {
     "data": {
      "text/html": [
       "<div>\n",
       "<table border=\"1\" class=\"dataframe\">\n",
       "  <thead>\n",
       "    <tr style=\"text-align: right;\">\n",
       "      <th></th>\n",
       "      <th>0</th>\n",
       "      <th>1</th>\n",
       "      <th>2</th>\n",
       "      <th>3</th>\n",
       "      <th>4</th>\n",
       "      <th>5</th>\n",
       "      <th>6</th>\n",
       "      <th>7</th>\n",
       "      <th>8</th>\n",
       "      <th>9</th>\n",
       "      <th>...</th>\n",
       "      <th>4638</th>\n",
       "      <th>4639</th>\n",
       "      <th>4640</th>\n",
       "      <th>4641</th>\n",
       "      <th>4642</th>\n",
       "      <th>4643</th>\n",
       "      <th>4644</th>\n",
       "      <th>4645</th>\n",
       "      <th>4646</th>\n",
       "      <th>4647</th>\n",
       "    </tr>\n",
       "  </thead>\n",
       "  <tbody>\n",
       "    <tr>\n",
       "      <th>total_2_1edge</th>\n",
       "      <td>1598</td>\n",
       "      <td>1294</td>\n",
       "      <td>745</td>\n",
       "      <td>654</td>\n",
       "      <td>597</td>\n",
       "      <td>560</td>\n",
       "      <td>408</td>\n",
       "      <td>503</td>\n",
       "      <td>386</td>\n",
       "      <td>377</td>\n",
       "      <td>...</td>\n",
       "      <td>3</td>\n",
       "      <td>3</td>\n",
       "      <td>3</td>\n",
       "      <td>3</td>\n",
       "      <td>3</td>\n",
       "      <td>3</td>\n",
       "      <td>3</td>\n",
       "      <td>3</td>\n",
       "      <td>3</td>\n",
       "      <td>3</td>\n",
       "    </tr>\n",
       "    <tr>\n",
       "      <th>total_2_indep</th>\n",
       "      <td>1276003</td>\n",
       "      <td>836571</td>\n",
       "      <td>277140</td>\n",
       "      <td>206392</td>\n",
       "      <td>177309</td>\n",
       "      <td>156520</td>\n",
       "      <td>83028</td>\n",
       "      <td>81712</td>\n",
       "      <td>74305</td>\n",
       "      <td>70876</td>\n",
       "      <td>...</td>\n",
       "      <td>3</td>\n",
       "      <td>3</td>\n",
       "      <td>3</td>\n",
       "      <td>3</td>\n",
       "      <td>3</td>\n",
       "      <td>3</td>\n",
       "      <td>3</td>\n",
       "      <td>3</td>\n",
       "      <td>3</td>\n",
       "      <td>3</td>\n",
       "    </tr>\n",
       "    <tr>\n",
       "      <th>total_3_tris</th>\n",
       "      <td>0</td>\n",
       "      <td>0</td>\n",
       "      <td>0</td>\n",
       "      <td>0</td>\n",
       "      <td>0</td>\n",
       "      <td>0</td>\n",
       "      <td>0</td>\n",
       "      <td>14</td>\n",
       "      <td>0</td>\n",
       "      <td>0</td>\n",
       "      <td>...</td>\n",
       "      <td>0</td>\n",
       "      <td>0</td>\n",
       "      <td>0</td>\n",
       "      <td>0</td>\n",
       "      <td>0</td>\n",
       "      <td>0</td>\n",
       "      <td>0</td>\n",
       "      <td>0</td>\n",
       "      <td>0</td>\n",
       "      <td>0</td>\n",
       "    </tr>\n",
       "    <tr>\n",
       "      <th>total_2_star</th>\n",
       "      <td>1276003</td>\n",
       "      <td>836571</td>\n",
       "      <td>277140</td>\n",
       "      <td>10358</td>\n",
       "      <td>10745</td>\n",
       "      <td>156520</td>\n",
       "      <td>54765</td>\n",
       "      <td>3643</td>\n",
       "      <td>73921</td>\n",
       "      <td>70127</td>\n",
       "      <td>...</td>\n",
       "      <td>2</td>\n",
       "      <td>3</td>\n",
       "      <td>3</td>\n",
       "      <td>2</td>\n",
       "      <td>2</td>\n",
       "      <td>3</td>\n",
       "      <td>2</td>\n",
       "      <td>3</td>\n",
       "      <td>2</td>\n",
       "      <td>2</td>\n",
       "    </tr>\n",
       "    <tr>\n",
       "      <th>total_3_1edge</th>\n",
       "      <td>0</td>\n",
       "      <td>0</td>\n",
       "      <td>0</td>\n",
       "      <td>399152</td>\n",
       "      <td>333725</td>\n",
       "      <td>0</td>\n",
       "      <td>56526</td>\n",
       "      <td>195884</td>\n",
       "      <td>768</td>\n",
       "      <td>1498</td>\n",
       "      <td>...</td>\n",
       "      <td>2</td>\n",
       "      <td>0</td>\n",
       "      <td>0</td>\n",
       "      <td>2</td>\n",
       "      <td>2</td>\n",
       "      <td>0</td>\n",
       "      <td>2</td>\n",
       "      <td>0</td>\n",
       "      <td>2</td>\n",
       "      <td>2</td>\n",
       "    </tr>\n",
       "  </tbody>\n",
       "</table>\n",
       "<p>5 rows × 4648 columns</p>\n",
       "</div>"
      ],
      "text/plain": [
       "                  0       1       2       3       4       5      6       7     \\\n",
       "total_2_1edge     1598    1294     745     654     597     560    408     503   \n",
       "total_2_indep  1276003  836571  277140  206392  177309  156520  83028   81712   \n",
       "total_3_tris         0       0       0       0       0       0      0      14   \n",
       "total_2_star   1276003  836571  277140   10358   10745  156520  54765    3643   \n",
       "total_3_1edge        0       0       0  399152  333725       0  56526  195884   \n",
       "\n",
       "                8      9    ...  4638 4639 4640 4641 4642 4643 4644 4645 4646  \\\n",
       "total_2_1edge    386    377 ...     3    3    3    3    3    3    3    3    3   \n",
       "total_2_indep  74305  70876 ...     3    3    3    3    3    3    3    3    3   \n",
       "total_3_tris       0      0 ...     0    0    0    0    0    0    0    0    0   \n",
       "total_2_star   73921  70127 ...     2    3    3    2    2    3    2    3    2   \n",
       "total_3_1edge    768   1498 ...     2    0    0    2    2    0    2    0    2   \n",
       "\n",
       "              4647  \n",
       "total_2_1edge    3  \n",
       "total_2_indep    3  \n",
       "total_3_tris     0  \n",
       "total_2_star     2  \n",
       "total_3_1edge    2  \n",
       "\n",
       "[5 rows x 4648 columns]"
      ]
     },
     "execution_count": 15,
     "metadata": {},
     "output_type": "execute_result"
    }
   ],
   "source": [
    "tmotifs.head()"
   ]
  },
  {
   "cell_type": "code",
   "execution_count": 16,
   "metadata": {
    "collapsed": false
   },
   "outputs": [],
   "source": [
    "from sklearn import preprocessing"
   ]
  },
  {
   "cell_type": "code",
   "execution_count": 18,
   "metadata": {
    "collapsed": false
   },
   "outputs": [],
   "source": [
    "columns = tmotifs.columns"
   ]
  },
  {
   "cell_type": "code",
   "execution_count": 19,
   "metadata": {
    "collapsed": false
   },
   "outputs": [],
   "source": [
    "std_scale = preprocessing.MinMaxScaler().fit(tmotifs[columns])"
   ]
  },
  {
   "cell_type": "code",
   "execution_count": 20,
   "metadata": {
    "collapsed": true
   },
   "outputs": [],
   "source": [
    "tmotif_std = std_scale.transform(tmotifs[columns])"
   ]
  },
  {
   "cell_type": "code",
   "execution_count": 34,
   "metadata": {
    "collapsed": false
   },
   "outputs": [],
   "source": [
    "tmotifs = pd.DataFrame(tmotif_std, index=indexes)"
   ]
  },
  {
   "cell_type": "code",
   "execution_count": 35,
   "metadata": {
    "collapsed": false
   },
   "outputs": [
    {
     "data": {
      "text/html": [
       "<div>\n",
       "<table border=\"1\" class=\"dataframe\">\n",
       "  <thead>\n",
       "    <tr style=\"text-align: right;\">\n",
       "      <th></th>\n",
       "      <th>total_2_1edge</th>\n",
       "      <th>total_2_indep</th>\n",
       "      <th>total_3_tris</th>\n",
       "      <th>total_2_star</th>\n",
       "      <th>total_3_1edge</th>\n",
       "      <th>total_3_indep</th>\n",
       "      <th>total_4_clique</th>\n",
       "      <th>total_4_chordcycle</th>\n",
       "      <th>total_4_tailed_tris</th>\n",
       "      <th>total_4_cycle</th>\n",
       "      <th>total_3_star</th>\n",
       "      <th>total_4_path</th>\n",
       "      <th>total_4_1edge</th>\n",
       "      <th>total_4_2edge</th>\n",
       "      <th>total_4_2star</th>\n",
       "      <th>total_4_tri</th>\n",
       "      <th>total_4_indep</th>\n",
       "    </tr>\n",
       "  </thead>\n",
       "  <tbody>\n",
       "    <tr>\n",
       "      <th>0</th>\n",
       "      <td>5.903543e-09</td>\n",
       "      <td>0.000005</td>\n",
       "      <td>0.0</td>\n",
       "      <td>0.000005</td>\n",
       "      <td>0.000000</td>\n",
       "      <td>0.002508</td>\n",
       "      <td>0.0</td>\n",
       "      <td>0.0</td>\n",
       "      <td>0.0</td>\n",
       "      <td>0.000000e+00</td>\n",
       "      <td>0.002508</td>\n",
       "      <td>0.000000</td>\n",
       "      <td>0.000000</td>\n",
       "      <td>0.00000</td>\n",
       "      <td>0.000000</td>\n",
       "      <td>0.0</td>\n",
       "      <td>1.0</td>\n",
       "    </tr>\n",
       "    <tr>\n",
       "      <th>1</th>\n",
       "      <td>1.112818e-08</td>\n",
       "      <td>0.000007</td>\n",
       "      <td>0.0</td>\n",
       "      <td>0.000007</td>\n",
       "      <td>0.000000</td>\n",
       "      <td>0.003098</td>\n",
       "      <td>0.0</td>\n",
       "      <td>0.0</td>\n",
       "      <td>0.0</td>\n",
       "      <td>0.000000e+00</td>\n",
       "      <td>0.003098</td>\n",
       "      <td>0.000000</td>\n",
       "      <td>0.000000</td>\n",
       "      <td>0.00000</td>\n",
       "      <td>0.000000</td>\n",
       "      <td>0.0</td>\n",
       "      <td>1.0</td>\n",
       "    </tr>\n",
       "    <tr>\n",
       "      <th>2</th>\n",
       "      <td>5.851209e-08</td>\n",
       "      <td>0.000022</td>\n",
       "      <td>0.0</td>\n",
       "      <td>0.000022</td>\n",
       "      <td>0.000000</td>\n",
       "      <td>0.005391</td>\n",
       "      <td>0.0</td>\n",
       "      <td>0.0</td>\n",
       "      <td>0.0</td>\n",
       "      <td>0.000000e+00</td>\n",
       "      <td>0.005391</td>\n",
       "      <td>0.000000</td>\n",
       "      <td>0.000000</td>\n",
       "      <td>0.00000</td>\n",
       "      <td>0.000000</td>\n",
       "      <td>0.0</td>\n",
       "      <td>1.0</td>\n",
       "    </tr>\n",
       "    <tr>\n",
       "      <th>3</th>\n",
       "      <td>9.380169e-08</td>\n",
       "      <td>0.000030</td>\n",
       "      <td>0.0</td>\n",
       "      <td>0.000001</td>\n",
       "      <td>0.000057</td>\n",
       "      <td>0.006296</td>\n",
       "      <td>0.0</td>\n",
       "      <td>0.0</td>\n",
       "      <td>0.0</td>\n",
       "      <td>2.868553e-09</td>\n",
       "      <td>0.000055</td>\n",
       "      <td>0.000009</td>\n",
       "      <td>0.017532</td>\n",
       "      <td>0.00002</td>\n",
       "      <td>0.000768</td>\n",
       "      <td>0.0</td>\n",
       "      <td>1.0</td>\n",
       "    </tr>\n",
       "    <tr>\n",
       "      <th>4</th>\n",
       "      <td>1.161405e-07</td>\n",
       "      <td>0.000034</td>\n",
       "      <td>0.0</td>\n",
       "      <td>0.000002</td>\n",
       "      <td>0.000065</td>\n",
       "      <td>0.006797</td>\n",
       "      <td>0.0</td>\n",
       "      <td>0.0</td>\n",
       "      <td>0.0</td>\n",
       "      <td>1.945402e-10</td>\n",
       "      <td>0.000085</td>\n",
       "      <td>0.000012</td>\n",
       "      <td>0.018268</td>\n",
       "      <td>0.00002</td>\n",
       "      <td>0.000961</td>\n",
       "      <td>0.0</td>\n",
       "      <td>1.0</td>\n",
       "    </tr>\n",
       "  </tbody>\n",
       "</table>\n",
       "</div>"
      ],
      "text/plain": [
       "   total_2_1edge  total_2_indep  total_3_tris  total_2_star  total_3_1edge  \\\n",
       "0   5.903543e-09       0.000005           0.0      0.000005       0.000000   \n",
       "1   1.112818e-08       0.000007           0.0      0.000007       0.000000   \n",
       "2   5.851209e-08       0.000022           0.0      0.000022       0.000000   \n",
       "3   9.380169e-08       0.000030           0.0      0.000001       0.000057   \n",
       "4   1.161405e-07       0.000034           0.0      0.000002       0.000065   \n",
       "\n",
       "   total_3_indep  total_4_clique  total_4_chordcycle  total_4_tailed_tris  \\\n",
       "0       0.002508             0.0                 0.0                  0.0   \n",
       "1       0.003098             0.0                 0.0                  0.0   \n",
       "2       0.005391             0.0                 0.0                  0.0   \n",
       "3       0.006296             0.0                 0.0                  0.0   \n",
       "4       0.006797             0.0                 0.0                  0.0   \n",
       "\n",
       "   total_4_cycle  total_3_star  total_4_path  total_4_1edge  total_4_2edge  \\\n",
       "0   0.000000e+00      0.002508      0.000000       0.000000        0.00000   \n",
       "1   0.000000e+00      0.003098      0.000000       0.000000        0.00000   \n",
       "2   0.000000e+00      0.005391      0.000000       0.000000        0.00000   \n",
       "3   2.868553e-09      0.000055      0.000009       0.017532        0.00002   \n",
       "4   1.945402e-10      0.000085      0.000012       0.018268        0.00002   \n",
       "\n",
       "   total_4_2star  total_4_tri  total_4_indep  \n",
       "0       0.000000          0.0            1.0  \n",
       "1       0.000000          0.0            1.0  \n",
       "2       0.000000          0.0            1.0  \n",
       "3       0.000768          0.0            1.0  \n",
       "4       0.000961          0.0            1.0  "
      ]
     },
     "execution_count": 35,
     "metadata": {},
     "output_type": "execute_result"
    }
   ],
   "source": [
    "tmotifs = tmotifs.transpose()\n",
    "tmotifs.head()"
   ]
  },
  {
   "cell_type": "code",
   "execution_count": 36,
   "metadata": {
    "collapsed": false
   },
   "outputs": [],
   "source": [
    "tmotifs['filename'] = filenames[:]"
   ]
  },
  {
   "cell_type": "code",
   "execution_count": 31,
   "metadata": {
    "collapsed": false
   },
   "outputs": [
    {
     "data": {
      "text/html": [
       "<div>\n",
       "<table border=\"1\" class=\"dataframe\">\n",
       "  <thead>\n",
       "    <tr style=\"text-align: right;\">\n",
       "      <th></th>\n",
       "      <th>total_2_1edge</th>\n",
       "      <th>total_2_indep</th>\n",
       "      <th>total_3_tris</th>\n",
       "      <th>total_2_star</th>\n",
       "      <th>total_3_1edge</th>\n",
       "      <th>total_3_indep</th>\n",
       "      <th>total_4_clique</th>\n",
       "      <th>total_4_chordcycle</th>\n",
       "      <th>total_4_tailed_tris</th>\n",
       "      <th>total_4_cycle</th>\n",
       "      <th>total_3_star</th>\n",
       "      <th>total_4_path</th>\n",
       "      <th>total_4_1edge</th>\n",
       "      <th>total_4_2edge</th>\n",
       "      <th>total_4_2star</th>\n",
       "      <th>total_4_tri</th>\n",
       "      <th>total_4_indep</th>\n",
       "      <th>filename</th>\n",
       "    </tr>\n",
       "  </thead>\n",
       "  <tbody>\n",
       "    <tr>\n",
       "      <th>0</th>\n",
       "      <td>5.903543e-09</td>\n",
       "      <td>0.000005</td>\n",
       "      <td>0.0</td>\n",
       "      <td>0.000005</td>\n",
       "      <td>0.000000</td>\n",
       "      <td>0.002508</td>\n",
       "      <td>0.0</td>\n",
       "      <td>0.0</td>\n",
       "      <td>0.0</td>\n",
       "      <td>0.000000e+00</td>\n",
       "      <td>0.002508</td>\n",
       "      <td>0.000000</td>\n",
       "      <td>0.000000</td>\n",
       "      <td>0.00000</td>\n",
       "      <td>0.000000</td>\n",
       "      <td>0.0</td>\n",
       "      <td>1.0</td>\n",
       "      <td>./motifs/1.motifcount</td>\n",
       "    </tr>\n",
       "    <tr>\n",
       "      <th>1</th>\n",
       "      <td>1.112818e-08</td>\n",
       "      <td>0.000007</td>\n",
       "      <td>0.0</td>\n",
       "      <td>0.000007</td>\n",
       "      <td>0.000000</td>\n",
       "      <td>0.003098</td>\n",
       "      <td>0.0</td>\n",
       "      <td>0.0</td>\n",
       "      <td>0.0</td>\n",
       "      <td>0.000000e+00</td>\n",
       "      <td>0.003098</td>\n",
       "      <td>0.000000</td>\n",
       "      <td>0.000000</td>\n",
       "      <td>0.00000</td>\n",
       "      <td>0.000000</td>\n",
       "      <td>0.0</td>\n",
       "      <td>1.0</td>\n",
       "      <td>./motifs/2.motifcount</td>\n",
       "    </tr>\n",
       "    <tr>\n",
       "      <th>2</th>\n",
       "      <td>5.851209e-08</td>\n",
       "      <td>0.000022</td>\n",
       "      <td>0.0</td>\n",
       "      <td>0.000022</td>\n",
       "      <td>0.000000</td>\n",
       "      <td>0.005391</td>\n",
       "      <td>0.0</td>\n",
       "      <td>0.0</td>\n",
       "      <td>0.0</td>\n",
       "      <td>0.000000e+00</td>\n",
       "      <td>0.005391</td>\n",
       "      <td>0.000000</td>\n",
       "      <td>0.000000</td>\n",
       "      <td>0.00000</td>\n",
       "      <td>0.000000</td>\n",
       "      <td>0.0</td>\n",
       "      <td>1.0</td>\n",
       "      <td>./motifs/3.motifcount</td>\n",
       "    </tr>\n",
       "    <tr>\n",
       "      <th>3</th>\n",
       "      <td>9.380169e-08</td>\n",
       "      <td>0.000030</td>\n",
       "      <td>0.0</td>\n",
       "      <td>0.000001</td>\n",
       "      <td>0.000057</td>\n",
       "      <td>0.006296</td>\n",
       "      <td>0.0</td>\n",
       "      <td>0.0</td>\n",
       "      <td>0.0</td>\n",
       "      <td>2.868553e-09</td>\n",
       "      <td>0.000055</td>\n",
       "      <td>0.000009</td>\n",
       "      <td>0.017532</td>\n",
       "      <td>0.00002</td>\n",
       "      <td>0.000768</td>\n",
       "      <td>0.0</td>\n",
       "      <td>1.0</td>\n",
       "      <td>./motifs/4.motifcount</td>\n",
       "    </tr>\n",
       "    <tr>\n",
       "      <th>4</th>\n",
       "      <td>1.161405e-07</td>\n",
       "      <td>0.000034</td>\n",
       "      <td>0.0</td>\n",
       "      <td>0.000002</td>\n",
       "      <td>0.000065</td>\n",
       "      <td>0.006797</td>\n",
       "      <td>0.0</td>\n",
       "      <td>0.0</td>\n",
       "      <td>0.0</td>\n",
       "      <td>1.945402e-10</td>\n",
       "      <td>0.000085</td>\n",
       "      <td>0.000012</td>\n",
       "      <td>0.018268</td>\n",
       "      <td>0.00002</td>\n",
       "      <td>0.000961</td>\n",
       "      <td>0.0</td>\n",
       "      <td>1.0</td>\n",
       "      <td>./motifs/5.motifcount</td>\n",
       "    </tr>\n",
       "  </tbody>\n",
       "</table>\n",
       "</div>"
      ],
      "text/plain": [
       "   total_2_1edge  total_2_indep  total_3_tris  total_2_star  total_3_1edge  \\\n",
       "0   5.903543e-09       0.000005           0.0      0.000005       0.000000   \n",
       "1   1.112818e-08       0.000007           0.0      0.000007       0.000000   \n",
       "2   5.851209e-08       0.000022           0.0      0.000022       0.000000   \n",
       "3   9.380169e-08       0.000030           0.0      0.000001       0.000057   \n",
       "4   1.161405e-07       0.000034           0.0      0.000002       0.000065   \n",
       "\n",
       "   total_3_indep  total_4_clique  total_4_chordcycle  total_4_tailed_tris  \\\n",
       "0       0.002508             0.0                 0.0                  0.0   \n",
       "1       0.003098             0.0                 0.0                  0.0   \n",
       "2       0.005391             0.0                 0.0                  0.0   \n",
       "3       0.006296             0.0                 0.0                  0.0   \n",
       "4       0.006797             0.0                 0.0                  0.0   \n",
       "\n",
       "   total_4_cycle  total_3_star  total_4_path  total_4_1edge  total_4_2edge  \\\n",
       "0   0.000000e+00      0.002508      0.000000       0.000000        0.00000   \n",
       "1   0.000000e+00      0.003098      0.000000       0.000000        0.00000   \n",
       "2   0.000000e+00      0.005391      0.000000       0.000000        0.00000   \n",
       "3   2.868553e-09      0.000055      0.000009       0.017532        0.00002   \n",
       "4   1.945402e-10      0.000085      0.000012       0.018268        0.00002   \n",
       "\n",
       "   total_4_2star  total_4_tri  total_4_indep               filename  \n",
       "0       0.000000          0.0            1.0  ./motifs/1.motifcount  \n",
       "1       0.000000          0.0            1.0  ./motifs/2.motifcount  \n",
       "2       0.000000          0.0            1.0  ./motifs/3.motifcount  \n",
       "3       0.000768          0.0            1.0  ./motifs/4.motifcount  \n",
       "4       0.000961          0.0            1.0  ./motifs/5.motifcount  "
      ]
     },
     "execution_count": 31,
     "metadata": {},
     "output_type": "execute_result"
    }
   ],
   "source": []
  },
  {
   "cell_type": "markdown",
   "metadata": {
    "collapsed": true
   },
   "source": [
    "## Build a kmeans clustering model"
   ]
  },
  {
   "cell_type": "code",
   "execution_count": 38,
   "metadata": {
    "collapsed": false
   },
   "outputs": [
    {
     "name": "stderr",
     "output_type": "stream",
     "text": [
      "[INFO] graphlab.cython.cy_server: GraphLab Create v2.1 started. Logging: /tmp/graphlab_server_1478740789.log\n"
     ]
    },
    {
     "name": "stdout",
     "output_type": "stream",
     "text": [
      "This non-commercial license of GraphLab Create for academic use is assigned to ruhi.saraf@colorado.edu and will expire on October 28, 2017.\n"
     ]
    }
   ],
   "source": [
    "graph_data = graphlab.SFrame(tmotifs)"
   ]
  },
  {
   "cell_type": "code",
   "execution_count": 54,
   "metadata": {
    "collapsed": false
   },
   "outputs": [
    {
     "data": {
      "text/html": [
       "<pre>Batch size is larger than the input dataset. Switching to an exact Kmeans method.</pre>"
      ],
      "text/plain": [
       "Batch size is larger than the input dataset. Switching to an exact Kmeans method."
      ]
     },
     "metadata": {},
     "output_type": "display_data"
    },
    {
     "data": {
      "text/html": [
       "<pre>Choosing initial cluster centers with Kmeans++.</pre>"
      ],
      "text/plain": [
       "Choosing initial cluster centers with Kmeans++."
      ]
     },
     "metadata": {},
     "output_type": "display_data"
    },
    {
     "data": {
      "text/html": [
       "<pre>+---------------+-----------+</pre>"
      ],
      "text/plain": [
       "+---------------+-----------+"
      ]
     },
     "metadata": {},
     "output_type": "display_data"
    },
    {
     "data": {
      "text/html": [
       "<pre>| Center number | Row index |</pre>"
      ],
      "text/plain": [
       "| Center number | Row index |"
      ]
     },
     "metadata": {},
     "output_type": "display_data"
    },
    {
     "data": {
      "text/html": [
       "<pre>+---------------+-----------+</pre>"
      ],
      "text/plain": [
       "+---------------+-----------+"
      ]
     },
     "metadata": {},
     "output_type": "display_data"
    },
    {
     "data": {
      "text/html": [
       "<pre>| 0             | 1334      |</pre>"
      ],
      "text/plain": [
       "| 0             | 1334      |"
      ]
     },
     "metadata": {},
     "output_type": "display_data"
    },
    {
     "data": {
      "text/html": [
       "<pre>| 1             | 3837      |</pre>"
      ],
      "text/plain": [
       "| 1             | 3837      |"
      ]
     },
     "metadata": {},
     "output_type": "display_data"
    },
    {
     "data": {
      "text/html": [
       "<pre>| 2             | 1398      |</pre>"
      ],
      "text/plain": [
       "| 2             | 1398      |"
      ]
     },
     "metadata": {},
     "output_type": "display_data"
    },
    {
     "data": {
      "text/html": [
       "<pre>+---------------+-----------+</pre>"
      ],
      "text/plain": [
       "+---------------+-----------+"
      ]
     },
     "metadata": {},
     "output_type": "display_data"
    },
    {
     "data": {
      "text/html": [
       "<pre>Starting kmeans model training.</pre>"
      ],
      "text/plain": [
       "Starting kmeans model training."
      ]
     },
     "metadata": {},
     "output_type": "display_data"
    },
    {
     "data": {
      "text/html": [
       "<pre>Assigning points to initial cluster centers.</pre>"
      ],
      "text/plain": [
       "Assigning points to initial cluster centers."
      ]
     },
     "metadata": {},
     "output_type": "display_data"
    },
    {
     "data": {
      "text/html": [
       "<pre>+-----------+-------------------------------+</pre>"
      ],
      "text/plain": [
       "+-----------+-------------------------------+"
      ]
     },
     "metadata": {},
     "output_type": "display_data"
    },
    {
     "data": {
      "text/html": [
       "<pre>| Iteration | Number of changed assignments |</pre>"
      ],
      "text/plain": [
       "| Iteration | Number of changed assignments |"
      ]
     },
     "metadata": {},
     "output_type": "display_data"
    },
    {
     "data": {
      "text/html": [
       "<pre>+-----------+-------------------------------+</pre>"
      ],
      "text/plain": [
       "+-----------+-------------------------------+"
      ]
     },
     "metadata": {},
     "output_type": "display_data"
    },
    {
     "data": {
      "text/html": [
       "<pre>| 1         | 156                           |</pre>"
      ],
      "text/plain": [
       "| 1         | 156                           |"
      ]
     },
     "metadata": {},
     "output_type": "display_data"
    },
    {
     "data": {
      "text/html": [
       "<pre>| 2         | 96                            |</pre>"
      ],
      "text/plain": [
       "| 2         | 96                            |"
      ]
     },
     "metadata": {},
     "output_type": "display_data"
    },
    {
     "data": {
      "text/html": [
       "<pre>| 3         | 18                            |</pre>"
      ],
      "text/plain": [
       "| 3         | 18                            |"
      ]
     },
     "metadata": {},
     "output_type": "display_data"
    },
    {
     "data": {
      "text/html": [
       "<pre>| 4         | 7                             |</pre>"
      ],
      "text/plain": [
       "| 4         | 7                             |"
      ]
     },
     "metadata": {},
     "output_type": "display_data"
    },
    {
     "data": {
      "text/html": [
       "<pre>| 5         | 4                             |</pre>"
      ],
      "text/plain": [
       "| 5         | 4                             |"
      ]
     },
     "metadata": {},
     "output_type": "display_data"
    },
    {
     "data": {
      "text/html": [
       "<pre>| 6         | 0                             |</pre>"
      ],
      "text/plain": [
       "| 6         | 0                             |"
      ]
     },
     "metadata": {},
     "output_type": "display_data"
    },
    {
     "data": {
      "text/html": [
       "<pre>+-----------+-------------------------------+</pre>"
      ],
      "text/plain": [
       "+-----------+-------------------------------+"
      ]
     },
     "metadata": {},
     "output_type": "display_data"
    }
   ],
   "source": [
    "simple_3_model = graphlab.kmeans.create(graph_data, num_clusters=3, label='filename')"
   ]
  },
  {
   "cell_type": "code",
   "execution_count": 55,
   "metadata": {
    "collapsed": false
   },
   "outputs": [],
   "source": [
    "cluster_ids = simple_3_model['cluster_id']"
   ]
  },
  {
   "cell_type": "code",
   "execution_count": 57,
   "metadata": {
    "collapsed": false
   },
   "outputs": [],
   "source": [
    "graphs_cluster1 = cluster_ids[cluster_ids['cluster_id'] == 1]\n",
    "graphs_cluster2 = cluster_ids[cluster_ids['cluster_id'] == 2]\n",
    "graphs_cluster0 = cluster_ids[cluster_ids['cluster_id'] == 0]"
   ]
  },
  {
   "cell_type": "code",
   "execution_count": 61,
   "metadata": {
    "collapsed": false
   },
   "outputs": [
    {
     "data": {
      "text/html": [
       "<div style=\"max-height:1000px;max-width:1500px;overflow:auto;\"><table frame=\"box\" rules=\"cols\">\n",
       "    <tr>\n",
       "        <th style=\"padding-left: 1em; padding-right: 1em; text-align: center\">filename</th>\n",
       "        <th style=\"padding-left: 1em; padding-right: 1em; text-align: center\">cluster_id</th>\n",
       "        <th style=\"padding-left: 1em; padding-right: 1em; text-align: center\">distance</th>\n",
       "    </tr>\n",
       "    <tr>\n",
       "        <td style=\"padding-left: 1em; padding-right: 1em; text-align: center; vertical-align: top\">./motifs/1750.motifcount</td>\n",
       "        <td style=\"padding-left: 1em; padding-right: 1em; text-align: center; vertical-align: top\">1</td>\n",
       "        <td style=\"padding-left: 1em; padding-right: 1em; text-align: center; vertical-align: top\">1.16364717484</td>\n",
       "    </tr>\n",
       "    <tr>\n",
       "        <td style=\"padding-left: 1em; padding-right: 1em; text-align: center; vertical-align: top\">./motifs/1802.motifcount</td>\n",
       "        <td style=\"padding-left: 1em; padding-right: 1em; text-align: center; vertical-align: top\">1</td>\n",
       "        <td style=\"padding-left: 1em; padding-right: 1em; text-align: center; vertical-align: top\">1.14443182945</td>\n",
       "    </tr>\n",
       "    <tr>\n",
       "        <td style=\"padding-left: 1em; padding-right: 1em; text-align: center; vertical-align: top\">./motifs/1815.motifcount</td>\n",
       "        <td style=\"padding-left: 1em; padding-right: 1em; text-align: center; vertical-align: top\">1</td>\n",
       "        <td style=\"padding-left: 1em; padding-right: 1em; text-align: center; vertical-align: top\">1.08369934559</td>\n",
       "    </tr>\n",
       "    <tr>\n",
       "        <td style=\"padding-left: 1em; padding-right: 1em; text-align: center; vertical-align: top\">./motifs/1879.motifcount</td>\n",
       "        <td style=\"padding-left: 1em; padding-right: 1em; text-align: center; vertical-align: top\">1</td>\n",
       "        <td style=\"padding-left: 1em; padding-right: 1em; text-align: center; vertical-align: top\">1.08369934559</td>\n",
       "    </tr>\n",
       "    <tr>\n",
       "        <td style=\"padding-left: 1em; padding-right: 1em; text-align: center; vertical-align: top\">./motifs/1884.motifcount</td>\n",
       "        <td style=\"padding-left: 1em; padding-right: 1em; text-align: center; vertical-align: top\">1</td>\n",
       "        <td style=\"padding-left: 1em; padding-right: 1em; text-align: center; vertical-align: top\">1.08369934559</td>\n",
       "    </tr>\n",
       "    <tr>\n",
       "        <td style=\"padding-left: 1em; padding-right: 1em; text-align: center; vertical-align: top\">./motifs/1891.motifcount</td>\n",
       "        <td style=\"padding-left: 1em; padding-right: 1em; text-align: center; vertical-align: top\">1</td>\n",
       "        <td style=\"padding-left: 1em; padding-right: 1em; text-align: center; vertical-align: top\">1.08369934559</td>\n",
       "    </tr>\n",
       "    <tr>\n",
       "        <td style=\"padding-left: 1em; padding-right: 1em; text-align: center; vertical-align: top\">./motifs/1901.motifcount</td>\n",
       "        <td style=\"padding-left: 1em; padding-right: 1em; text-align: center; vertical-align: top\">1</td>\n",
       "        <td style=\"padding-left: 1em; padding-right: 1em; text-align: center; vertical-align: top\">1.14443182945</td>\n",
       "    </tr>\n",
       "    <tr>\n",
       "        <td style=\"padding-left: 1em; padding-right: 1em; text-align: center; vertical-align: top\">./motifs/1956.motifcount</td>\n",
       "        <td style=\"padding-left: 1em; padding-right: 1em; text-align: center; vertical-align: top\">1</td>\n",
       "        <td style=\"padding-left: 1em; padding-right: 1em; text-align: center; vertical-align: top\">1.14443182945</td>\n",
       "    </tr>\n",
       "    <tr>\n",
       "        <td style=\"padding-left: 1em; padding-right: 1em; text-align: center; vertical-align: top\">./motifs/1962.motifcount</td>\n",
       "        <td style=\"padding-left: 1em; padding-right: 1em; text-align: center; vertical-align: top\">1</td>\n",
       "        <td style=\"padding-left: 1em; padding-right: 1em; text-align: center; vertical-align: top\">1.13019025326</td>\n",
       "    </tr>\n",
       "    <tr>\n",
       "        <td style=\"padding-left: 1em; padding-right: 1em; text-align: center; vertical-align: top\">./motifs/1970.motifcount</td>\n",
       "        <td style=\"padding-left: 1em; padding-right: 1em; text-align: center; vertical-align: top\">1</td>\n",
       "        <td style=\"padding-left: 1em; padding-right: 1em; text-align: center; vertical-align: top\">1.01679837704</td>\n",
       "    </tr>\n",
       "</table>\n",
       "[1912 rows x 3 columns]<br/>Note: Only the head of the SFrame is printed.<br/>You can use print_rows(num_rows=m, num_columns=n) to print more rows and columns.\n",
       "</div>"
      ],
      "text/plain": [
       "Columns:\n",
       "\tfilename\tstr\n",
       "\tcluster_id\tint\n",
       "\tdistance\tfloat\n",
       "\n",
       "Rows: 1912\n",
       "\n",
       "Data:\n",
       "+--------------------------+------------+---------------+\n",
       "|         filename         | cluster_id |    distance   |\n",
       "+--------------------------+------------+---------------+\n",
       "| ./motifs/1750.motifcount |     1      | 1.16364717484 |\n",
       "| ./motifs/1802.motifcount |     1      | 1.14443182945 |\n",
       "| ./motifs/1815.motifcount |     1      | 1.08369934559 |\n",
       "| ./motifs/1879.motifcount |     1      | 1.08369934559 |\n",
       "| ./motifs/1884.motifcount |     1      | 1.08369934559 |\n",
       "| ./motifs/1891.motifcount |     1      | 1.08369934559 |\n",
       "| ./motifs/1901.motifcount |     1      | 1.14443182945 |\n",
       "| ./motifs/1956.motifcount |     1      | 1.14443182945 |\n",
       "| ./motifs/1962.motifcount |     1      | 1.13019025326 |\n",
       "| ./motifs/1970.motifcount |     1      | 1.01679837704 |\n",
       "+--------------------------+------------+---------------+\n",
       "[1912 rows x 3 columns]\n",
       "Note: Only the head of the SFrame is printed.\n",
       "You can use print_rows(num_rows=m, num_columns=n) to print more rows and columns."
      ]
     },
     "execution_count": 61,
     "metadata": {},
     "output_type": "execute_result"
    }
   ],
   "source": [
    "graphs_cluster1"
   ]
  },
  {
   "cell_type": "code",
   "execution_count": 65,
   "metadata": {
    "collapsed": false
   },
   "outputs": [],
   "source": [
    "import networkx as nx\n",
    "import matplotlib.pylab as plt\n",
    "%matplotlib inline"
   ]
  },
  {
   "cell_type": "code",
   "execution_count": 66,
   "metadata": {
    "collapsed": true
   },
   "outputs": [],
   "source": [
    "G = nx.read_adjlist(\"subgraphs/1750-subgraph.adjlist\")"
   ]
  },
  {
   "cell_type": "code",
   "execution_count": 67,
   "metadata": {
    "collapsed": false
   },
   "outputs": [
    {
     "data": {
      "image/png": "[encoded data removed]",
      "text/plain": [
       "<matplotlib.figure.Figure at 0x11f1bc390>"
      ]
     },
     "metadata": {},
     "output_type": "display_data"
    }
   ],
   "source": [
    "nx.draw(G,pos=nx.spring_layout(G))"
   ]
  },
  {
   "cell_type": "code",
   "execution_count": 68,
   "metadata": {
    "collapsed": false
   },
   "outputs": [
    {
     "data": {
      "image/png": "[encoded data removed]",
      "text/plain": [
       "<matplotlib.figure.Figure at 0x1237ac2d0>"
      ]
     },
     "metadata": {},
     "output_type": "display_data"
    }
   ],
   "source": [
    "G_2 =  nx.read_adjlist(\"subgraphs/1802-subgraph.adjlist\")\n",
    "nx.draw(G_2,pos=nx.spring_layout(G_2))"
   ]
  },
  {
   "cell_type": "code",
   "execution_count": 69,
   "metadata": {
    "collapsed": false
   },
   "outputs": [
    {
     "data": {
      "text/html": [
       "<div style=\"max-height:1000px;max-width:1500px;overflow:auto;\"><table frame=\"box\" rules=\"cols\">\n",
       "    <tr>\n",
       "        <th style=\"padding-left: 1em; padding-right: 1em; text-align: center\">filename</th>\n",
       "        <th style=\"padding-left: 1em; padding-right: 1em; text-align: center\">cluster_id</th>\n",
       "        <th style=\"padding-left: 1em; padding-right: 1em; text-align: center\">distance</th>\n",
       "    </tr>\n",
       "    <tr>\n",
       "        <td style=\"padding-left: 1em; padding-right: 1em; text-align: center; vertical-align: top\">./motifs/1.motifcount</td>\n",
       "        <td style=\"padding-left: 1em; padding-right: 1em; text-align: center; vertical-align: top\">2</td>\n",
       "        <td style=\"padding-left: 1em; padding-right: 1em; text-align: center; vertical-align: top\">0.584457278252</td>\n",
       "    </tr>\n",
       "    <tr>\n",
       "        <td style=\"padding-left: 1em; padding-right: 1em; text-align: center; vertical-align: top\">./motifs/2.motifcount</td>\n",
       "        <td style=\"padding-left: 1em; padding-right: 1em; text-align: center; vertical-align: top\">2</td>\n",
       "        <td style=\"padding-left: 1em; padding-right: 1em; text-align: center; vertical-align: top\">0.583909332752</td>\n",
       "    </tr>\n",
       "    <tr>\n",
       "        <td style=\"padding-left: 1em; padding-right: 1em; text-align: center; vertical-align: top\">./motifs/3.motifcount</td>\n",
       "        <td style=\"padding-left: 1em; padding-right: 1em; text-align: center; vertical-align: top\">2</td>\n",
       "        <td style=\"padding-left: 1em; padding-right: 1em; text-align: center; vertical-align: top\">0.581786990166</td>\n",
       "    </tr>\n",
       "    <tr>\n",
       "        <td style=\"padding-left: 1em; padding-right: 1em; text-align: center; vertical-align: top\">./motifs/4.motifcount</td>\n",
       "        <td style=\"padding-left: 1em; padding-right: 1em; text-align: center; vertical-align: top\">2</td>\n",
       "        <td style=\"padding-left: 1em; padding-right: 1em; text-align: center; vertical-align: top\">0.572564601898</td>\n",
       "    </tr>\n",
       "    <tr>\n",
       "        <td style=\"padding-left: 1em; padding-right: 1em; text-align: center; vertical-align: top\">./motifs/5.motifcount</td>\n",
       "        <td style=\"padding-left: 1em; padding-right: 1em; text-align: center; vertical-align: top\">2</td>\n",
       "        <td style=\"padding-left: 1em; padding-right: 1em; text-align: center; vertical-align: top\">0.571770966053</td>\n",
       "    </tr>\n",
       "    <tr>\n",
       "        <td style=\"padding-left: 1em; padding-right: 1em; text-align: center; vertical-align: top\">./motifs/6.motifcount</td>\n",
       "        <td style=\"padding-left: 1em; padding-right: 1em; text-align: center; vertical-align: top\">2</td>\n",
       "        <td style=\"padding-left: 1em; padding-right: 1em; text-align: center; vertical-align: top\">0.580134451389</td>\n",
       "    </tr>\n",
       "    <tr>\n",
       "        <td style=\"padding-left: 1em; padding-right: 1em; text-align: center; vertical-align: top\">./motifs/7.motifcount</td>\n",
       "        <td style=\"padding-left: 1em; padding-right: 1em; text-align: center; vertical-align: top\">2</td>\n",
       "        <td style=\"padding-left: 1em; padding-right: 1em; text-align: center; vertical-align: top\">0.574274599552</td>\n",
       "    </tr>\n",
       "    <tr>\n",
       "        <td style=\"padding-left: 1em; padding-right: 1em; text-align: center; vertical-align: top\">./motifs/8.motifcount</td>\n",
       "        <td style=\"padding-left: 1em; padding-right: 1em; text-align: center; vertical-align: top\">2</td>\n",
       "        <td style=\"padding-left: 1em; padding-right: 1em; text-align: center; vertical-align: top\">0.560136973858</td>\n",
       "    </tr>\n",
       "    <tr>\n",
       "        <td style=\"padding-left: 1em; padding-right: 1em; text-align: center; vertical-align: top\">./motifs/9.motifcount</td>\n",
       "        <td style=\"padding-left: 1em; padding-right: 1em; text-align: center; vertical-align: top\">2</td>\n",
       "        <td style=\"padding-left: 1em; padding-right: 1em; text-align: center; vertical-align: top\">0.577089071274</td>\n",
       "    </tr>\n",
       "    <tr>\n",
       "        <td style=\"padding-left: 1em; padding-right: 1em; text-align: center; vertical-align: top\">./motifs/10.motifcount</td>\n",
       "        <td style=\"padding-left: 1em; padding-right: 1em; text-align: center; vertical-align: top\">2</td>\n",
       "        <td style=\"padding-left: 1em; padding-right: 1em; text-align: center; vertical-align: top\">0.576807916164</td>\n",
       "    </tr>\n",
       "</table>\n",
       "[1636 rows x 3 columns]<br/>Note: Only the head of the SFrame is printed.<br/>You can use print_rows(num_rows=m, num_columns=n) to print more rows and columns.\n",
       "</div>"
      ],
      "text/plain": [
       "Columns:\n",
       "\tfilename\tstr\n",
       "\tcluster_id\tint\n",
       "\tdistance\tfloat\n",
       "\n",
       "Rows: 1636\n",
       "\n",
       "Data:\n",
       "+------------------------+------------+----------------+\n",
       "|        filename        | cluster_id |    distance    |\n",
       "+------------------------+------------+----------------+\n",
       "| ./motifs/1.motifcount  |     2      | 0.584457278252 |\n",
       "| ./motifs/2.motifcount  |     2      | 0.583909332752 |\n",
       "| ./motifs/3.motifcount  |     2      | 0.581786990166 |\n",
       "| ./motifs/4.motifcount  |     2      | 0.572564601898 |\n",
       "| ./motifs/5.motifcount  |     2      | 0.571770966053 |\n",
       "| ./motifs/6.motifcount  |     2      | 0.580134451389 |\n",
       "| ./motifs/7.motifcount  |     2      | 0.574274599552 |\n",
       "| ./motifs/8.motifcount  |     2      | 0.560136973858 |\n",
       "| ./motifs/9.motifcount  |     2      | 0.577089071274 |\n",
       "| ./motifs/10.motifcount |     2      | 0.576807916164 |\n",
       "+------------------------+------------+----------------+\n",
       "[1636 rows x 3 columns]\n",
       "Note: Only the head of the SFrame is printed.\n",
       "You can use print_rows(num_rows=m, num_columns=n) to print more rows and columns."
      ]
     },
     "execution_count": 69,
     "metadata": {},
     "output_type": "execute_result"
    }
   ],
   "source": [
    "graphs_cluster2"
   ]
  },
  {
   "cell_type": "code",
   "execution_count": 71,
   "metadata": {
    "collapsed": false
   },
   "outputs": [
    {
     "data": {
      "image/png": "[encoded data removed]",
      "text/plain": [
       "<matplotlib.figure.Figure at 0x123dbc4d0>"
      ]
     },
     "metadata": {},
     "output_type": "display_data"
    }
   ],
   "source": [
    "G_3 =  nx.read_adjlist(\"subgraphs/2-subgraph.adjlist\")\n",
    "nx.draw(G_3,pos=nx.spring_layout(G_3))"
   ]
  },
  {
   "cell_type": "code",
   "execution_count": 72,
   "metadata": {
    "collapsed": false
   },
   "outputs": [
    {
     "data": {
      "image/png": "[encoded data removed]",
      "text/plain": [
       "<matplotlib.figure.Figure at 0x11e311850>"
      ]
     },
     "metadata": {},
     "output_type": "display_data"
    }
   ],
   "source": [
    "G_3 =  nx.read_adjlist(\"subgraphs/3-subgraph.adjlist\")\n",
    "nx.draw(G_3,pos=nx.spring_layout(G_3))"
   ]
  },
  {
   "cell_type": "code",
   "execution_count": 73,
   "metadata": {
    "collapsed": false
   },
   "outputs": [
    {
     "data": {
      "text/html": [
       "<div style=\"max-height:1000px;max-width:1500px;overflow:auto;\"><table frame=\"box\" rules=\"cols\">\n",
       "    <tr>\n",
       "        <th style=\"padding-left: 1em; padding-right: 1em; text-align: center\">filename</th>\n",
       "        <th style=\"padding-left: 1em; padding-right: 1em; text-align: center\">cluster_id</th>\n",
       "        <th style=\"padding-left: 1em; padding-right: 1em; text-align: center\">distance</th>\n",
       "    </tr>\n",
       "    <tr>\n",
       "        <td style=\"padding-left: 1em; padding-right: 1em; text-align: center; vertical-align: top\">./motifs/955.motifcount</td>\n",
       "        <td style=\"padding-left: 1em; padding-right: 1em; text-align: center; vertical-align: top\">0</td>\n",
       "        <td style=\"padding-left: 1em; padding-right: 1em; text-align: center; vertical-align: top\">1.05476951599</td>\n",
       "    </tr>\n",
       "    <tr>\n",
       "        <td style=\"padding-left: 1em; padding-right: 1em; text-align: center; vertical-align: top\">./motifs/1085.motifcount</td>\n",
       "        <td style=\"padding-left: 1em; padding-right: 1em; text-align: center; vertical-align: top\">0</td>\n",
       "        <td style=\"padding-left: 1em; padding-right: 1em; text-align: center; vertical-align: top\">0.979480981827</td>\n",
       "    </tr>\n",
       "    <tr>\n",
       "        <td style=\"padding-left: 1em; padding-right: 1em; text-align: center; vertical-align: top\">./motifs/1095.motifcount</td>\n",
       "        <td style=\"padding-left: 1em; padding-right: 1em; text-align: center; vertical-align: top\">0</td>\n",
       "        <td style=\"padding-left: 1em; padding-right: 1em; text-align: center; vertical-align: top\">0.978503763676</td>\n",
       "    </tr>\n",
       "    <tr>\n",
       "        <td style=\"padding-left: 1em; padding-right: 1em; text-align: center; vertical-align: top\">./motifs/1191.motifcount</td>\n",
       "        <td style=\"padding-left: 1em; padding-right: 1em; text-align: center; vertical-align: top\">0</td>\n",
       "        <td style=\"padding-left: 1em; padding-right: 1em; text-align: center; vertical-align: top\">0.955508768559</td>\n",
       "    </tr>\n",
       "    <tr>\n",
       "        <td style=\"padding-left: 1em; padding-right: 1em; text-align: center; vertical-align: top\">./motifs/1204.motifcount</td>\n",
       "        <td style=\"padding-left: 1em; padding-right: 1em; text-align: center; vertical-align: top\">0</td>\n",
       "        <td style=\"padding-left: 1em; padding-right: 1em; text-align: center; vertical-align: top\">0.942377507687</td>\n",
       "    </tr>\n",
       "    <tr>\n",
       "        <td style=\"padding-left: 1em; padding-right: 1em; text-align: center; vertical-align: top\">./motifs/1214.motifcount</td>\n",
       "        <td style=\"padding-left: 1em; padding-right: 1em; text-align: center; vertical-align: top\">0</td>\n",
       "        <td style=\"padding-left: 1em; padding-right: 1em; text-align: center; vertical-align: top\">0.910394310951</td>\n",
       "    </tr>\n",
       "    <tr>\n",
       "        <td style=\"padding-left: 1em; padding-right: 1em; text-align: center; vertical-align: top\">./motifs/1225.motifcount</td>\n",
       "        <td style=\"padding-left: 1em; padding-right: 1em; text-align: center; vertical-align: top\">0</td>\n",
       "        <td style=\"padding-left: 1em; padding-right: 1em; text-align: center; vertical-align: top\">0.951191961765</td>\n",
       "    </tr>\n",
       "    <tr>\n",
       "        <td style=\"padding-left: 1em; padding-right: 1em; text-align: center; vertical-align: top\">./motifs/1230.motifcount</td>\n",
       "        <td style=\"padding-left: 1em; padding-right: 1em; text-align: center; vertical-align: top\">0</td>\n",
       "        <td style=\"padding-left: 1em; padding-right: 1em; text-align: center; vertical-align: top\">0.876441061497</td>\n",
       "    </tr>\n",
       "    <tr>\n",
       "        <td style=\"padding-left: 1em; padding-right: 1em; text-align: center; vertical-align: top\">./motifs/1241.motifcount</td>\n",
       "        <td style=\"padding-left: 1em; padding-right: 1em; text-align: center; vertical-align: top\">0</td>\n",
       "        <td style=\"padding-left: 1em; padding-right: 1em; text-align: center; vertical-align: top\">0.853400528431</td>\n",
       "    </tr>\n",
       "    <tr>\n",
       "        <td style=\"padding-left: 1em; padding-right: 1em; text-align: center; vertical-align: top\">./motifs/1278.motifcount</td>\n",
       "        <td style=\"padding-left: 1em; padding-right: 1em; text-align: center; vertical-align: top\">0</td>\n",
       "        <td style=\"padding-left: 1em; padding-right: 1em; text-align: center; vertical-align: top\">0.962910115719</td>\n",
       "    </tr>\n",
       "</table>\n",
       "[1100 rows x 3 columns]<br/>Note: Only the head of the SFrame is printed.<br/>You can use print_rows(num_rows=m, num_columns=n) to print more rows and columns.\n",
       "</div>"
      ],
      "text/plain": [
       "Columns:\n",
       "\tfilename\tstr\n",
       "\tcluster_id\tint\n",
       "\tdistance\tfloat\n",
       "\n",
       "Rows: 1100\n",
       "\n",
       "Data:\n",
       "+--------------------------+------------+----------------+\n",
       "|         filename         | cluster_id |    distance    |\n",
       "+--------------------------+------------+----------------+\n",
       "| ./motifs/955.motifcount  |     0      | 1.05476951599  |\n",
       "| ./motifs/1085.motifcount |     0      | 0.979480981827 |\n",
       "| ./motifs/1095.motifcount |     0      | 0.978503763676 |\n",
       "| ./motifs/1191.motifcount |     0      | 0.955508768559 |\n",
       "| ./motifs/1204.motifcount |     0      | 0.942377507687 |\n",
       "| ./motifs/1214.motifcount |     0      | 0.910394310951 |\n",
       "| ./motifs/1225.motifcount |     0      | 0.951191961765 |\n",
       "| ./motifs/1230.motifcount |     0      | 0.876441061497 |\n",
       "| ./motifs/1241.motifcount |     0      | 0.853400528431 |\n",
       "| ./motifs/1278.motifcount |     0      | 0.962910115719 |\n",
       "+--------------------------+------------+----------------+\n",
       "[1100 rows x 3 columns]\n",
       "Note: Only the head of the SFrame is printed.\n",
       "You can use print_rows(num_rows=m, num_columns=n) to print more rows and columns."
      ]
     },
     "execution_count": 73,
     "metadata": {},
     "output_type": "execute_result"
    }
   ],
   "source": [
    "graphs_cluster0"
   ]
  },
  {
   "cell_type": "code",
   "execution_count": 75,
   "metadata": {
    "collapsed": false
   },
   "outputs": [
    {
     "data": {
      "image/png": "[encoded data removed]",
      "text/plain": [
       "<matplotlib.figure.Figure at 0x124e4f290>"
      ]
     },
     "metadata": {},
     "output_type": "display_data"
    }
   ],
   "source": [
    "G_4 =  nx.read_adjlist(\"subgraphs/955-subgraph.adjlist\")\n",
    "nx.draw(G_4,pos=nx.spring_layout(G_4))"
   ]
  },
  {
   "cell_type": "code",
   "execution_count": 76,
   "metadata": {
    "collapsed": false
   },
   "outputs": [
    {
     "data": {
      "image/png": "[encoded data removed]",
      "text/plain": [
       "<matplotlib.figure.Figure at 0x124c91150>"
      ]
     },
     "metadata": {},
     "output_type": "display_data"
    }
   ],
   "source": [
    "G_4 =  nx.read_adjlist(\"subgraphs/1085-subgraph.adjlist\")\n",
    "nx.draw(G_4,pos=nx.spring_layout(G_4))"
   ]
  },
  {
   "cell_type": "code",
   "execution_count": null,
   "metadata": {
    "collapsed": true
   },
   "outputs": [],
   "source": []
  }
 ],
 "metadata": {
  "kernelspec": {
   "display_name": "Python 2",
   "language": "python",
   "name": "python2"
  },
  "language_info": {
   "codemirror_mode": {
    "name": "ipython",
    "version": 2
   },
   "file_extension": ".py",
   "mimetype": "text/x-python",
   "name": "python",
   "nbconvert_exporter": "python",
   "pygments_lexer": "ipython2",
   "version": "2.7.11"
  }
 },
 "nbformat": 4,
 "nbformat_minor": 0
}
