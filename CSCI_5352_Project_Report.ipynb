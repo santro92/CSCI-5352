{
 "cells": [
  {
   "cell_type": "markdown",
   "metadata": {},
   "source": [
    "# Data Handling"
   ]
  },
  {
   "cell_type": "markdown",
   "metadata": {},
   "source": [
    "Import Libraries"
   ]
  },
  {
   "cell_type": "code",
   "execution_count": 39,
   "metadata": {
    "collapsed": true
   },
   "outputs": [],
   "source": [
    "import pandas as pd\n",
    "import networkx as nx\n",
    "import glob\n",
    "import matplotlib.pylab as plt\n",
    "%matplotlib inline"
   ]
  },
  {
   "cell_type": "markdown",
   "metadata": {},
   "source": [
    "### Load data and create a graph"
   ]
  },
  {
   "cell_type": "code",
   "execution_count": 2,
   "metadata": {
    "collapsed": false
   },
   "outputs": [],
   "source": [
    "addresses = pd.read_csv(\"data/Addresses.csv\", low_memory=False)\n",
    "entities = pd.read_csv(\"data/Entities.csv\", low_memory=False)\n",
    "intermediaries = pd.read_csv(\"data/Intermediaries.csv\", low_memory=False)\n",
    "offi = pd.read_csv(\"data/Officers.csv\", low_memory=False)\n",
    "edges = pd.read_csv(\"data/all_edges.csv\", low_memory=False)"
   ]
  },
  {
   "cell_type": "code",
   "execution_count": null,
   "metadata": {
    "collapsed": false
   },
   "outputs": [],
   "source": [
    "G = nx.DiGraph()\n",
    "for n,row in addresses.iterrows():\n",
    "    G.add_node(row.node_id, node_type=\"address\", details=row.to_dict())\n",
    "    \n",
    "for n,row in entities.iterrows():\n",
    "    G.add_node(row.node_id, node_type=\"entities\", details=row.to_dict())\n",
    "    \n",
    "for n,row in intermediaries.iterrows():\n",
    "    G.add_node(row.node_id, node_type=\"intermediates\", details=row.to_dict())\n",
    "    \n",
    "for n,row in offi.iterrows():\n",
    "    G.add_node(row.node_id, node_type=\"officers\", details=row.to_dict())\n",
    "    \n",
    "for n,row in edges.iterrows():\n",
    "    G.add_edge(row.node_1, row.node_2, rel_type=row.rel_type, details={})"
   ]
  },
  {
   "cell_type": "markdown",
   "metadata": {},
   "source": [
    "Write the adjacency locally for faster loading"
   ]
  },
  {
   "cell_type": "code",
   "execution_count": null,
   "metadata": {
    "collapsed": true
   },
   "outputs": [],
   "source": [
    "nx.write_adjlist(G,\"fullgraph.adjlist\")"
   ]
  },
  {
   "cell_type": "markdown",
   "metadata": {
    "collapsed": true
   },
   "source": [
    "### Computing some basic measures\n",
    "We use two versions of the graph - a Directed, and an Undirected version, out of which we find thee following measures for every node -\n",
    "1. in degree\n",
    "2. out degree\n",
    "3. recriprocity\n",
    "4. rich club coefficient ( average degree, average 'officer degree' )\n",
    "5. modularity ( ego networks )\n",
    "6. cyclic coefficient\n",
    "7. label count for neighbors\n",
    "8. clustering coefficient\n",
    "9. page rank\n",
    "10. average neighbor degree\n",
    "\n",
    "## TO-DO\n",
    "1. Motifs\n",
    "2. Motifs of Neighbors\n",
    "3. Hierarchial Measures\n",
    "4. Radiality Centrality\n",
    "5. Functions of above said parameters to incorporate correlations?\n",
    "6. Should we create subgraphs of each node and compute measures that are meant for full graphs?"
   ]
  },
  {
   "cell_type": "markdown",
   "metadata": {
    "collapsed": true
   },
   "source": [
    "### Read as a Directed Graph"
   ]
  },
  {
   "cell_type": "code",
   "execution_count": null,
   "metadata": {
    "collapsed": true
   },
   "outputs": [],
   "source": [
    "G = nx.read_adjlist(\"../../fullgraphs/fullgraph.adjlist\",  create_using=nx.DiGraph())"
   ]
  },
  {
   "cell_type": "markdown",
   "metadata": {},
   "source": [
    "### In Degree"
   ]
  },
  {
   "cell_type": "code",
   "execution_count": null,
   "metadata": {
    "collapsed": true
   },
   "outputs": [],
   "source": [
    "print \"Calculating In Degree\"\n",
    "in_deg = G.in_degree()\n",
    "\n",
    "print \"Writing to file \"\n",
    "f = open( \"../../results/in_degree.csv\", 'wt' )\n",
    "writer = csv.writer(f)\n",
    "writer.writerow( (\"node_id\", \"in_degree\") )\n",
    "for key in in_deg.keys():\n",
    "    writer.writerow( ( key, in_deg[key] ) )\n",
    "f.close()"
   ]
  },
  {
   "cell_type": "markdown",
   "metadata": {},
   "source": [
    "### Out Degree"
   ]
  },
  {
   "cell_type": "code",
   "execution_count": null,
   "metadata": {
    "collapsed": true
   },
   "outputs": [],
   "source": [
    "print \"Calculating Out Degree\"\n",
    "out_deg = G.out_degree()\n",
    "\n",
    "print \"Writing to file \"\n",
    "f = open( \"../../results/out_degree.csv\", 'wt' )\n",
    "writer = csv.writer(f)\n",
    "writer.writerow( (\"node_id\", \"out_degree\") )\n",
    "for key in out_deg.keys():\n",
    "    writer.writerow( ( key, out_deg[key] ) )\n",
    "f.close()"
   ]
  },
  {
   "cell_type": "markdown",
   "metadata": {},
   "source": [
    "### Reciprocity"
   ]
  },
  {
   "cell_type": "code",
   "execution_count": null,
   "metadata": {
    "collapsed": true
   },
   "outputs": [],
   "source": [
    "def reciprocity(G):\n",
    "    recip = defaultdict(float)\n",
    "    for node in G.nodes():\n",
    "        pred = set(G.predecessors(node))\n",
    "        succ = set(G.successors(node))\n",
    "        overlap = pred & succ\n",
    "        n_total = len(pred) + len(succ)\n",
    "\n",
    "        # Reciprocity is not defined for isolated nodes.\n",
    "        # Return None.\n",
    "        if n_total == 0:\n",
    "            recip[node] = -1\n",
    "        else:\n",
    "            reciprocity = 2.0*float(len(overlap))/float(n_total)\n",
    "            recip[node] = reciprocity\n",
    "    return recip\n",
    "\n",
    "print \"Calculating Reciprocity\"\n",
    "recip = reciprocity(G)\n",
    "\n",
    "print \"Writing to file \"\n",
    "f = open( \"../../results/reciprocity.csv\", 'wt' )\n",
    "writer = csv.writer(f)\n",
    "writer.writerow( (\"node_id\", \"reciprocity\") )\n",
    "for key in recip.keys():\n",
    "    writer.writerow( ( key, recip[key] ) )\n",
    "f.close()"
   ]
  },
  {
   "cell_type": "markdown",
   "metadata": {},
   "source": [
    "### Read as an Undirected Graph"
   ]
  },
  {
   "cell_type": "markdown",
   "metadata": {},
   "source": [
    "### Clustering Coefficient"
   ]
  },
  {
   "cell_type": "code",
   "execution_count": null,
   "metadata": {
    "collapsed": true
   },
   "outputs": [],
   "source": [
    "print \"Computing clustering\"\n",
    "bc = nx.clustering( G )\n",
    "\n",
    "print \"Writing to file \"\n",
    "with open('../../results/clustering_coefficient.csv', 'w') as f:\n",
    "    [f.write('{0},{1}\\n'.format(key, value)) for key, value in bc.items()]"
   ]
  },
  {
   "cell_type": "markdown",
   "metadata": {},
   "source": [
    "### Page Rank"
   ]
  },
  {
   "cell_type": "code",
   "execution_count": null,
   "metadata": {
    "collapsed": true
   },
   "outputs": [],
   "source": [
    "print \"Calculating page rank\"\n",
    "pr = nx.pagerank_scipy(G)\n",
    "\n",
    "print \"Writing to file \"\n",
    "f = open( \"../../results/page_rank.csv\", 'wt' )\n",
    "writer = csv.writer(f)\n",
    "writer.writerow( (\"node_id\", \"page_rank\") )\n",
    "for key in pr.keys():\n",
    "    writer.writerow( ( key, pr[key] ) )\n",
    "f.close()"
   ]
  },
  {
   "cell_type": "markdown",
   "metadata": {},
   "source": [
    "### Average Neighbor Degree"
   ]
  },
  {
   "cell_type": "code",
   "execution_count": null,
   "metadata": {
    "collapsed": true
   },
   "outputs": [],
   "source": [
    "print \"Computing average neighbour degree\"\n",
    "nd = nx.average_neighbor_degree( G )\n",
    "\n",
    "print \"Writing to file \"\n",
    "with open('../../results/average_neighbour_degree.csv', 'w') as f:\n",
    "    [f.write('{0},{1}\\n'.format(key, value)) for key, value in nd.items()]"
   ]
  },
  {
   "cell_type": "markdown",
   "metadata": {},
   "source": [
    "### Combining measures into a feature matrix"
   ]
  },
  {
   "cell_type": "code",
   "execution_count": null,
   "metadata": {
    "collapsed": true
   },
   "outputs": [],
   "source": [
    "path ='../../results' # use your path\n",
    "allFiles = glob.glob(path + \"/*.csv\")\n",
    "frame = pd.DataFrame()\n",
    "list_ = []\n",
    "cnt = 1\n",
    "for file_ in allFiles:\n",
    "    print file_\n",
    "    df = pd.read_csv(file_,index_col=None, header=0)\n",
    "    if cnt != 1:\n",
    "        del df['id']\n",
    "    cnt += 1\n",
    "    print df.head()\n",
    "    list_.append(df)\n",
    "frame = pd.concat(list_, axis=1)\n",
    "print frame.head()\n",
    "frame.to_csv(\"../../results/ensemble.csv\", separator=',', index=False)\n",
    "print \"Done\""
   ]
  },
  {
   "cell_type": "markdown",
   "metadata": {},
   "source": [
    "### Adding labels to the feature matrix"
   ]
  },
  {
   "cell_type": "code",
   "execution_count": null,
   "metadata": {
    "collapsed": true
   },
   "outputs": [],
   "source": [
    "with open('../../fullgraphs/all_nodes_type.json') as data_file:\n",
    "    data = json.load(data_file)\n",
    "\n",
    "print \"Done loading Json\"\n",
    "\n",
    "df = pd.read_csv('../../results/ensemble.csv',index_col=None, header=0)\n",
    "lst = df['id']\n",
    "labels = []\n",
    "\n",
    "print \"started reading\"\n",
    "for i in range(len(lst)):\n",
    "    labels.append(data[str(lst[i])]['node_type'])\n",
    "print \"completed\"\n",
    "\n",
    "se = pd.Series(labels)\n",
    "df['label'] = se.values\n",
    "df.to_csv('../../ensemble.csv', separator=',', index=False)\n",
    "\n",
    "print \"Done\""
   ]
  },
  {
   "cell_type": "markdown",
   "metadata": {},
   "source": [
    "## Exploring the data"
   ]
  },
  {
   "cell_type": "code",
   "execution_count": 6,
   "metadata": {
    "collapsed": false
   },
   "outputs": [
    {
     "data": {
      "text/html": [
       "<div>\n",
       "<table border=\"1\" class=\"dataframe\">\n",
       "  <thead>\n",
       "    <tr style=\"text-align: right;\">\n",
       "      <th></th>\n",
       "      <th>id</th>\n",
       "      <th>rec</th>\n",
       "      <th>page_rank</th>\n",
       "      <th>avg_neighbour_deg</th>\n",
       "      <th>cc</th>\n",
       "      <th>out</th>\n",
       "      <th>in_deg</th>\n",
       "      <th>label</th>\n",
       "    </tr>\n",
       "  </thead>\n",
       "  <tbody>\n",
       "    <tr>\n",
       "      <th>0</th>\n",
       "      <td>287144</td>\n",
       "      <td>0.0</td>\n",
       "      <td>3.139258e-06</td>\n",
       "      <td>3.5</td>\n",
       "      <td>0.0</td>\n",
       "      <td>0</td>\n",
       "      <td>10</td>\n",
       "      <td>address</td>\n",
       "    </tr>\n",
       "    <tr>\n",
       "      <th>1</th>\n",
       "      <td>287145</td>\n",
       "      <td>0.0</td>\n",
       "      <td>8.378010e-07</td>\n",
       "      <td>3.0</td>\n",
       "      <td>0.0</td>\n",
       "      <td>0</td>\n",
       "      <td>1</td>\n",
       "      <td>address</td>\n",
       "    </tr>\n",
       "    <tr>\n",
       "      <th>2</th>\n",
       "      <td>287146</td>\n",
       "      <td>0.0</td>\n",
       "      <td>8.378010e-07</td>\n",
       "      <td>3.0</td>\n",
       "      <td>0.0</td>\n",
       "      <td>0</td>\n",
       "      <td>1</td>\n",
       "      <td>address</td>\n",
       "    </tr>\n",
       "    <tr>\n",
       "      <th>3</th>\n",
       "      <td>287147</td>\n",
       "      <td>0.0</td>\n",
       "      <td>9.740000e-07</td>\n",
       "      <td>2.0</td>\n",
       "      <td>0.0</td>\n",
       "      <td>0</td>\n",
       "      <td>1</td>\n",
       "      <td>address</td>\n",
       "    </tr>\n",
       "    <tr>\n",
       "      <th>4</th>\n",
       "      <td>287140</td>\n",
       "      <td>0.0</td>\n",
       "      <td>9.740000e-07</td>\n",
       "      <td>2.0</td>\n",
       "      <td>0.0</td>\n",
       "      <td>0</td>\n",
       "      <td>1</td>\n",
       "      <td>address</td>\n",
       "    </tr>\n",
       "  </tbody>\n",
       "</table>\n",
       "</div>"
      ],
      "text/plain": [
       "       id  rec     page_rank  avg_neighbour_deg   cc  out  in_deg    label\n",
       "0  287144  0.0  3.139258e-06                3.5  0.0    0      10  address\n",
       "1  287145  0.0  8.378010e-07                3.0  0.0    0       1  address\n",
       "2  287146  0.0  8.378010e-07                3.0  0.0    0       1  address\n",
       "3  287147  0.0  9.740000e-07                2.0  0.0    0       1  address\n",
       "4  287140  0.0  9.740000e-07                2.0  0.0    0       1  address"
      ]
     },
     "execution_count": 6,
     "metadata": {},
     "output_type": "execute_result"
    }
   ],
   "source": [
    "df = pd.read_csv(\"ensemble.csv\") \n",
    "df.head()"
   ]
  },
  {
   "cell_type": "code",
   "execution_count": 9,
   "metadata": {
    "collapsed": false
   },
   "outputs": [
    {
     "data": {
      "text/plain": [
       "<matplotlib.text.Text at 0x14dd30050>"
      ]
     },
     "execution_count": 9,
     "metadata": {},
     "output_type": "execute_result"
    },
    {
     "data": {
      "image/png": "[encoded data removed]",
      "text/plain": [
       "<matplotlib.figure.Figure at 0x14630a110>"
      ]
     },
     "metadata": {},
     "output_type": "display_data"
    }
   ],
   "source": [
    "# plots a bar graph of label frequency.               \n",
    "df.label.value_counts().plot(kind='bar')\n",
    "# puts a title on our graph\n",
    "plt.title(\"Distribution of Labels\")"
   ]
  },
  {
   "cell_type": "code",
   "execution_count": 33,
   "metadata": {
    "collapsed": false
   },
   "outputs": [
    {
     "data": {
      "text/plain": [
       "<matplotlib.text.Text at 0x2617cacd0>"
      ]
     },
     "execution_count": 33,
     "metadata": {},
     "output_type": "execute_result"
    },
    {
     "data": {
      "image/png": "[encoded data removed]",
      "text/plain": [
       "<matplotlib.figure.Figure at 0x261786ad0>"
      ]
     },
     "metadata": {},
     "output_type": "display_data"
    }
   ],
   "source": [
    "dict = {'entitities': 0, 'officers': 1, 'intermediates': 2, 'address': 3 }\n",
    "def nodetypeinput( label ):\n",
    "    return dict[label]\n",
    "df['nodetype'] = df['label'].apply(nodetypeinput)\n",
    "plt.scatter(df.nodetype, df.out, alpha=0.2)\n",
    "# sets the y axis lable\n",
    "plt.ylabel(\"Out Degree\")\n",
    "# formats the grid line style of our graphs                          \n",
    "plt.grid(b=True, which='major', axis='y')  \n",
    "plt.title(\"Label by Out-Degree\")"
   ]
  },
  {
   "cell_type": "code",
   "execution_count": 35,
   "metadata": {
    "collapsed": false
   },
   "outputs": [
    {
     "data": {
      "text/plain": [
       "<matplotlib.text.Text at 0x2658e3550>"
      ]
     },
     "execution_count": 35,
     "metadata": {},
     "output_type": "execute_result"
    },
    {
     "data": {
      "image/png": "[encoded data removed]",
      "text/plain": [
       "<matplotlib.figure.Figure at 0x261472f50>"
      ]
     },
     "metadata": {},
     "output_type": "display_data"
    }
   ],
   "source": [
    "plt.scatter(df.nodetype, df.in_deg, alpha=0.2)\n",
    "# sets the y axis lable\n",
    "plt.ylabel(\"In Degree\")\n",
    "# formats the grid line style of our graphs                          \n",
    "plt.grid(b=True, which='major', axis='y')  \n",
    "plt.ylim([0, 6000])\n",
    "plt.title(\"Label by In Degree\")"
   ]
  },
  {
   "cell_type": "code",
   "execution_count": 36,
   "metadata": {
    "collapsed": false
   },
   "outputs": [
    {
     "data": {
      "text/plain": [
       "<matplotlib.text.Text at 0x25f16bbd0>"
      ]
     },
     "execution_count": 36,
     "metadata": {},
     "output_type": "execute_result"
    },
    {
     "data": {
      "image/png": "[encoded data removed]",
      "text/plain": [
       "<matplotlib.figure.Figure at 0x25f190410>"
      ]
     },
     "metadata": {},
     "output_type": "display_data"
    }
   ],
   "source": [
    "plt.scatter(df.nodetype, df.rec, alpha=0.2)\n",
    "# sets the y axis lable\n",
    "plt.ylabel(\"Reciprocity\")\n",
    "# formats the grid line style of our graphs                          \n",
    "plt.grid(b=True, which='major', axis='y')  \n",
    "plt.title(\"Label by Reciprocity\")"
   ]
  },
  {
   "cell_type": "code",
   "execution_count": 40,
   "metadata": {
    "collapsed": false
   },
   "outputs": [
    {
     "data": {
      "text/plain": [
       "<matplotlib.text.Text at 0x268db6290>"
      ]
     },
     "execution_count": 40,
     "metadata": {},
     "output_type": "execute_result"
    },
    {
     "data": {
      "image/png": "[encoded data removed]",
      "text/plain": [
       "<matplotlib.figure.Figure at 0x2614a6710>"
      ]
     },
     "metadata": {},
     "output_type": "display_data"
    }
   ],
   "source": [
    "plt.scatter(df.nodetype, df.cc, alpha=0.2)\n",
    "# sets the y axis lable\n",
    "plt.ylabel(\"Clustering Coefficient\")\n",
    "# formats the grid line style of our graphs                          \n",
    "plt.grid(b=True, which='major', axis='y')  \n",
    "plt.title(\"Label by Clustering Coefficient\")"
   ]
  },
  {
   "cell_type": "code",
   "execution_count": 41,
   "metadata": {
    "collapsed": false
   },
   "outputs": [
    {
     "data": {
      "text/plain": [
       "<matplotlib.text.Text at 0x268d845d0>"
      ]
     },
     "execution_count": 41,
     "metadata": {},
     "output_type": "execute_result"
    },
    {
     "data": {
      "image/png": "[encoded data removed]",
      "text/plain": [
       "<matplotlib.figure.Figure at 0x25f190e10>"
      ]
     },
     "metadata": {},
     "output_type": "display_data"
    }
   ],
   "source": [
    "plt.scatter(df.nodetype, df.avg_neighbour_deg, alpha=0.2)\n",
    "# sets the y axis lable\n",
    "plt.ylabel(\"Neighbor Degree\")\n",
    "# formats the grid line style of our graphs                          \n",
    "plt.grid(b=True, which='major', axis='y')  \n",
    "plt.title(\"Label by Neighbor Degree\")"
   ]
  },
  {
   "cell_type": "code",
   "execution_count": 42,
   "metadata": {
    "collapsed": false
   },
   "outputs": [
    {
     "data": {
      "text/plain": [
       "<matplotlib.text.Text at 0x26b180fd0>"
      ]
     },
     "execution_count": 42,
     "metadata": {},
     "output_type": "execute_result"
    },
    {
     "data": {
      "image/png": "[encoded data removed]",
      "text/plain": [
       "<matplotlib.figure.Figure at 0x266c69b50>"
      ]
     },
     "metadata": {},
     "output_type": "display_data"
    }
   ],
   "source": [
    "plt.scatter(df.nodetype, df.page_rank, alpha=0.2)\n",
    "# sets the y axis lable\n",
    "plt.ylabel(\"Page Rank\")\n",
    "# formats the grid line style of our graphs                          \n",
    "plt.grid(b=True, which='major', axis='y')  \n",
    "plt.title(\"Label by Page Rank\")"
   ]
  },
  {
   "cell_type": "markdown",
   "metadata": {},
   "source": [
    "There appears to be reasonable variation in these features between the 4 labels given. We test whether this applies to identifying politicians and non politicians."
   ]
  },
  {
   "cell_type": "markdown",
   "metadata": {},
   "source": [
    "# Test and Train sets"
   ]
  },
  {
   "cell_type": "markdown",
   "metadata": {},
   "source": [
    "We had to manually pick out the politicians in the data and create our training and test sets by undersampling the non politicians and oversampling the politicians. We further divided this into 3 experiments.\n",
    "1. Politicians vs All Nodes ( Officers, Entities, Addresses, Intermediaries )\n",
    "2. Politicians vs Other officers\n",
    "3. Politicians vs Other People ( Parsed Dataset of names assumed to be associated with individuals and not any firm )"
   ]
  },
  {
   "cell_type": "markdown",
   "metadata": {},
   "source": [
    "## Politicians vs All Nodes"
   ]
  },
  {
   "cell_type": "code",
   "execution_count": 44,
   "metadata": {
    "collapsed": false,
    "scrolled": true
   },
   "outputs": [
    {
     "name": "stderr",
     "output_type": "stream",
     "text": [
      "/Users/ruhi/anaconda2/envs/gl-env/lib/python2.7/site-packages/pandas/core/indexing.py:284: SettingWithCopyWarning: \n",
      "A value is trying to be set on a copy of a slice from a DataFrame.\n",
      "Try using .loc[row_indexer,col_indexer] = value instead\n",
      "\n",
      "See the caveats in the documentation: http://pandas.pydata.org/pandas-docs/stable/indexing.html#indexing-view-versus-copy\n",
      "  self.obj[key] = _infer_fill_value(value)\n",
      "/Users/ruhi/anaconda2/envs/gl-env/lib/python2.7/site-packages/pandas/core/indexing.py:461: SettingWithCopyWarning: \n",
      "A value is trying to be set on a copy of a slice from a DataFrame.\n",
      "Try using .loc[row_indexer,col_indexer] = value instead\n",
      "\n",
      "See the caveats in the documentation: http://pandas.pydata.org/pandas-docs/stable/indexing.html#indexing-view-versus-copy\n",
      "  self.obj[item] = s\n"
     ]
    }
   ],
   "source": [
    "df = pd.read_csv('ensemble.csv', low_memory=False)\n",
    "pol_df = pd.read_csv('data/Politicians.csv', low_memory=False)\n",
    "id_lst = pol_df['node_id'].tolist()\n",
    "true_pos = df[df['id'].isin(id_lst)]\n",
    "true_pos.loc[:,'isPol'] = 1\n",
    "df = df.drop(df.index[df['id'].isin(id_lst)])\n",
    "sample = df.sample(frac=0.0003, replace=False)\n",
    "sample.loc[:,'isPol'] = 0\n",
    "frames = [true_pos, sample]\n",
    "data = pd.concat(frames)\n",
    "data.to_csv('classify-polit-vs-all.csv', index=False)"
   ]
  },
  {
   "cell_type": "markdown",
   "metadata": {},
   "source": [
    "### Load the dataset"
   ]
  },
  {
   "cell_type": "code",
   "execution_count": 47,
   "metadata": {
    "collapsed": false
   },
   "outputs": [
    {
     "data": {
      "text/html": [
       "<div>\n",
       "<table border=\"1\" class=\"dataframe\">\n",
       "  <thead>\n",
       "    <tr style=\"text-align: right;\">\n",
       "      <th></th>\n",
       "      <th>id</th>\n",
       "      <th>rec</th>\n",
       "      <th>page_rank</th>\n",
       "      <th>avg_neighbour_deg</th>\n",
       "      <th>cc</th>\n",
       "      <th>out</th>\n",
       "      <th>in_deg</th>\n",
       "      <th>label</th>\n",
       "      <th>isPol</th>\n",
       "    </tr>\n",
       "  </thead>\n",
       "  <tbody>\n",
       "    <tr>\n",
       "      <th>0</th>\n",
       "      <td>15005801</td>\n",
       "      <td>0.0</td>\n",
       "      <td>5.654392e-07</td>\n",
       "      <td>14737.0</td>\n",
       "      <td>0.0</td>\n",
       "      <td>1</td>\n",
       "      <td>0</td>\n",
       "      <td>officers</td>\n",
       "      <td>1</td>\n",
       "    </tr>\n",
       "    <tr>\n",
       "      <th>1</th>\n",
       "      <td>15001101</td>\n",
       "      <td>0.0</td>\n",
       "      <td>5.654392e-07</td>\n",
       "      <td>3.0</td>\n",
       "      <td>0.0</td>\n",
       "      <td>3</td>\n",
       "      <td>0</td>\n",
       "      <td>officers</td>\n",
       "      <td>1</td>\n",
       "    </tr>\n",
       "    <tr>\n",
       "      <th>2</th>\n",
       "      <td>12018969</td>\n",
       "      <td>0.0</td>\n",
       "      <td>5.654392e-07</td>\n",
       "      <td>203.0</td>\n",
       "      <td>0.0</td>\n",
       "      <td>2</td>\n",
       "      <td>0</td>\n",
       "      <td>officers</td>\n",
       "      <td>1</td>\n",
       "    </tr>\n",
       "    <tr>\n",
       "      <th>3</th>\n",
       "      <td>12048878</td>\n",
       "      <td>0.0</td>\n",
       "      <td>5.654392e-07</td>\n",
       "      <td>2.0</td>\n",
       "      <td>0.0</td>\n",
       "      <td>2</td>\n",
       "      <td>0</td>\n",
       "      <td>officers</td>\n",
       "      <td>1</td>\n",
       "    </tr>\n",
       "    <tr>\n",
       "      <th>4</th>\n",
       "      <td>12182910</td>\n",
       "      <td>0.0</td>\n",
       "      <td>5.654392e-07</td>\n",
       "      <td>3.0</td>\n",
       "      <td>0.0</td>\n",
       "      <td>3</td>\n",
       "      <td>0</td>\n",
       "      <td>officers</td>\n",
       "      <td>1</td>\n",
       "    </tr>\n",
       "  </tbody>\n",
       "</table>\n",
       "</div>"
      ],
      "text/plain": [
       "         id  rec     page_rank  avg_neighbour_deg   cc  out  in_deg     label  \\\n",
       "0  15005801  0.0  5.654392e-07            14737.0  0.0    1       0  officers   \n",
       "1  15001101  0.0  5.654392e-07                3.0  0.0    3       0  officers   \n",
       "2  12018969  0.0  5.654392e-07              203.0  0.0    2       0  officers   \n",
       "3  12048878  0.0  5.654392e-07                2.0  0.0    2       0  officers   \n",
       "4  12182910  0.0  5.654392e-07                3.0  0.0    3       0  officers   \n",
       "\n",
       "   isPol  \n",
       "0      1  \n",
       "1      1  \n",
       "2      1  \n",
       "3      1  \n",
       "4      1  "
      ]
     },
     "execution_count": 47,
     "metadata": {},
     "output_type": "execute_result"
    }
   ],
   "source": [
    "all_people = pd.read_csv(\"classify-polit-vs-all.csv\")\n",
    "all_people.head()"
   ]
  },
  {
   "cell_type": "code",
   "execution_count": 48,
   "metadata": {
    "collapsed": false
   },
   "outputs": [],
   "source": [
    "import graphlab"
   ]
  },
  {
   "cell_type": "code",
   "execution_count": 50,
   "metadata": {
    "collapsed": false
   },
   "outputs": [
    {
     "name": "stdout",
     "output_type": "stream",
     "text": [
      "This non-commercial license of GraphLab Create for academic use is assigned to ruhi.saraf@colorado.edu and will expire on October 28, 2017.\n"
     ]
    },
    {
     "name": "stderr",
     "output_type": "stream",
     "text": [
      "[INFO] graphlab.cython.cy_server: GraphLab Create v2.1 started. Logging: /tmp/graphlab_server_1478998135.log\n"
     ]
    }
   ],
   "source": [
    "nodes = graphlab.SFrame(all_people)\n",
    "train_data, test_data = nodes.random_split(0.8, seed=0)"
   ]
  },
  {
   "cell_type": "code",
   "execution_count": 60,
   "metadata": {
    "collapsed": false
   },
   "outputs": [],
   "source": [
    "features = train_data.column_names()\n",
    "features = features[1:-2]"
   ]
  },
  {
   "cell_type": "code",
   "execution_count": 61,
   "metadata": {
    "collapsed": false
   },
   "outputs": [
    {
     "data": {
      "text/html": [
       "<pre>WARNING: Detected extremely low variance for feature(s) 'rec' because all entries are nearly the same.\n",
       "Proceeding with model training using all features. If the model does not provide results of adequate quality, exclude the above mentioned feature(s) from the input dataset.</pre>"
      ],
      "text/plain": [
       "WARNING: Detected extremely low variance for feature(s) 'rec' because all entries are nearly the same.\n",
       "Proceeding with model training using all features. If the model does not provide results of adequate quality, exclude the above mentioned feature(s) from the input dataset."
      ]
     },
     "metadata": {},
     "output_type": "display_data"
    },
    {
     "data": {
      "text/html": [
       "<pre>Boosted trees classifier:</pre>"
      ],
      "text/plain": [
       "Boosted trees classifier:"
      ]
     },
     "metadata": {},
     "output_type": "display_data"
    },
    {
     "data": {
      "text/html": [
       "<pre>--------------------------------------------------------</pre>"
      ],
      "text/plain": [
       "--------------------------------------------------------"
      ]
     },
     "metadata": {},
     "output_type": "display_data"
    },
    {
     "data": {
      "text/html": [
       "<pre>Number of examples          : 330</pre>"
      ],
      "text/plain": [
       "Number of examples          : 330"
      ]
     },
     "metadata": {},
     "output_type": "display_data"
    },
    {
     "data": {
      "text/html": [
       "<pre>Number of classes           : 2</pre>"
      ],
      "text/plain": [
       "Number of classes           : 2"
      ]
     },
     "metadata": {},
     "output_type": "display_data"
    },
    {
     "data": {
      "text/html": [
       "<pre>Number of feature columns   : 4</pre>"
      ],
      "text/plain": [
       "Number of feature columns   : 4"
      ]
     },
     "metadata": {},
     "output_type": "display_data"
    },
    {
     "data": {
      "text/html": [
       "<pre>Number of unpacked features : 4</pre>"
      ],
      "text/plain": [
       "Number of unpacked features : 4"
      ]
     },
     "metadata": {},
     "output_type": "display_data"
    },
    {
     "data": {
      "text/html": [
       "<pre>+-----------+--------------+-------------------+---------------------+-------------------+---------------------+</pre>"
      ],
      "text/plain": [
       "+-----------+--------------+-------------------+---------------------+-------------------+---------------------+"
      ]
     },
     "metadata": {},
     "output_type": "display_data"
    },
    {
     "data": {
      "text/html": [
       "<pre>| Iteration | Elapsed Time | Training-accuracy | Validation-accuracy | Training-log_loss | Validation-log_loss |</pre>"
      ],
      "text/plain": [
       "| Iteration | Elapsed Time | Training-accuracy | Validation-accuracy | Training-log_loss | Validation-log_loss |"
      ]
     },
     "metadata": {},
     "output_type": "display_data"
    },
    {
     "data": {
      "text/html": [
       "<pre>+-----------+--------------+-------------------+---------------------+-------------------+---------------------+</pre>"
      ],
      "text/plain": [
       "+-----------+--------------+-------------------+---------------------+-------------------+---------------------+"
      ]
     },
     "metadata": {},
     "output_type": "display_data"
    },
    {
     "data": {
      "text/html": [
       "<pre>| 1         | 0.002107     | 0.857576          | 0.800000            | 0.541567          | 0.563167            |</pre>"
      ],
      "text/plain": [
       "| 1         | 0.002107     | 0.857576          | 0.800000            | 0.541567          | 0.563167            |"
      ]
     },
     "metadata": {},
     "output_type": "display_data"
    },
    {
     "data": {
      "text/html": [
       "<pre>| 2         | 0.003773     | 0.869697          | 0.752941            | 0.455066          | 0.499526            |</pre>"
      ],
      "text/plain": [
       "| 2         | 0.003773     | 0.869697          | 0.752941            | 0.455066          | 0.499526            |"
      ]
     },
     "metadata": {},
     "output_type": "display_data"
    },
    {
     "data": {
      "text/html": [
       "<pre>| 3         | 0.005373     | 0.863636          | 0.764706            | 0.396711          | 0.451016            |</pre>"
      ],
      "text/plain": [
       "| 3         | 0.005373     | 0.863636          | 0.764706            | 0.396711          | 0.451016            |"
      ]
     },
     "metadata": {},
     "output_type": "display_data"
    },
    {
     "data": {
      "text/html": [
       "<pre>| 4         | 0.011626     | 0.875758          | 0.776471            | 0.356360          | 0.417532            |</pre>"
      ],
      "text/plain": [
       "| 4         | 0.011626     | 0.875758          | 0.776471            | 0.356360          | 0.417532            |"
      ]
     },
     "metadata": {},
     "output_type": "display_data"
    },
    {
     "data": {
      "text/html": [
       "<pre>| 5         | 0.015070     | 0.893939          | 0.729412            | 0.322248          | 0.403965            |</pre>"
      ],
      "text/plain": [
       "| 5         | 0.015070     | 0.893939          | 0.729412            | 0.322248          | 0.403965            |"
      ]
     },
     "metadata": {},
     "output_type": "display_data"
    },
    {
     "data": {
      "text/html": [
       "<pre>| 6         | 0.016704     | 0.903030          | 0.717647            | 0.299982          | 0.386404            |</pre>"
      ],
      "text/plain": [
       "| 6         | 0.016704     | 0.903030          | 0.717647            | 0.299982          | 0.386404            |"
      ]
     },
     "metadata": {},
     "output_type": "display_data"
    },
    {
     "data": {
      "text/html": [
       "<pre>+-----------+--------------+-------------------+---------------------+-------------------+---------------------+</pre>"
      ],
      "text/plain": [
       "+-----------+--------------+-------------------+---------------------+-------------------+---------------------+"
      ]
     },
     "metadata": {},
     "output_type": "display_data"
    }
   ],
   "source": [
    "rm_classifier = graphlab.boosted_trees_classifier.create(train_data, target='isPol',features=[ 'rec','out', 'in_deg', 'avg_neighbour_deg'], validation_set=test_data)"
   ]
  },
  {
   "cell_type": "markdown",
   "metadata": {},
   "source": [
    "## Politicians vs Officers"
   ]
  },
  {
   "cell_type": "code",
   "execution_count": 62,
   "metadata": {
    "collapsed": true
   },
   "outputs": [],
   "source": [
    "df = pd.read_csv('ensemble.csv', low_memory=False)\n",
    "pol_df = pd.read_csv('data/Politicians.csv', low_memory=False)\n",
    "id_lst = pol_df['node_id'].tolist()\n",
    "true_pos = df[df['id'].isin(id_lst)]\n",
    "true_pos.loc[:,'isPol'] = 1\n",
    "df = df.drop(df.index[df['id'].isin(id_lst)])\n",
    "df  = df[df['label'] == 'officers']\n",
    "sample = df.sample(frac=0.0003, replace=False)\n",
    "sample.loc[:,'isPol'] = 0\n",
    "frames = [true_pos, sample]\n",
    "data = pd.concat(frames)\n",
    "data.to_csv('classify-polit-vs-off.csv', index=False)"
   ]
  },
  {
   "cell_type": "markdown",
   "metadata": {},
   "source": [
    "### Load the dataset"
   ]
  },
  {
   "cell_type": "code",
   "execution_count": 63,
   "metadata": {
    "collapsed": false
   },
   "outputs": [
    {
     "data": {
      "text/html": [
       "<div>\n",
       "<table border=\"1\" class=\"dataframe\">\n",
       "  <thead>\n",
       "    <tr style=\"text-align: right;\">\n",
       "      <th></th>\n",
       "      <th>id</th>\n",
       "      <th>rec</th>\n",
       "      <th>page_rank</th>\n",
       "      <th>avg_neighbour_deg</th>\n",
       "      <th>cc</th>\n",
       "      <th>out</th>\n",
       "      <th>in_deg</th>\n",
       "      <th>label</th>\n",
       "      <th>isPol</th>\n",
       "    </tr>\n",
       "  </thead>\n",
       "  <tbody>\n",
       "    <tr>\n",
       "      <th>0</th>\n",
       "      <td>15005801</td>\n",
       "      <td>0.0</td>\n",
       "      <td>5.654392e-07</td>\n",
       "      <td>14737.0</td>\n",
       "      <td>0.0</td>\n",
       "      <td>1</td>\n",
       "      <td>0</td>\n",
       "      <td>officers</td>\n",
       "      <td>1</td>\n",
       "    </tr>\n",
       "    <tr>\n",
       "      <th>1</th>\n",
       "      <td>15001101</td>\n",
       "      <td>0.0</td>\n",
       "      <td>5.654392e-07</td>\n",
       "      <td>3.0</td>\n",
       "      <td>0.0</td>\n",
       "      <td>3</td>\n",
       "      <td>0</td>\n",
       "      <td>officers</td>\n",
       "      <td>1</td>\n",
       "    </tr>\n",
       "    <tr>\n",
       "      <th>2</th>\n",
       "      <td>12018969</td>\n",
       "      <td>0.0</td>\n",
       "      <td>5.654392e-07</td>\n",
       "      <td>203.0</td>\n",
       "      <td>0.0</td>\n",
       "      <td>2</td>\n",
       "      <td>0</td>\n",
       "      <td>officers</td>\n",
       "      <td>1</td>\n",
       "    </tr>\n",
       "    <tr>\n",
       "      <th>3</th>\n",
       "      <td>12048878</td>\n",
       "      <td>0.0</td>\n",
       "      <td>5.654392e-07</td>\n",
       "      <td>2.0</td>\n",
       "      <td>0.0</td>\n",
       "      <td>2</td>\n",
       "      <td>0</td>\n",
       "      <td>officers</td>\n",
       "      <td>1</td>\n",
       "    </tr>\n",
       "    <tr>\n",
       "      <th>4</th>\n",
       "      <td>12182910</td>\n",
       "      <td>0.0</td>\n",
       "      <td>5.654392e-07</td>\n",
       "      <td>3.0</td>\n",
       "      <td>0.0</td>\n",
       "      <td>3</td>\n",
       "      <td>0</td>\n",
       "      <td>officers</td>\n",
       "      <td>1</td>\n",
       "    </tr>\n",
       "  </tbody>\n",
       "</table>\n",
       "</div>"
      ],
      "text/plain": [
       "         id  rec     page_rank  avg_neighbour_deg   cc  out  in_deg     label  \\\n",
       "0  15005801  0.0  5.654392e-07            14737.0  0.0    1       0  officers   \n",
       "1  15001101  0.0  5.654392e-07                3.0  0.0    3       0  officers   \n",
       "2  12018969  0.0  5.654392e-07              203.0  0.0    2       0  officers   \n",
       "3  12048878  0.0  5.654392e-07                2.0  0.0    2       0  officers   \n",
       "4  12182910  0.0  5.654392e-07                3.0  0.0    3       0  officers   \n",
       "\n",
       "   isPol  \n",
       "0      1  \n",
       "1      1  \n",
       "2      1  \n",
       "3      1  \n",
       "4      1  "
      ]
     },
     "execution_count": 63,
     "metadata": {},
     "output_type": "execute_result"
    }
   ],
   "source": [
    "officers = pd.read_csv(\"classify-polit-vs-off.csv\")\n",
    "officers.head()"
   ]
  },
  {
   "cell_type": "code",
   "execution_count": 67,
   "metadata": {
    "collapsed": true
   },
   "outputs": [],
   "source": [
    "nodes = graphlab.SFrame(officers)\n",
    "train_data, test_data = nodes.random_split(0.8, seed=0)"
   ]
  },
  {
   "cell_type": "code",
   "execution_count": 68,
   "metadata": {
    "collapsed": true
   },
   "outputs": [],
   "source": [
    "features = train_data.column_names()\n",
    "features = features[1:-2]"
   ]
  },
  {
   "cell_type": "code",
   "execution_count": 69,
   "metadata": {
    "collapsed": false
   },
   "outputs": [
    {
     "data": {
      "text/html": [
       "<pre>WARNING: Detected extremely low variance for feature(s) 'rec' because all entries are nearly the same.\n",
       "Proceeding with model training using all features. If the model does not provide results of adequate quality, exclude the above mentioned feature(s) from the input dataset.</pre>"
      ],
      "text/plain": [
       "WARNING: Detected extremely low variance for feature(s) 'rec' because all entries are nearly the same.\n",
       "Proceeding with model training using all features. If the model does not provide results of adequate quality, exclude the above mentioned feature(s) from the input dataset."
      ]
     },
     "metadata": {},
     "output_type": "display_data"
    },
    {
     "data": {
      "text/html": [
       "<pre>Boosted trees classifier:</pre>"
      ],
      "text/plain": [
       "Boosted trees classifier:"
      ]
     },
     "metadata": {},
     "output_type": "display_data"
    },
    {
     "data": {
      "text/html": [
       "<pre>--------------------------------------------------------</pre>"
      ],
      "text/plain": [
       "--------------------------------------------------------"
      ]
     },
     "metadata": {},
     "output_type": "display_data"
    },
    {
     "data": {
      "text/html": [
       "<pre>Number of examples          : 181</pre>"
      ],
      "text/plain": [
       "Number of examples          : 181"
      ]
     },
     "metadata": {},
     "output_type": "display_data"
    },
    {
     "data": {
      "text/html": [
       "<pre>Number of classes           : 2</pre>"
      ],
      "text/plain": [
       "Number of classes           : 2"
      ]
     },
     "metadata": {},
     "output_type": "display_data"
    },
    {
     "data": {
      "text/html": [
       "<pre>Number of feature columns   : 4</pre>"
      ],
      "text/plain": [
       "Number of feature columns   : 4"
      ]
     },
     "metadata": {},
     "output_type": "display_data"
    },
    {
     "data": {
      "text/html": [
       "<pre>Number of unpacked features : 4</pre>"
      ],
      "text/plain": [
       "Number of unpacked features : 4"
      ]
     },
     "metadata": {},
     "output_type": "display_data"
    },
    {
     "data": {
      "text/html": [
       "<pre>+-----------+--------------+-------------------+---------------------+-------------------+---------------------+</pre>"
      ],
      "text/plain": [
       "+-----------+--------------+-------------------+---------------------+-------------------+---------------------+"
      ]
     },
     "metadata": {},
     "output_type": "display_data"
    },
    {
     "data": {
      "text/html": [
       "<pre>| Iteration | Elapsed Time | Training-accuracy | Validation-accuracy | Training-log_loss | Validation-log_loss |</pre>"
      ],
      "text/plain": [
       "| Iteration | Elapsed Time | Training-accuracy | Validation-accuracy | Training-log_loss | Validation-log_loss |"
      ]
     },
     "metadata": {},
     "output_type": "display_data"
    },
    {
     "data": {
      "text/html": [
       "<pre>+-----------+--------------+-------------------+---------------------+-------------------+---------------------+</pre>"
      ],
      "text/plain": [
       "+-----------+--------------+-------------------+---------------------+-------------------+---------------------+"
      ]
     },
     "metadata": {},
     "output_type": "display_data"
    },
    {
     "data": {
      "text/html": [
       "<pre>| 1         | 0.003509     | 0.762431          | 0.666667            | 0.628127          | 0.664378            |</pre>"
      ],
      "text/plain": [
       "| 1         | 0.003509     | 0.762431          | 0.666667            | 0.628127          | 0.664378            |"
      ]
     },
     "metadata": {},
     "output_type": "display_data"
    },
    {
     "data": {
      "text/html": [
       "<pre>| 2         | 0.006070     | 0.751381          | 0.666667            | 0.596835          | 0.655360            |</pre>"
      ],
      "text/plain": [
       "| 2         | 0.006070     | 0.751381          | 0.666667            | 0.596835          | 0.655360            |"
      ]
     },
     "metadata": {},
     "output_type": "display_data"
    },
    {
     "data": {
      "text/html": [
       "<pre>| 3         | 0.007428     | 0.751381          | 0.666667            | 0.571077          | 0.643129            |</pre>"
      ],
      "text/plain": [
       "| 3         | 0.007428     | 0.751381          | 0.666667            | 0.571077          | 0.643129            |"
      ]
     },
     "metadata": {},
     "output_type": "display_data"
    },
    {
     "data": {
      "text/html": [
       "<pre>| 4         | 0.012447     | 0.751381          | 0.666667            | 0.549065          | 0.626411            |</pre>"
      ],
      "text/plain": [
       "| 4         | 0.012447     | 0.751381          | 0.666667            | 0.549065          | 0.626411            |"
      ]
     },
     "metadata": {},
     "output_type": "display_data"
    },
    {
     "data": {
      "text/html": [
       "<pre>| 5         | 0.014099     | 0.762431          | 0.636364            | 0.529536          | 0.633318            |</pre>"
      ],
      "text/plain": [
       "| 5         | 0.014099     | 0.762431          | 0.636364            | 0.529536          | 0.633318            |"
      ]
     },
     "metadata": {},
     "output_type": "display_data"
    },
    {
     "data": {
      "text/html": [
       "<pre>| 6         | 0.015432     | 0.767956          | 0.636364            | 0.516984          | 0.633690            |</pre>"
      ],
      "text/plain": [
       "| 6         | 0.015432     | 0.767956          | 0.636364            | 0.516984          | 0.633690            |"
      ]
     },
     "metadata": {},
     "output_type": "display_data"
    },
    {
     "data": {
      "text/html": [
       "<pre>+-----------+--------------+-------------------+---------------------+-------------------+---------------------+</pre>"
      ],
      "text/plain": [
       "+-----------+--------------+-------------------+---------------------+-------------------+---------------------+"
      ]
     },
     "metadata": {},
     "output_type": "display_data"
    }
   ],
   "source": [
    "rm_classifier = graphlab.boosted_trees_classifier.create(train_data, target='isPol',features=[ 'rec','out', 'in_deg', 'avg_neighbour_deg'], validation_set=test_data)"
   ]
  },
  {
   "cell_type": "markdown",
   "metadata": {},
   "source": [
    "## Politicians vs Other People ( Presumably )"
   ]
  },
  {
   "cell_type": "code",
   "execution_count": 70,
   "metadata": {
    "collapsed": true
   },
   "outputs": [],
   "source": [
    "off_df = pd.read_csv('data/Officers.csv', low_memory=False)\n",
    "people_node_ids = set()\n",
    "not_in_lst = [\"LTD\", \"CORP\", \"TRUST\", \"GROUP\", \"???\", \"BEARER\", \"LIMITED\",\n",
    "              \"FOUND\", \"HOLDING\", \"FUND\", \"@\", \"INC\", \"MANAGEMENT\", \"OVERSEAS\",\n",
    "              \"STOCK\", \"ADMIN\"]\n",
    "while len(people_node_ids) < 100:\n",
    "    temp = off_df.sample()\n",
    "    flag = True\n",
    "    for s in not_in_lst:\n",
    "        X = temp['name'].values[0]\n",
    "        if s in X.upper():\n",
    "            flag = False\n",
    "            break\n",
    "    if flag:\n",
    "        if temp['node_id'].values[0] not in id_lst:\n",
    "            people_node_ids.add(temp['node_id'].values[0])\n",
    "\n",
    "off_df = df.ix[df.index[df['id'].isin(people_node_ids)]]\n",
    "off_df.loc[:,'isPol'] = 0\n",
    "frames = [true_pos, off_df]\n",
    "data = pd.concat(frames)\n",
    "data.to_csv('classify-polit-vs-ppl.csv', index=False)"
   ]
  },
  {
   "cell_type": "code",
   "execution_count": 72,
   "metadata": {
    "collapsed": false
   },
   "outputs": [
    {
     "data": {
      "text/html": [
       "<div>\n",
       "<table border=\"1\" class=\"dataframe\">\n",
       "  <thead>\n",
       "    <tr style=\"text-align: right;\">\n",
       "      <th></th>\n",
       "      <th>id</th>\n",
       "      <th>rec</th>\n",
       "      <th>page_rank</th>\n",
       "      <th>avg_neighbour_deg</th>\n",
       "      <th>cc</th>\n",
       "      <th>out</th>\n",
       "      <th>in_deg</th>\n",
       "      <th>label</th>\n",
       "      <th>isPol</th>\n",
       "    </tr>\n",
       "  </thead>\n",
       "  <tbody>\n",
       "    <tr>\n",
       "      <th>0</th>\n",
       "      <td>15005801</td>\n",
       "      <td>0.0</td>\n",
       "      <td>5.654392e-07</td>\n",
       "      <td>14737.0</td>\n",
       "      <td>0.0</td>\n",
       "      <td>1</td>\n",
       "      <td>0</td>\n",
       "      <td>officers</td>\n",
       "      <td>1</td>\n",
       "    </tr>\n",
       "    <tr>\n",
       "      <th>1</th>\n",
       "      <td>15001101</td>\n",
       "      <td>0.0</td>\n",
       "      <td>5.654392e-07</td>\n",
       "      <td>3.0</td>\n",
       "      <td>0.0</td>\n",
       "      <td>3</td>\n",
       "      <td>0</td>\n",
       "      <td>officers</td>\n",
       "      <td>1</td>\n",
       "    </tr>\n",
       "    <tr>\n",
       "      <th>2</th>\n",
       "      <td>12018969</td>\n",
       "      <td>0.0</td>\n",
       "      <td>5.654392e-07</td>\n",
       "      <td>203.0</td>\n",
       "      <td>0.0</td>\n",
       "      <td>2</td>\n",
       "      <td>0</td>\n",
       "      <td>officers</td>\n",
       "      <td>1</td>\n",
       "    </tr>\n",
       "    <tr>\n",
       "      <th>3</th>\n",
       "      <td>12048878</td>\n",
       "      <td>0.0</td>\n",
       "      <td>5.654392e-07</td>\n",
       "      <td>2.0</td>\n",
       "      <td>0.0</td>\n",
       "      <td>2</td>\n",
       "      <td>0</td>\n",
       "      <td>officers</td>\n",
       "      <td>1</td>\n",
       "    </tr>\n",
       "    <tr>\n",
       "      <th>4</th>\n",
       "      <td>12182910</td>\n",
       "      <td>0.0</td>\n",
       "      <td>5.654392e-07</td>\n",
       "      <td>3.0</td>\n",
       "      <td>0.0</td>\n",
       "      <td>3</td>\n",
       "      <td>0</td>\n",
       "      <td>officers</td>\n",
       "      <td>1</td>\n",
       "    </tr>\n",
       "  </tbody>\n",
       "</table>\n",
       "</div>"
      ],
      "text/plain": [
       "         id  rec     page_rank  avg_neighbour_deg   cc  out  in_deg     label  \\\n",
       "0  15005801  0.0  5.654392e-07            14737.0  0.0    1       0  officers   \n",
       "1  15001101  0.0  5.654392e-07                3.0  0.0    3       0  officers   \n",
       "2  12018969  0.0  5.654392e-07              203.0  0.0    2       0  officers   \n",
       "3  12048878  0.0  5.654392e-07                2.0  0.0    2       0  officers   \n",
       "4  12182910  0.0  5.654392e-07                3.0  0.0    3       0  officers   \n",
       "\n",
       "   isPol  \n",
       "0      1  \n",
       "1      1  \n",
       "2      1  \n",
       "3      1  \n",
       "4      1  "
      ]
     },
     "execution_count": 72,
     "metadata": {},
     "output_type": "execute_result"
    }
   ],
   "source": [
    "people = pd.read_csv(\"classify-polit-vs-ppl.csv\")\n",
    "people.head()"
   ]
  },
  {
   "cell_type": "code",
   "execution_count": 74,
   "metadata": {
    "collapsed": true
   },
   "outputs": [],
   "source": [
    "nodes = graphlab.SFrame(people)\n",
    "train_data, test_data = nodes.random_split(0.8, seed=0)\n",
    "features = train_data.column_names()\n",
    "features = features[1:-2]"
   ]
  },
  {
   "cell_type": "code",
   "execution_count": 75,
   "metadata": {
    "collapsed": false
   },
   "outputs": [
    {
     "data": {
      "text/html": [
       "<pre>WARNING: Detected extremely low variance for feature(s) 'rec' because all entries are nearly the same.\n",
       "Proceeding with model training using all features. If the model does not provide results of adequate quality, exclude the above mentioned feature(s) from the input dataset.</pre>"
      ],
      "text/plain": [
       "WARNING: Detected extremely low variance for feature(s) 'rec' because all entries are nearly the same.\n",
       "Proceeding with model training using all features. If the model does not provide results of adequate quality, exclude the above mentioned feature(s) from the input dataset."
      ]
     },
     "metadata": {},
     "output_type": "display_data"
    },
    {
     "data": {
      "text/html": [
       "<pre>Boosted trees classifier:</pre>"
      ],
      "text/plain": [
       "Boosted trees classifier:"
      ]
     },
     "metadata": {},
     "output_type": "display_data"
    },
    {
     "data": {
      "text/html": [
       "<pre>--------------------------------------------------------</pre>"
      ],
      "text/plain": [
       "--------------------------------------------------------"
      ]
     },
     "metadata": {},
     "output_type": "display_data"
    },
    {
     "data": {
      "text/html": [
       "<pre>Number of examples          : 173</pre>"
      ],
      "text/plain": [
       "Number of examples          : 173"
      ]
     },
     "metadata": {},
     "output_type": "display_data"
    },
    {
     "data": {
      "text/html": [
       "<pre>Number of classes           : 2</pre>"
      ],
      "text/plain": [
       "Number of classes           : 2"
      ]
     },
     "metadata": {},
     "output_type": "display_data"
    },
    {
     "data": {
      "text/html": [
       "<pre>Number of feature columns   : 4</pre>"
      ],
      "text/plain": [
       "Number of feature columns   : 4"
      ]
     },
     "metadata": {},
     "output_type": "display_data"
    },
    {
     "data": {
      "text/html": [
       "<pre>Number of unpacked features : 4</pre>"
      ],
      "text/plain": [
       "Number of unpacked features : 4"
      ]
     },
     "metadata": {},
     "output_type": "display_data"
    },
    {
     "data": {
      "text/html": [
       "<pre>+-----------+--------------+-------------------+---------------------+-------------------+---------------------+</pre>"
      ],
      "text/plain": [
       "+-----------+--------------+-------------------+---------------------+-------------------+---------------------+"
      ]
     },
     "metadata": {},
     "output_type": "display_data"
    },
    {
     "data": {
      "text/html": [
       "<pre>| Iteration | Elapsed Time | Training-accuracy | Validation-accuracy | Training-log_loss | Validation-log_loss |</pre>"
      ],
      "text/plain": [
       "| Iteration | Elapsed Time | Training-accuracy | Validation-accuracy | Training-log_loss | Validation-log_loss |"
      ]
     },
     "metadata": {},
     "output_type": "display_data"
    },
    {
     "data": {
      "text/html": [
       "<pre>+-----------+--------------+-------------------+---------------------+-------------------+---------------------+</pre>"
      ],
      "text/plain": [
       "+-----------+--------------+-------------------+---------------------+-------------------+---------------------+"
      ]
     },
     "metadata": {},
     "output_type": "display_data"
    },
    {
     "data": {
      "text/html": [
       "<pre>| 1         | 0.001920     | 0.803468          | 0.700000            | 0.609944          | 0.633732            |</pre>"
      ],
      "text/plain": [
       "| 1         | 0.001920     | 0.803468          | 0.700000            | 0.609944          | 0.633732            |"
      ]
     },
     "metadata": {},
     "output_type": "display_data"
    },
    {
     "data": {
      "text/html": [
       "<pre>| 2         | 0.003651     | 0.803468          | 0.700000            | 0.554187          | 0.612084            |</pre>"
      ],
      "text/plain": [
       "| 2         | 0.003651     | 0.803468          | 0.700000            | 0.554187          | 0.612084            |"
      ]
     },
     "metadata": {},
     "output_type": "display_data"
    },
    {
     "data": {
      "text/html": [
       "<pre>| 3         | 0.005231     | 0.809249          | 0.700000            | 0.520622          | 0.615873            |</pre>"
      ],
      "text/plain": [
       "| 3         | 0.005231     | 0.809249          | 0.700000            | 0.520622          | 0.615873            |"
      ]
     },
     "metadata": {},
     "output_type": "display_data"
    },
    {
     "data": {
      "text/html": [
       "<pre>| 4         | 0.006963     | 0.815029          | 0.666667            | 0.493917          | 0.620193            |</pre>"
      ],
      "text/plain": [
       "| 4         | 0.006963     | 0.815029          | 0.666667            | 0.493917          | 0.620193            |"
      ]
     },
     "metadata": {},
     "output_type": "display_data"
    },
    {
     "data": {
      "text/html": [
       "<pre>| 5         | 0.008469     | 0.820809          | 0.666667            | 0.469574          | 0.629532            |</pre>"
      ],
      "text/plain": [
       "| 5         | 0.008469     | 0.820809          | 0.666667            | 0.469574          | 0.629532            |"
      ]
     },
     "metadata": {},
     "output_type": "display_data"
    },
    {
     "data": {
      "text/html": [
       "<pre>| 6         | 0.009934     | 0.820809          | 0.666667            | 0.452884          | 0.636748            |</pre>"
      ],
      "text/plain": [
       "| 6         | 0.009934     | 0.820809          | 0.666667            | 0.452884          | 0.636748            |"
      ]
     },
     "metadata": {},
     "output_type": "display_data"
    },
    {
     "data": {
      "text/html": [
       "<pre>+-----------+--------------+-------------------+---------------------+-------------------+---------------------+</pre>"
      ],
      "text/plain": [
       "+-----------+--------------+-------------------+---------------------+-------------------+---------------------+"
      ]
     },
     "metadata": {},
     "output_type": "display_data"
    }
   ],
   "source": [
    "rm_classifier = graphlab.boosted_trees_classifier.create(train_data, target='isPol',features=[ 'rec','out', 'in_deg', 'avg_neighbour_deg'], validation_set=test_data)"
   ]
  },
  {
   "cell_type": "code",
   "execution_count": null,
   "metadata": {
    "collapsed": true
   },
   "outputs": [],
   "source": []
  }
 ],
 "metadata": {
  "kernelspec": {
   "display_name": "Python 2",
   "language": "python",
   "name": "python2"
  },
  "language_info": {
   "codemirror_mode": {
    "name": "ipython",
    "version": 2
   },
   "file_extension": ".py",
   "mimetype": "text/x-python",
   "name": "python",
   "nbconvert_exporter": "python",
   "pygments_lexer": "ipython2",
   "version": "2.7.11"
  }
 },
 "nbformat": 4,
 "nbformat_minor": 0
}
