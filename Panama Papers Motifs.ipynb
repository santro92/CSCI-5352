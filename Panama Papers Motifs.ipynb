{
 "cells": [
  {
   "cell_type": "code",
   "execution_count": 1,
   "metadata": {
    "collapsed": true
   },
   "outputs": [],
   "source": [
    "import graphlab\n",
    "import pandas as pd"
   ]
  },
  {
   "cell_type": "markdown",
   "metadata": {},
   "source": [
    "# Load the motifs data"
   ]
  },
  {
   "cell_type": "code",
   "execution_count": 2,
   "metadata": {
    "collapsed": true
   },
   "outputs": [],
   "source": [
    "motifs = pd.read_csv('ensemble1.csv')"
   ]
  },
  {
   "cell_type": "code",
   "execution_count": 64,
   "metadata": {
    "collapsed": false
   },
   "outputs": [],
   "source": [
    "all_edges = pd.read_csv('fullgraphs/all_edges.csv', low_memory=False)"
   ]
  },
  {
   "cell_type": "code",
   "execution_count": 18,
   "metadata": {
    "collapsed": false
   },
   "outputs": [
    {
     "data": {
      "text/html": [
       "<div>\n",
       "<table border=\"1\" class=\"dataframe\">\n",
       "  <thead>\n",
       "    <tr style=\"text-align: right;\">\n",
       "      <th></th>\n",
       "      <th>total_2_1edge</th>\n",
       "      <th>total_2_indep</th>\n",
       "      <th>total_3_tris</th>\n",
       "      <th>total_2_star</th>\n",
       "      <th>total_3_1edge</th>\n",
       "      <th>total_3_indep</th>\n",
       "      <th>total_4_clique</th>\n",
       "      <th>total_4_chordcycle</th>\n",
       "      <th>total_4_tailed_tris</th>\n",
       "      <th>total_4_cycle</th>\n",
       "      <th>total_3_star</th>\n",
       "      <th>total_4_path</th>\n",
       "      <th>total_4_1edge</th>\n",
       "      <th>total_4_2edge</th>\n",
       "      <th>total_4_2star</th>\n",
       "      <th>total_4_tri</th>\n",
       "      <th>total_4_indep</th>\n",
       "      <th>filename</th>\n",
       "    </tr>\n",
       "  </thead>\n",
       "  <tbody>\n",
       "    <tr>\n",
       "      <th>0</th>\n",
       "      <td>1598</td>\n",
       "      <td>1276003</td>\n",
       "      <td>0</td>\n",
       "      <td>1276003</td>\n",
       "      <td>0</td>\n",
       "      <td>678833596</td>\n",
       "      <td>0</td>\n",
       "      <td>0</td>\n",
       "      <td>0</td>\n",
       "      <td>0</td>\n",
       "      <td>678833596</td>\n",
       "      <td>0</td>\n",
       "      <td>0</td>\n",
       "      <td>0</td>\n",
       "      <td>0</td>\n",
       "      <td>0</td>\n",
       "      <td>270684896405</td>\n",
       "      <td>./motifs/1.motifcount</td>\n",
       "    </tr>\n",
       "    <tr>\n",
       "      <th>1</th>\n",
       "      <td>1294</td>\n",
       "      <td>836571</td>\n",
       "      <td>0</td>\n",
       "      <td>836571</td>\n",
       "      <td>0</td>\n",
       "      <td>360283244</td>\n",
       "      <td>0</td>\n",
       "      <td>0</td>\n",
       "      <td>0</td>\n",
       "      <td>0</td>\n",
       "      <td>360283244</td>\n",
       "      <td>0</td>\n",
       "      <td>0</td>\n",
       "      <td>0</td>\n",
       "      <td>0</td>\n",
       "      <td>0</td>\n",
       "      <td>116281417001</td>\n",
       "      <td>./motifs/2.motifcount</td>\n",
       "    </tr>\n",
       "    <tr>\n",
       "      <th>2</th>\n",
       "      <td>745</td>\n",
       "      <td>277140</td>\n",
       "      <td>0</td>\n",
       "      <td>277140</td>\n",
       "      <td>0</td>\n",
       "      <td>68638340</td>\n",
       "      <td>0</td>\n",
       "      <td>0</td>\n",
       "      <td>0</td>\n",
       "      <td>0</td>\n",
       "      <td>68638340</td>\n",
       "      <td>0</td>\n",
       "      <td>0</td>\n",
       "      <td>0</td>\n",
       "      <td>0</td>\n",
       "      <td>0</td>\n",
       "      <td>12732412070</td>\n",
       "      <td>./motifs/3.motifcount</td>\n",
       "    </tr>\n",
       "    <tr>\n",
       "      <th>3</th>\n",
       "      <td>654</td>\n",
       "      <td>206392</td>\n",
       "      <td>0</td>\n",
       "      <td>10358</td>\n",
       "      <td>399152</td>\n",
       "      <td>43898334</td>\n",
       "      <td>0</td>\n",
       "      <td>0</td>\n",
       "      <td>0</td>\n",
       "      <td>20</td>\n",
       "      <td>386456</td>\n",
       "      <td>64297</td>\n",
       "      <td>122234811</td>\n",
       "      <td>138836</td>\n",
       "      <td>5351436</td>\n",
       "      <td>0</td>\n",
       "      <td>6972156145</td>\n",
       "      <td>./motifs/4.motifcount</td>\n",
       "    </tr>\n",
       "    <tr>\n",
       "      <th>4</th>\n",
       "      <td>597</td>\n",
       "      <td>177309</td>\n",
       "      <td>0</td>\n",
       "      <td>10745</td>\n",
       "      <td>333725</td>\n",
       "      <td>34940220</td>\n",
       "      <td>0</td>\n",
       "      <td>0</td>\n",
       "      <td>0</td>\n",
       "      <td>1</td>\n",
       "      <td>439224</td>\n",
       "      <td>62277</td>\n",
       "      <td>93903984</td>\n",
       "      <td>104882</td>\n",
       "      <td>4940300</td>\n",
       "      <td>0</td>\n",
       "      <td>5140325797</td>\n",
       "      <td>./motifs/5.motifcount</td>\n",
       "    </tr>\n",
       "  </tbody>\n",
       "</table>\n",
       "</div>"
      ],
      "text/plain": [
       "   total_2_1edge  total_2_indep  total_3_tris  total_2_star total_3_1edge  \\\n",
       "0           1598        1276003             0       1276003             0   \n",
       "1           1294         836571             0        836571             0   \n",
       "2            745         277140             0        277140             0   \n",
       "3            654         206392             0         10358        399152   \n",
       "4            597         177309             0         10745        333725   \n",
       "\n",
       "  total_3_indep  total_4_clique  total_4_chordcycle  total_4_tailed_tris  \\\n",
       "0     678833596               0                   0                    0   \n",
       "1     360283244               0                   0                    0   \n",
       "2      68638340               0                   0                    0   \n",
       "3      43898334               0                   0                    0   \n",
       "4      34940220               0                   0                    0   \n",
       "\n",
       "   total_4_cycle  total_3_star  total_4_path  total_4_1edge total_4_2edge  \\\n",
       "0              0     678833596             0              0             0   \n",
       "1              0     360283244             0              0             0   \n",
       "2              0      68638340             0              0             0   \n",
       "3             20        386456         64297      122234811        138836   \n",
       "4              1        439224         62277       93903984        104882   \n",
       "\n",
       "  total_4_2star  total_4_tri total_4_indep               filename  \n",
       "0             0            0  270684896405  ./motifs/1.motifcount  \n",
       "1             0            0  116281417001  ./motifs/2.motifcount  \n",
       "2             0            0   12732412070  ./motifs/3.motifcount  \n",
       "3       5351436            0    6972156145  ./motifs/4.motifcount  \n",
       "4       4940300            0    5140325797  ./motifs/5.motifcount  "
      ]
     },
     "execution_count": 18,
     "metadata": {},
     "output_type": "execute_result"
    }
   ],
   "source": [
    "motifs.head()"
   ]
  },
  {
   "cell_type": "code",
   "execution_count": 19,
   "metadata": {
    "collapsed": false
   },
   "outputs": [],
   "source": [
    "colmns = motifs.columns.tolist()\n",
    "colmns = colmns[-1:] + colmns[:-1]\n",
    "motifs = motifs[colmns]"
   ]
  },
  {
   "cell_type": "code",
   "execution_count": 20,
   "metadata": {
    "collapsed": false
   },
   "outputs": [
    {
     "data": {
      "text/html": [
       "<div>\n",
       "<table border=\"1\" class=\"dataframe\">\n",
       "  <thead>\n",
       "    <tr style=\"text-align: right;\">\n",
       "      <th></th>\n",
       "      <th>filename</th>\n",
       "      <th>total_2_1edge</th>\n",
       "      <th>total_2_indep</th>\n",
       "      <th>total_3_tris</th>\n",
       "      <th>total_2_star</th>\n",
       "      <th>total_3_1edge</th>\n",
       "      <th>total_3_indep</th>\n",
       "      <th>total_4_clique</th>\n",
       "      <th>total_4_chordcycle</th>\n",
       "      <th>total_4_tailed_tris</th>\n",
       "      <th>total_4_cycle</th>\n",
       "      <th>total_3_star</th>\n",
       "      <th>total_4_path</th>\n",
       "      <th>total_4_1edge</th>\n",
       "      <th>total_4_2edge</th>\n",
       "      <th>total_4_2star</th>\n",
       "      <th>total_4_tri</th>\n",
       "      <th>total_4_indep</th>\n",
       "    </tr>\n",
       "  </thead>\n",
       "  <tbody>\n",
       "    <tr>\n",
       "      <th>0</th>\n",
       "      <td>./motifs/1.motifcount</td>\n",
       "      <td>1598</td>\n",
       "      <td>1276003</td>\n",
       "      <td>0</td>\n",
       "      <td>1276003</td>\n",
       "      <td>0</td>\n",
       "      <td>678833596</td>\n",
       "      <td>0</td>\n",
       "      <td>0</td>\n",
       "      <td>0</td>\n",
       "      <td>0</td>\n",
       "      <td>678833596</td>\n",
       "      <td>0</td>\n",
       "      <td>0</td>\n",
       "      <td>0</td>\n",
       "      <td>0</td>\n",
       "      <td>0</td>\n",
       "      <td>270684896405</td>\n",
       "    </tr>\n",
       "    <tr>\n",
       "      <th>1</th>\n",
       "      <td>./motifs/2.motifcount</td>\n",
       "      <td>1294</td>\n",
       "      <td>836571</td>\n",
       "      <td>0</td>\n",
       "      <td>836571</td>\n",
       "      <td>0</td>\n",
       "      <td>360283244</td>\n",
       "      <td>0</td>\n",
       "      <td>0</td>\n",
       "      <td>0</td>\n",
       "      <td>0</td>\n",
       "      <td>360283244</td>\n",
       "      <td>0</td>\n",
       "      <td>0</td>\n",
       "      <td>0</td>\n",
       "      <td>0</td>\n",
       "      <td>0</td>\n",
       "      <td>116281417001</td>\n",
       "    </tr>\n",
       "    <tr>\n",
       "      <th>2</th>\n",
       "      <td>./motifs/3.motifcount</td>\n",
       "      <td>745</td>\n",
       "      <td>277140</td>\n",
       "      <td>0</td>\n",
       "      <td>277140</td>\n",
       "      <td>0</td>\n",
       "      <td>68638340</td>\n",
       "      <td>0</td>\n",
       "      <td>0</td>\n",
       "      <td>0</td>\n",
       "      <td>0</td>\n",
       "      <td>68638340</td>\n",
       "      <td>0</td>\n",
       "      <td>0</td>\n",
       "      <td>0</td>\n",
       "      <td>0</td>\n",
       "      <td>0</td>\n",
       "      <td>12732412070</td>\n",
       "    </tr>\n",
       "    <tr>\n",
       "      <th>3</th>\n",
       "      <td>./motifs/4.motifcount</td>\n",
       "      <td>654</td>\n",
       "      <td>206392</td>\n",
       "      <td>0</td>\n",
       "      <td>10358</td>\n",
       "      <td>399152</td>\n",
       "      <td>43898334</td>\n",
       "      <td>0</td>\n",
       "      <td>0</td>\n",
       "      <td>0</td>\n",
       "      <td>20</td>\n",
       "      <td>386456</td>\n",
       "      <td>64297</td>\n",
       "      <td>122234811</td>\n",
       "      <td>138836</td>\n",
       "      <td>5351436</td>\n",
       "      <td>0</td>\n",
       "      <td>6972156145</td>\n",
       "    </tr>\n",
       "    <tr>\n",
       "      <th>4</th>\n",
       "      <td>./motifs/5.motifcount</td>\n",
       "      <td>597</td>\n",
       "      <td>177309</td>\n",
       "      <td>0</td>\n",
       "      <td>10745</td>\n",
       "      <td>333725</td>\n",
       "      <td>34940220</td>\n",
       "      <td>0</td>\n",
       "      <td>0</td>\n",
       "      <td>0</td>\n",
       "      <td>1</td>\n",
       "      <td>439224</td>\n",
       "      <td>62277</td>\n",
       "      <td>93903984</td>\n",
       "      <td>104882</td>\n",
       "      <td>4940300</td>\n",
       "      <td>0</td>\n",
       "      <td>5140325797</td>\n",
       "    </tr>\n",
       "  </tbody>\n",
       "</table>\n",
       "</div>"
      ],
      "text/plain": [
       "                filename  total_2_1edge  total_2_indep  total_3_tris  \\\n",
       "0  ./motifs/1.motifcount           1598        1276003             0   \n",
       "1  ./motifs/2.motifcount           1294         836571             0   \n",
       "2  ./motifs/3.motifcount            745         277140             0   \n",
       "3  ./motifs/4.motifcount            654         206392             0   \n",
       "4  ./motifs/5.motifcount            597         177309             0   \n",
       "\n",
       "   total_2_star total_3_1edge total_3_indep  total_4_clique  \\\n",
       "0       1276003             0     678833596               0   \n",
       "1        836571             0     360283244               0   \n",
       "2        277140             0      68638340               0   \n",
       "3         10358        399152      43898334               0   \n",
       "4         10745        333725      34940220               0   \n",
       "\n",
       "   total_4_chordcycle  total_4_tailed_tris  total_4_cycle  total_3_star  \\\n",
       "0                   0                    0              0     678833596   \n",
       "1                   0                    0              0     360283244   \n",
       "2                   0                    0              0      68638340   \n",
       "3                   0                    0             20        386456   \n",
       "4                   0                    0              1        439224   \n",
       "\n",
       "   total_4_path  total_4_1edge total_4_2edge total_4_2star  total_4_tri  \\\n",
       "0             0              0             0             0            0   \n",
       "1             0              0             0             0            0   \n",
       "2             0              0             0             0            0   \n",
       "3         64297      122234811        138836       5351436            0   \n",
       "4         62277       93903984        104882       4940300            0   \n",
       "\n",
       "  total_4_indep  \n",
       "0  270684896405  \n",
       "1  116281417001  \n",
       "2   12732412070  \n",
       "3    6972156145  \n",
       "4    5140325797  "
      ]
     },
     "execution_count": 20,
     "metadata": {},
     "output_type": "execute_result"
    }
   ],
   "source": [
    "motifs.head()"
   ]
  },
  {
   "cell_type": "code",
   "execution_count": 21,
   "metadata": {
    "collapsed": false
   },
   "outputs": [],
   "source": [
    "filenames = motifs['filename']"
   ]
  },
  {
   "cell_type": "code",
   "execution_count": 22,
   "metadata": {
    "collapsed": false
   },
   "outputs": [],
   "source": [
    "del motifs['filename']\n",
    "indexes = motifs.columns"
   ]
  },
  {
   "cell_type": "markdown",
   "metadata": {},
   "source": [
    "## Normalize the rows"
   ]
  },
  {
   "cell_type": "code",
   "execution_count": 23,
   "metadata": {
    "collapsed": false
   },
   "outputs": [],
   "source": [
    "tmotifs = motifs.transpose()"
   ]
  },
  {
   "cell_type": "code",
   "execution_count": 24,
   "metadata": {
    "collapsed": false
   },
   "outputs": [
    {
     "data": {
      "text/html": [
       "<div>\n",
       "<table border=\"1\" class=\"dataframe\">\n",
       "  <thead>\n",
       "    <tr style=\"text-align: right;\">\n",
       "      <th></th>\n",
       "      <th>0</th>\n",
       "      <th>1</th>\n",
       "      <th>2</th>\n",
       "      <th>3</th>\n",
       "      <th>4</th>\n",
       "      <th>5</th>\n",
       "      <th>6</th>\n",
       "      <th>7</th>\n",
       "      <th>8</th>\n",
       "      <th>9</th>\n",
       "      <th>...</th>\n",
       "      <th>4638</th>\n",
       "      <th>4639</th>\n",
       "      <th>4640</th>\n",
       "      <th>4641</th>\n",
       "      <th>4642</th>\n",
       "      <th>4643</th>\n",
       "      <th>4644</th>\n",
       "      <th>4645</th>\n",
       "      <th>4646</th>\n",
       "      <th>4647</th>\n",
       "    </tr>\n",
       "  </thead>\n",
       "  <tbody>\n",
       "    <tr>\n",
       "      <th>total_2_1edge</th>\n",
       "      <td>1598</td>\n",
       "      <td>1294</td>\n",
       "      <td>745</td>\n",
       "      <td>654</td>\n",
       "      <td>597</td>\n",
       "      <td>560</td>\n",
       "      <td>408</td>\n",
       "      <td>503</td>\n",
       "      <td>386</td>\n",
       "      <td>377</td>\n",
       "      <td>...</td>\n",
       "      <td>3</td>\n",
       "      <td>3</td>\n",
       "      <td>3</td>\n",
       "      <td>3</td>\n",
       "      <td>3</td>\n",
       "      <td>3</td>\n",
       "      <td>3</td>\n",
       "      <td>3</td>\n",
       "      <td>3</td>\n",
       "      <td>3</td>\n",
       "    </tr>\n",
       "    <tr>\n",
       "      <th>total_2_indep</th>\n",
       "      <td>1276003</td>\n",
       "      <td>836571</td>\n",
       "      <td>277140</td>\n",
       "      <td>206392</td>\n",
       "      <td>177309</td>\n",
       "      <td>156520</td>\n",
       "      <td>83028</td>\n",
       "      <td>81712</td>\n",
       "      <td>74305</td>\n",
       "      <td>70876</td>\n",
       "      <td>...</td>\n",
       "      <td>3</td>\n",
       "      <td>3</td>\n",
       "      <td>3</td>\n",
       "      <td>3</td>\n",
       "      <td>3</td>\n",
       "      <td>3</td>\n",
       "      <td>3</td>\n",
       "      <td>3</td>\n",
       "      <td>3</td>\n",
       "      <td>3</td>\n",
       "    </tr>\n",
       "    <tr>\n",
       "      <th>total_3_tris</th>\n",
       "      <td>0</td>\n",
       "      <td>0</td>\n",
       "      <td>0</td>\n",
       "      <td>0</td>\n",
       "      <td>0</td>\n",
       "      <td>0</td>\n",
       "      <td>0</td>\n",
       "      <td>14</td>\n",
       "      <td>0</td>\n",
       "      <td>0</td>\n",
       "      <td>...</td>\n",
       "      <td>0</td>\n",
       "      <td>0</td>\n",
       "      <td>0</td>\n",
       "      <td>0</td>\n",
       "      <td>0</td>\n",
       "      <td>0</td>\n",
       "      <td>0</td>\n",
       "      <td>0</td>\n",
       "      <td>0</td>\n",
       "      <td>0</td>\n",
       "    </tr>\n",
       "    <tr>\n",
       "      <th>total_2_star</th>\n",
       "      <td>1276003</td>\n",
       "      <td>836571</td>\n",
       "      <td>277140</td>\n",
       "      <td>10358</td>\n",
       "      <td>10745</td>\n",
       "      <td>156520</td>\n",
       "      <td>54765</td>\n",
       "      <td>3643</td>\n",
       "      <td>73921</td>\n",
       "      <td>70127</td>\n",
       "      <td>...</td>\n",
       "      <td>2</td>\n",
       "      <td>3</td>\n",
       "      <td>3</td>\n",
       "      <td>2</td>\n",
       "      <td>2</td>\n",
       "      <td>3</td>\n",
       "      <td>2</td>\n",
       "      <td>3</td>\n",
       "      <td>2</td>\n",
       "      <td>2</td>\n",
       "    </tr>\n",
       "    <tr>\n",
       "      <th>total_3_1edge</th>\n",
       "      <td>0</td>\n",
       "      <td>0</td>\n",
       "      <td>0</td>\n",
       "      <td>399152</td>\n",
       "      <td>333725</td>\n",
       "      <td>0</td>\n",
       "      <td>56526</td>\n",
       "      <td>195884</td>\n",
       "      <td>768</td>\n",
       "      <td>1498</td>\n",
       "      <td>...</td>\n",
       "      <td>2</td>\n",
       "      <td>0</td>\n",
       "      <td>0</td>\n",
       "      <td>2</td>\n",
       "      <td>2</td>\n",
       "      <td>0</td>\n",
       "      <td>2</td>\n",
       "      <td>0</td>\n",
       "      <td>2</td>\n",
       "      <td>2</td>\n",
       "    </tr>\n",
       "  </tbody>\n",
       "</table>\n",
       "<p>5 rows × 4648 columns</p>\n",
       "</div>"
      ],
      "text/plain": [
       "                  0       1       2       3       4       5      6       7     \\\n",
       "total_2_1edge     1598    1294     745     654     597     560    408     503   \n",
       "total_2_indep  1276003  836571  277140  206392  177309  156520  83028   81712   \n",
       "total_3_tris         0       0       0       0       0       0      0      14   \n",
       "total_2_star   1276003  836571  277140   10358   10745  156520  54765    3643   \n",
       "total_3_1edge        0       0       0  399152  333725       0  56526  195884   \n",
       "\n",
       "                8      9    ...  4638 4639 4640 4641 4642 4643 4644 4645 4646  \\\n",
       "total_2_1edge    386    377 ...     3    3    3    3    3    3    3    3    3   \n",
       "total_2_indep  74305  70876 ...     3    3    3    3    3    3    3    3    3   \n",
       "total_3_tris       0      0 ...     0    0    0    0    0    0    0    0    0   \n",
       "total_2_star   73921  70127 ...     2    3    3    2    2    3    2    3    2   \n",
       "total_3_1edge    768   1498 ...     2    0    0    2    2    0    2    0    2   \n",
       "\n",
       "              4647  \n",
       "total_2_1edge    3  \n",
       "total_2_indep    3  \n",
       "total_3_tris     0  \n",
       "total_2_star     2  \n",
       "total_3_1edge    2  \n",
       "\n",
       "[5 rows x 4648 columns]"
      ]
     },
     "execution_count": 24,
     "metadata": {},
     "output_type": "execute_result"
    }
   ],
   "source": [
    "tmotifs.head()"
   ]
  },
  {
   "cell_type": "code",
   "execution_count": 25,
   "metadata": {
    "collapsed": false
   },
   "outputs": [],
   "source": [
    "from sklearn import preprocessing"
   ]
  },
  {
   "cell_type": "code",
   "execution_count": 26,
   "metadata": {
    "collapsed": false
   },
   "outputs": [],
   "source": [
    "columns = tmotifs.columns"
   ]
  },
  {
   "cell_type": "code",
   "execution_count": 27,
   "metadata": {
    "collapsed": false
   },
   "outputs": [],
   "source": [
    "std_scale = preprocessing.MinMaxScaler().fit(tmotifs[columns])"
   ]
  },
  {
   "cell_type": "code",
   "execution_count": 28,
   "metadata": {
    "collapsed": true
   },
   "outputs": [],
   "source": [
    "tmotif_std = std_scale.transform(tmotifs[columns])"
   ]
  },
  {
   "cell_type": "code",
   "execution_count": 29,
   "metadata": {
    "collapsed": false
   },
   "outputs": [],
   "source": [
    "tmotifs = pd.DataFrame(tmotif_std, index=indexes)"
   ]
  },
  {
   "cell_type": "code",
   "execution_count": 30,
   "metadata": {
    "collapsed": false
   },
   "outputs": [
    {
     "data": {
      "text/html": [
       "<div>\n",
       "<table border=\"1\" class=\"dataframe\">\n",
       "  <thead>\n",
       "    <tr style=\"text-align: right;\">\n",
       "      <th></th>\n",
       "      <th>total_2_1edge</th>\n",
       "      <th>total_2_indep</th>\n",
       "      <th>total_3_tris</th>\n",
       "      <th>total_2_star</th>\n",
       "      <th>total_3_1edge</th>\n",
       "      <th>total_3_indep</th>\n",
       "      <th>total_4_clique</th>\n",
       "      <th>total_4_chordcycle</th>\n",
       "      <th>total_4_tailed_tris</th>\n",
       "      <th>total_4_cycle</th>\n",
       "      <th>total_3_star</th>\n",
       "      <th>total_4_path</th>\n",
       "      <th>total_4_1edge</th>\n",
       "      <th>total_4_2edge</th>\n",
       "      <th>total_4_2star</th>\n",
       "      <th>total_4_tri</th>\n",
       "      <th>total_4_indep</th>\n",
       "    </tr>\n",
       "  </thead>\n",
       "  <tbody>\n",
       "    <tr>\n",
       "      <th>0</th>\n",
       "      <td>5.903543e-09</td>\n",
       "      <td>0.000005</td>\n",
       "      <td>0.0</td>\n",
       "      <td>0.000005</td>\n",
       "      <td>0.000000</td>\n",
       "      <td>0.002508</td>\n",
       "      <td>0.0</td>\n",
       "      <td>0.0</td>\n",
       "      <td>0.0</td>\n",
       "      <td>0.000000e+00</td>\n",
       "      <td>0.002508</td>\n",
       "      <td>0.000000</td>\n",
       "      <td>0.000000</td>\n",
       "      <td>0.00000</td>\n",
       "      <td>0.000000</td>\n",
       "      <td>0.0</td>\n",
       "      <td>1.0</td>\n",
       "    </tr>\n",
       "    <tr>\n",
       "      <th>1</th>\n",
       "      <td>1.112818e-08</td>\n",
       "      <td>0.000007</td>\n",
       "      <td>0.0</td>\n",
       "      <td>0.000007</td>\n",
       "      <td>0.000000</td>\n",
       "      <td>0.003098</td>\n",
       "      <td>0.0</td>\n",
       "      <td>0.0</td>\n",
       "      <td>0.0</td>\n",
       "      <td>0.000000e+00</td>\n",
       "      <td>0.003098</td>\n",
       "      <td>0.000000</td>\n",
       "      <td>0.000000</td>\n",
       "      <td>0.00000</td>\n",
       "      <td>0.000000</td>\n",
       "      <td>0.0</td>\n",
       "      <td>1.0</td>\n",
       "    </tr>\n",
       "    <tr>\n",
       "      <th>2</th>\n",
       "      <td>5.851209e-08</td>\n",
       "      <td>0.000022</td>\n",
       "      <td>0.0</td>\n",
       "      <td>0.000022</td>\n",
       "      <td>0.000000</td>\n",
       "      <td>0.005391</td>\n",
       "      <td>0.0</td>\n",
       "      <td>0.0</td>\n",
       "      <td>0.0</td>\n",
       "      <td>0.000000e+00</td>\n",
       "      <td>0.005391</td>\n",
       "      <td>0.000000</td>\n",
       "      <td>0.000000</td>\n",
       "      <td>0.00000</td>\n",
       "      <td>0.000000</td>\n",
       "      <td>0.0</td>\n",
       "      <td>1.0</td>\n",
       "    </tr>\n",
       "    <tr>\n",
       "      <th>3</th>\n",
       "      <td>9.380169e-08</td>\n",
       "      <td>0.000030</td>\n",
       "      <td>0.0</td>\n",
       "      <td>0.000001</td>\n",
       "      <td>0.000057</td>\n",
       "      <td>0.006296</td>\n",
       "      <td>0.0</td>\n",
       "      <td>0.0</td>\n",
       "      <td>0.0</td>\n",
       "      <td>2.868553e-09</td>\n",
       "      <td>0.000055</td>\n",
       "      <td>0.000009</td>\n",
       "      <td>0.017532</td>\n",
       "      <td>0.00002</td>\n",
       "      <td>0.000768</td>\n",
       "      <td>0.0</td>\n",
       "      <td>1.0</td>\n",
       "    </tr>\n",
       "    <tr>\n",
       "      <th>4</th>\n",
       "      <td>1.161405e-07</td>\n",
       "      <td>0.000034</td>\n",
       "      <td>0.0</td>\n",
       "      <td>0.000002</td>\n",
       "      <td>0.000065</td>\n",
       "      <td>0.006797</td>\n",
       "      <td>0.0</td>\n",
       "      <td>0.0</td>\n",
       "      <td>0.0</td>\n",
       "      <td>1.945402e-10</td>\n",
       "      <td>0.000085</td>\n",
       "      <td>0.000012</td>\n",
       "      <td>0.018268</td>\n",
       "      <td>0.00002</td>\n",
       "      <td>0.000961</td>\n",
       "      <td>0.0</td>\n",
       "      <td>1.0</td>\n",
       "    </tr>\n",
       "  </tbody>\n",
       "</table>\n",
       "</div>"
      ],
      "text/plain": [
       "   total_2_1edge  total_2_indep  total_3_tris  total_2_star  total_3_1edge  \\\n",
       "0   5.903543e-09       0.000005           0.0      0.000005       0.000000   \n",
       "1   1.112818e-08       0.000007           0.0      0.000007       0.000000   \n",
       "2   5.851209e-08       0.000022           0.0      0.000022       0.000000   \n",
       "3   9.380169e-08       0.000030           0.0      0.000001       0.000057   \n",
       "4   1.161405e-07       0.000034           0.0      0.000002       0.000065   \n",
       "\n",
       "   total_3_indep  total_4_clique  total_4_chordcycle  total_4_tailed_tris  \\\n",
       "0       0.002508             0.0                 0.0                  0.0   \n",
       "1       0.003098             0.0                 0.0                  0.0   \n",
       "2       0.005391             0.0                 0.0                  0.0   \n",
       "3       0.006296             0.0                 0.0                  0.0   \n",
       "4       0.006797             0.0                 0.0                  0.0   \n",
       "\n",
       "   total_4_cycle  total_3_star  total_4_path  total_4_1edge  total_4_2edge  \\\n",
       "0   0.000000e+00      0.002508      0.000000       0.000000        0.00000   \n",
       "1   0.000000e+00      0.003098      0.000000       0.000000        0.00000   \n",
       "2   0.000000e+00      0.005391      0.000000       0.000000        0.00000   \n",
       "3   2.868553e-09      0.000055      0.000009       0.017532        0.00002   \n",
       "4   1.945402e-10      0.000085      0.000012       0.018268        0.00002   \n",
       "\n",
       "   total_4_2star  total_4_tri  total_4_indep  \n",
       "0       0.000000          0.0            1.0  \n",
       "1       0.000000          0.0            1.0  \n",
       "2       0.000000          0.0            1.0  \n",
       "3       0.000768          0.0            1.0  \n",
       "4       0.000961          0.0            1.0  "
      ]
     },
     "execution_count": 30,
     "metadata": {},
     "output_type": "execute_result"
    }
   ],
   "source": [
    "tmotifs = tmotifs.transpose()\n",
    "tmotifs.head()"
   ]
  },
  {
   "cell_type": "code",
   "execution_count": 31,
   "metadata": {
    "collapsed": false
   },
   "outputs": [],
   "source": [
    "tmotifs['filename'] = filenames[:]"
   ]
  },
  {
   "cell_type": "code",
   "execution_count": null,
   "metadata": {
    "collapsed": false
   },
   "outputs": [],
   "source": []
  },
  {
   "cell_type": "markdown",
   "metadata": {
    "collapsed": true
   },
   "source": [
    "## Build a kmeans clustering model"
   ]
  },
  {
   "cell_type": "code",
   "execution_count": 32,
   "metadata": {
    "collapsed": false
   },
   "outputs": [],
   "source": [
    "graph_data = graphlab.SFrame(tmotifs)"
   ]
  },
  {
   "cell_type": "code",
   "execution_count": 33,
   "metadata": {
    "collapsed": false
   },
   "outputs": [
    {
     "data": {
      "text/html": [
       "<pre>Batch size is larger than the input dataset. Switching to an exact Kmeans method.</pre>"
      ],
      "text/plain": [
       "Batch size is larger than the input dataset. Switching to an exact Kmeans method."
      ]
     },
     "metadata": {},
     "output_type": "display_data"
    },
    {
     "data": {
      "text/html": [
       "<pre>Choosing initial cluster centers with Kmeans++.</pre>"
      ],
      "text/plain": [
       "Choosing initial cluster centers with Kmeans++."
      ]
     },
     "metadata": {},
     "output_type": "display_data"
    },
    {
     "data": {
      "text/html": [
       "<pre>+---------------+-----------+</pre>"
      ],
      "text/plain": [
       "+---------------+-----------+"
      ]
     },
     "metadata": {},
     "output_type": "display_data"
    },
    {
     "data": {
      "text/html": [
       "<pre>| Center number | Row index |</pre>"
      ],
      "text/plain": [
       "| Center number | Row index |"
      ]
     },
     "metadata": {},
     "output_type": "display_data"
    },
    {
     "data": {
      "text/html": [
       "<pre>+---------------+-----------+</pre>"
      ],
      "text/plain": [
       "+---------------+-----------+"
      ]
     },
     "metadata": {},
     "output_type": "display_data"
    },
    {
     "data": {
      "text/html": [
       "<pre>| 0             | 1278      |</pre>"
      ],
      "text/plain": [
       "| 0             | 1278      |"
      ]
     },
     "metadata": {},
     "output_type": "display_data"
    },
    {
     "data": {
      "text/html": [
       "<pre>| 1             | 3666      |</pre>"
      ],
      "text/plain": [
       "| 1             | 3666      |"
      ]
     },
     "metadata": {},
     "output_type": "display_data"
    },
    {
     "data": {
      "text/html": [
       "<pre>| 2             | 1798      |</pre>"
      ],
      "text/plain": [
       "| 2             | 1798      |"
      ]
     },
     "metadata": {},
     "output_type": "display_data"
    },
    {
     "data": {
      "text/html": [
       "<pre>+---------------+-----------+</pre>"
      ],
      "text/plain": [
       "+---------------+-----------+"
      ]
     },
     "metadata": {},
     "output_type": "display_data"
    },
    {
     "data": {
      "text/html": [
       "<pre>Starting kmeans model training.</pre>"
      ],
      "text/plain": [
       "Starting kmeans model training."
      ]
     },
     "metadata": {},
     "output_type": "display_data"
    },
    {
     "data": {
      "text/html": [
       "<pre>Assigning points to initial cluster centers.</pre>"
      ],
      "text/plain": [
       "Assigning points to initial cluster centers."
      ]
     },
     "metadata": {},
     "output_type": "display_data"
    },
    {
     "data": {
      "text/html": [
       "<pre>+-----------+-------------------------------+</pre>"
      ],
      "text/plain": [
       "+-----------+-------------------------------+"
      ]
     },
     "metadata": {},
     "output_type": "display_data"
    },
    {
     "data": {
      "text/html": [
       "<pre>| Iteration | Number of changed assignments |</pre>"
      ],
      "text/plain": [
       "| Iteration | Number of changed assignments |"
      ]
     },
     "metadata": {},
     "output_type": "display_data"
    },
    {
     "data": {
      "text/html": [
       "<pre>+-----------+-------------------------------+</pre>"
      ],
      "text/plain": [
       "+-----------+-------------------------------+"
      ]
     },
     "metadata": {},
     "output_type": "display_data"
    },
    {
     "data": {
      "text/html": [
       "<pre>| 1         | 198                           |</pre>"
      ],
      "text/plain": [
       "| 1         | 198                           |"
      ]
     },
     "metadata": {},
     "output_type": "display_data"
    },
    {
     "data": {
      "text/html": [
       "<pre>| 2         | 66                            |</pre>"
      ],
      "text/plain": [
       "| 2         | 66                            |"
      ]
     },
     "metadata": {},
     "output_type": "display_data"
    },
    {
     "data": {
      "text/html": [
       "<pre>| 3         | 27                            |</pre>"
      ],
      "text/plain": [
       "| 3         | 27                            |"
      ]
     },
     "metadata": {},
     "output_type": "display_data"
    },
    {
     "data": {
      "text/html": [
       "<pre>| 4         | 21                            |</pre>"
      ],
      "text/plain": [
       "| 4         | 21                            |"
      ]
     },
     "metadata": {},
     "output_type": "display_data"
    },
    {
     "data": {
      "text/html": [
       "<pre>| 5         | 5                             |</pre>"
      ],
      "text/plain": [
       "| 5         | 5                             |"
      ]
     },
     "metadata": {},
     "output_type": "display_data"
    },
    {
     "data": {
      "text/html": [
       "<pre>| 6         | 0                             |</pre>"
      ],
      "text/plain": [
       "| 6         | 0                             |"
      ]
     },
     "metadata": {},
     "output_type": "display_data"
    },
    {
     "data": {
      "text/html": [
       "<pre>+-----------+-------------------------------+</pre>"
      ],
      "text/plain": [
       "+-----------+-------------------------------+"
      ]
     },
     "metadata": {},
     "output_type": "display_data"
    }
   ],
   "source": [
    "simple_3_model = graphlab.kmeans.create(graph_data, num_clusters=3, label='filename')"
   ]
  },
  {
   "cell_type": "code",
   "execution_count": 34,
   "metadata": {
    "collapsed": false
   },
   "outputs": [],
   "source": [
    "cluster_ids = simple_3_model['cluster_id']"
   ]
  },
  {
   "cell_type": "code",
   "execution_count": 35,
   "metadata": {
    "collapsed": false
   },
   "outputs": [],
   "source": [
    "graphs_cluster0 = cluster_ids[cluster_ids['cluster_id'] == 0]\n",
    "graphs_cluster1 = cluster_ids[cluster_ids['cluster_id'] == 1]\n",
    "graphs_cluster2 = cluster_ids[cluster_ids['cluster_id'] == 2]"
   ]
  },
  {
   "cell_type": "code",
   "execution_count": 46,
   "metadata": {
    "collapsed": false
   },
   "outputs": [
    {
     "data": {
      "text/html": [
       "<div style=\"max-height:1000px;max-width:1500px;overflow:auto;\"><table frame=\"box\" rules=\"cols\">\n",
       "    <tr>\n",
       "        <th style=\"padding-left: 1em; padding-right: 1em; text-align: center\">filename</th>\n",
       "        <th style=\"padding-left: 1em; padding-right: 1em; text-align: center\">cluster_id</th>\n",
       "        <th style=\"padding-left: 1em; padding-right: 1em; text-align: center\">distance</th>\n",
       "    </tr>\n",
       "    <tr>\n",
       "        <td style=\"padding-left: 1em; padding-right: 1em; text-align: center; vertical-align: top\">./motifs/3407.motifcount</td>\n",
       "        <td style=\"padding-left: 1em; padding-right: 1em; text-align: center; vertical-align: top\">1</td>\n",
       "        <td style=\"padding-left: 1em; padding-right: 1em; text-align: center; vertical-align: top\">0.441151171923</td>\n",
       "    </tr>\n",
       "    <tr>\n",
       "        <td style=\"padding-left: 1em; padding-right: 1em; text-align: center; vertical-align: top\">./motifs/3425.motifcount</td>\n",
       "        <td style=\"padding-left: 1em; padding-right: 1em; text-align: center; vertical-align: top\">1</td>\n",
       "        <td style=\"padding-left: 1em; padding-right: 1em; text-align: center; vertical-align: top\">0.441151171923</td>\n",
       "    </tr>\n",
       "    <tr>\n",
       "        <td style=\"padding-left: 1em; padding-right: 1em; text-align: center; vertical-align: top\">./motifs/3430.motifcount</td>\n",
       "        <td style=\"padding-left: 1em; padding-right: 1em; text-align: center; vertical-align: top\">1</td>\n",
       "        <td style=\"padding-left: 1em; padding-right: 1em; text-align: center; vertical-align: top\">0.441151171923</td>\n",
       "    </tr>\n",
       "    <tr>\n",
       "        <td style=\"padding-left: 1em; padding-right: 1em; text-align: center; vertical-align: top\">./motifs/3365.motifcount</td>\n",
       "        <td style=\"padding-left: 1em; padding-right: 1em; text-align: center; vertical-align: top\">1</td>\n",
       "        <td style=\"padding-left: 1em; padding-right: 1em; text-align: center; vertical-align: top\">0.441151171923</td>\n",
       "    </tr>\n",
       "    <tr>\n",
       "        <td style=\"padding-left: 1em; padding-right: 1em; text-align: center; vertical-align: top\">./motifs/3364.motifcount</td>\n",
       "        <td style=\"padding-left: 1em; padding-right: 1em; text-align: center; vertical-align: top\">1</td>\n",
       "        <td style=\"padding-left: 1em; padding-right: 1em; text-align: center; vertical-align: top\">0.441151171923</td>\n",
       "    </tr>\n",
       "    <tr>\n",
       "        <td style=\"padding-left: 1em; padding-right: 1em; text-align: center; vertical-align: top\">./motifs/3361.motifcount</td>\n",
       "        <td style=\"padding-left: 1em; padding-right: 1em; text-align: center; vertical-align: top\">1</td>\n",
       "        <td style=\"padding-left: 1em; padding-right: 1em; text-align: center; vertical-align: top\">0.441151171923</td>\n",
       "    </tr>\n",
       "    <tr>\n",
       "        <td style=\"padding-left: 1em; padding-right: 1em; text-align: center; vertical-align: top\">./motifs/3447.motifcount</td>\n",
       "        <td style=\"padding-left: 1em; padding-right: 1em; text-align: center; vertical-align: top\">1</td>\n",
       "        <td style=\"padding-left: 1em; padding-right: 1em; text-align: center; vertical-align: top\">0.441151171923</td>\n",
       "    </tr>\n",
       "    <tr>\n",
       "        <td style=\"padding-left: 1em; padding-right: 1em; text-align: center; vertical-align: top\">./motifs/3448.motifcount</td>\n",
       "        <td style=\"padding-left: 1em; padding-right: 1em; text-align: center; vertical-align: top\">1</td>\n",
       "        <td style=\"padding-left: 1em; padding-right: 1em; text-align: center; vertical-align: top\">0.441151171923</td>\n",
       "    </tr>\n",
       "    <tr>\n",
       "        <td style=\"padding-left: 1em; padding-right: 1em; text-align: center; vertical-align: top\">./motifs/3353.motifcount</td>\n",
       "        <td style=\"padding-left: 1em; padding-right: 1em; text-align: center; vertical-align: top\">1</td>\n",
       "        <td style=\"padding-left: 1em; padding-right: 1em; text-align: center; vertical-align: top\">0.441151171923</td>\n",
       "    </tr>\n",
       "    <tr>\n",
       "        <td style=\"padding-left: 1em; padding-right: 1em; text-align: center; vertical-align: top\">./motifs/3345.motifcount</td>\n",
       "        <td style=\"padding-left: 1em; padding-right: 1em; text-align: center; vertical-align: top\">1</td>\n",
       "        <td style=\"padding-left: 1em; padding-right: 1em; text-align: center; vertical-align: top\">0.441151171923</td>\n",
       "    </tr>\n",
       "</table>\n",
       "[1912 rows x 3 columns]<br/>Note: Only the head of the SFrame is printed.<br/>You can use print_rows(num_rows=m, num_columns=n) to print more rows and columns.\n",
       "</div>"
      ],
      "text/plain": [
       "Columns:\n",
       "\tfilename\tstr\n",
       "\tcluster_id\tint\n",
       "\tdistance\tfloat\n",
       "\n",
       "Rows: 1912\n",
       "\n",
       "Data:\n",
       "+--------------------------+------------+----------------+\n",
       "|         filename         | cluster_id |    distance    |\n",
       "+--------------------------+------------+----------------+\n",
       "| ./motifs/3407.motifcount |     1      | 0.441151171923 |\n",
       "| ./motifs/3425.motifcount |     1      | 0.441151171923 |\n",
       "| ./motifs/3430.motifcount |     1      | 0.441151171923 |\n",
       "| ./motifs/3365.motifcount |     1      | 0.441151171923 |\n",
       "| ./motifs/3364.motifcount |     1      | 0.441151171923 |\n",
       "| ./motifs/3361.motifcount |     1      | 0.441151171923 |\n",
       "| ./motifs/3447.motifcount |     1      | 0.441151171923 |\n",
       "| ./motifs/3448.motifcount |     1      | 0.441151171923 |\n",
       "| ./motifs/3353.motifcount |     1      | 0.441151171923 |\n",
       "| ./motifs/3345.motifcount |     1      | 0.441151171923 |\n",
       "+--------------------------+------------+----------------+\n",
       "[1912 rows x 3 columns]\n",
       "Note: Only the head of the SFrame is printed.\n",
       "You can use print_rows(num_rows=m, num_columns=n) to print more rows and columns."
      ]
     },
     "execution_count": 46,
     "metadata": {},
     "output_type": "execute_result"
    }
   ],
   "source": [
    "graphs_cluster1.sort('distance')"
   ]
  },
  {
   "cell_type": "code",
   "execution_count": 48,
   "metadata": {
    "collapsed": false
   },
   "outputs": [],
   "source": [
    "import networkx as nx\n",
    "import matplotlib.pylab as plt\n",
    "%matplotlib inline"
   ]
  },
  {
   "cell_type": "code",
   "execution_count": 49,
   "metadata": {
    "collapsed": true
   },
   "outputs": [],
   "source": [
    "import json\n",
    "with open('fullgraphs/all_nodes_type.json') as data_file:    \n",
    "    data = json.load(data_file)"
   ]
  },
  {
   "cell_type": "code",
   "execution_count": 73,
   "metadata": {
    "collapsed": false
   },
   "outputs": [
    {
     "name": "stdout",
     "output_type": "stream",
     "text": [
      "(u'11005328', u'10092985')\n",
      "(u'10092985', u'12139925')\n",
      "(u'10092985', u'12139927')\n",
      "(u'10092985', u'12139926')\n",
      "(u'14029727', u'12139925')\n",
      "(u'14029727', u'12139927')\n",
      "(u'14029727', u'12139926')\n"
     ]
    }
   ],
   "source": [
    "G_1 = nx.read_adjlist(\"subgraphs/3430-subgraph.adjlist\")\n",
    "label = {}\n",
    "for edge in G_1.edges():\n",
    "    print edge\n",
    "#nx.draw_networkx(G_1,pos=nx.spring_layout(G_1), labels=label)"
   ]
  },
  {
   "cell_type": "code",
   "execution_count": 75,
   "metadata": {
    "collapsed": false
   },
   "outputs": [
    {
     "ename": "SyntaxError",
     "evalue": "invalid syntax (<ipython-input-75-c8e378fde79a>, line 1)",
     "output_type": "error",
     "traceback": [
      "\u001b[0;36m  File \u001b[0;32m\"<ipython-input-75-c8e378fde79a>\"\u001b[0;36m, line \u001b[0;32m1\u001b[0m\n\u001b[0;31m    all_edges[ (all_edges['node_1'] == 10092985) && (all_edges['node_2'] == 11005328) ]\u001b[0m\n\u001b[0m                                                  ^\u001b[0m\n\u001b[0;31mSyntaxError\u001b[0m\u001b[0;31m:\u001b[0m invalid syntax\n"
     ]
    }
   ],
   "source": [
    "all_edges[ (all_edges['node_1'] == 10092985) && (all_edges['node_2'] == 11005328) ]"
   ]
  },
  {
   "cell_type": "code",
   "execution_count": 85,
   "metadata": {
    "collapsed": false
   },
   "outputs": [
    {
     "data": {
      "text/html": [
       "<div style=\"max-height:1000px;max-width:1500px;overflow:auto;\"><table frame=\"box\" rules=\"cols\">\n",
       "    <tr>\n",
       "        <th style=\"padding-left: 1em; padding-right: 1em; text-align: center\">filename</th>\n",
       "        <th style=\"padding-left: 1em; padding-right: 1em; text-align: center\">cluster_id</th>\n",
       "        <th style=\"padding-left: 1em; padding-right: 1em; text-align: center\">distance</th>\n",
       "    </tr>\n",
       "    <tr>\n",
       "        <td style=\"padding-left: 1em; padding-right: 1em; text-align: center; vertical-align: top\">./motifs/2187.motifcount</td>\n",
       "        <td style=\"padding-left: 1em; padding-right: 1em; text-align: center; vertical-align: top\">1</td>\n",
       "        <td style=\"padding-left: 1em; padding-right: 1em; text-align: center; vertical-align: top\">0.232016041875</td>\n",
       "    </tr>\n",
       "    <tr>\n",
       "        <td style=\"padding-left: 1em; padding-right: 1em; text-align: center; vertical-align: top\">./motifs/2384.motifcount</td>\n",
       "        <td style=\"padding-left: 1em; padding-right: 1em; text-align: center; vertical-align: top\">1</td>\n",
       "        <td style=\"padding-left: 1em; padding-right: 1em; text-align: center; vertical-align: top\">0.232016041875</td>\n",
       "    </tr>\n",
       "    <tr>\n",
       "        <td style=\"padding-left: 1em; padding-right: 1em; text-align: center; vertical-align: top\">./motifs/2382.motifcount</td>\n",
       "        <td style=\"padding-left: 1em; padding-right: 1em; text-align: center; vertical-align: top\">1</td>\n",
       "        <td style=\"padding-left: 1em; padding-right: 1em; text-align: center; vertical-align: top\">0.232016041875</td>\n",
       "    </tr>\n",
       "    <tr>\n",
       "        <td style=\"padding-left: 1em; padding-right: 1em; text-align: center; vertical-align: top\">./motifs/2378.motifcount</td>\n",
       "        <td style=\"padding-left: 1em; padding-right: 1em; text-align: center; vertical-align: top\">1</td>\n",
       "        <td style=\"padding-left: 1em; padding-right: 1em; text-align: center; vertical-align: top\">0.232016041875</td>\n",
       "    </tr>\n",
       "    <tr>\n",
       "        <td style=\"padding-left: 1em; padding-right: 1em; text-align: center; vertical-align: top\">./motifs/2374.motifcount</td>\n",
       "        <td style=\"padding-left: 1em; padding-right: 1em; text-align: center; vertical-align: top\">1</td>\n",
       "        <td style=\"padding-left: 1em; padding-right: 1em; text-align: center; vertical-align: top\">0.232016041875</td>\n",
       "    </tr>\n",
       "    <tr>\n",
       "        <td style=\"padding-left: 1em; padding-right: 1em; text-align: center; vertical-align: top\">./motifs/2369.motifcount</td>\n",
       "        <td style=\"padding-left: 1em; padding-right: 1em; text-align: center; vertical-align: top\">1</td>\n",
       "        <td style=\"padding-left: 1em; padding-right: 1em; text-align: center; vertical-align: top\">0.232016041875</td>\n",
       "    </tr>\n",
       "    <tr>\n",
       "        <td style=\"padding-left: 1em; padding-right: 1em; text-align: center; vertical-align: top\">./motifs/2365.motifcount</td>\n",
       "        <td style=\"padding-left: 1em; padding-right: 1em; text-align: center; vertical-align: top\">1</td>\n",
       "        <td style=\"padding-left: 1em; padding-right: 1em; text-align: center; vertical-align: top\">0.232016041875</td>\n",
       "    </tr>\n",
       "    <tr>\n",
       "        <td style=\"padding-left: 1em; padding-right: 1em; text-align: center; vertical-align: top\">./motifs/2364.motifcount</td>\n",
       "        <td style=\"padding-left: 1em; padding-right: 1em; text-align: center; vertical-align: top\">1</td>\n",
       "        <td style=\"padding-left: 1em; padding-right: 1em; text-align: center; vertical-align: top\">0.232016041875</td>\n",
       "    </tr>\n",
       "    <tr>\n",
       "        <td style=\"padding-left: 1em; padding-right: 1em; text-align: center; vertical-align: top\">./motifs/2361.motifcount</td>\n",
       "        <td style=\"padding-left: 1em; padding-right: 1em; text-align: center; vertical-align: top\">1</td>\n",
       "        <td style=\"padding-left: 1em; padding-right: 1em; text-align: center; vertical-align: top\">0.232016041875</td>\n",
       "    </tr>\n",
       "    <tr>\n",
       "        <td style=\"padding-left: 1em; padding-right: 1em; text-align: center; vertical-align: top\">./motifs/2357.motifcount</td>\n",
       "        <td style=\"padding-left: 1em; padding-right: 1em; text-align: center; vertical-align: top\">1</td>\n",
       "        <td style=\"padding-left: 1em; padding-right: 1em; text-align: center; vertical-align: top\">0.232016041875</td>\n",
       "    </tr>\n",
       "</table>\n",
       "[337 rows x 3 columns]<br/>Note: Only the head of the SFrame is printed.<br/>You can use print_rows(num_rows=m, num_columns=n) to print more rows and columns.\n",
       "</div>"
      ],
      "text/plain": [
       "Columns:\n",
       "\tfilename\tstr\n",
       "\tcluster_id\tint\n",
       "\tdistance\tfloat\n",
       "\n",
       "Rows: 337\n",
       "\n",
       "Data:\n",
       "+--------------------------+------------+----------------+\n",
       "|         filename         | cluster_id |    distance    |\n",
       "+--------------------------+------------+----------------+\n",
       "| ./motifs/2187.motifcount |     1      | 0.232016041875 |\n",
       "| ./motifs/2384.motifcount |     1      | 0.232016041875 |\n",
       "| ./motifs/2382.motifcount |     1      | 0.232016041875 |\n",
       "| ./motifs/2378.motifcount |     1      | 0.232016041875 |\n",
       "| ./motifs/2374.motifcount |     1      | 0.232016041875 |\n",
       "| ./motifs/2369.motifcount |     1      | 0.232016041875 |\n",
       "| ./motifs/2365.motifcount |     1      | 0.232016041875 |\n",
       "| ./motifs/2364.motifcount |     1      | 0.232016041875 |\n",
       "| ./motifs/2361.motifcount |     1      | 0.232016041875 |\n",
       "| ./motifs/2357.motifcount |     1      | 0.232016041875 |\n",
       "+--------------------------+------------+----------------+\n",
       "[337 rows x 3 columns]\n",
       "Note: Only the head of the SFrame is printed.\n",
       "You can use print_rows(num_rows=m, num_columns=n) to print more rows and columns."
      ]
     },
     "execution_count": 85,
     "metadata": {},
     "output_type": "execute_result"
    }
   ],
   "source": []
  },
  {
   "cell_type": "code",
   "execution_count": 133,
   "metadata": {
    "collapsed": false
   },
   "outputs": [
    {
     "name": "stdout",
     "output_type": "stream",
     "text": [
      "{u'10077053': u'entitities', u'11010669': u'intermediates', u'10071219': u'entitities', u'10063989': u'entitities', u'10071206': u'entitities', u'10070026': u'entitities', u'10060865': u'entitities', u'10064431': u'entitities'}\n"
     ]
    },
    {
     "data": {
      "image/png": "[encoded data removed]",
      "text/plain": [
       "<matplotlib.figure.Figure at 0x130f3bd90>"
      ]
     },
     "metadata": {},
     "output_type": "display_data"
    }
   ],
   "source": [
    "G_3 =  nx.read_adjlist(\"subgraphs/2187-subgraph.adjlist\")\n",
    "label = {}\n",
    "for node in G_3:\n",
    "    label[node] = data[str(node)]['node_type']\n",
    "print label\n",
    "nx.draw_networkx(G_3,pos=nx.spring_layout(G_3), labels=label)"
   ]
  },
  {
   "cell_type": "code",
   "execution_count": 134,
   "metadata": {
    "collapsed": false
   },
   "outputs": [
    {
     "name": "stdout",
     "output_type": "stream",
     "text": [
      "{u'12092774': u'officers', u'12092775': u'officers', u'12092776': u'officers', u'12092777': u'officers', u'10029448': u'entitities', u'12092773': u'officers', u'12093051': u'officers', u'11002520': u'intermediates'}\n"
     ]
    },
    {
     "data": {
      "image/png": "[encoded data removed]",
      "text/plain": [
       "<matplotlib.figure.Figure at 0x1312f1cd0>"
      ]
     },
     "metadata": {},
     "output_type": "display_data"
    }
   ],
   "source": [
    "G_4 =  nx.read_adjlist(\"subgraphs/2384-subgraph.adjlist\")\n",
    "label = {}\n",
    "for node in G_4:\n",
    "    label[node] = data[str(node)]['node_type']\n",
    "print label\n",
    "nx.draw_networkx(G_4,pos=nx.spring_layout(G_4), labels=label)"
   ]
  },
  {
   "cell_type": "code",
   "execution_count": 88,
   "metadata": {
    "collapsed": false
   },
   "outputs": [
    {
     "data": {
      "text/html": [
       "<div style=\"max-height:1000px;max-width:1500px;overflow:auto;\"><table frame=\"box\" rules=\"cols\">\n",
       "    <tr>\n",
       "        <th style=\"padding-left: 1em; padding-right: 1em; text-align: center\">filename</th>\n",
       "        <th style=\"padding-left: 1em; padding-right: 1em; text-align: center\">cluster_id</th>\n",
       "        <th style=\"padding-left: 1em; padding-right: 1em; text-align: center\">distance</th>\n",
       "    </tr>\n",
       "    <tr>\n",
       "        <td style=\"padding-left: 1em; padding-right: 1em; text-align: center; vertical-align: top\">./motifs/4683.motifcount</td>\n",
       "        <td style=\"padding-left: 1em; padding-right: 1em; text-align: center; vertical-align: top\">2</td>\n",
       "        <td style=\"padding-left: 1em; padding-right: 1em; text-align: center; vertical-align: top\">0.00290215667337</td>\n",
       "    </tr>\n",
       "    <tr>\n",
       "        <td style=\"padding-left: 1em; padding-right: 1em; text-align: center; vertical-align: top\">./motifs/4353.motifcount</td>\n",
       "        <td style=\"padding-left: 1em; padding-right: 1em; text-align: center; vertical-align: top\">2</td>\n",
       "        <td style=\"padding-left: 1em; padding-right: 1em; text-align: center; vertical-align: top\">0.00290215667337</td>\n",
       "    </tr>\n",
       "    <tr>\n",
       "        <td style=\"padding-left: 1em; padding-right: 1em; text-align: center; vertical-align: top\">./motifs/4357.motifcount</td>\n",
       "        <td style=\"padding-left: 1em; padding-right: 1em; text-align: center; vertical-align: top\">2</td>\n",
       "        <td style=\"padding-left: 1em; padding-right: 1em; text-align: center; vertical-align: top\">0.00290215667337</td>\n",
       "    </tr>\n",
       "    <tr>\n",
       "        <td style=\"padding-left: 1em; padding-right: 1em; text-align: center; vertical-align: top\">./motifs/4358.motifcount</td>\n",
       "        <td style=\"padding-left: 1em; padding-right: 1em; text-align: center; vertical-align: top\">2</td>\n",
       "        <td style=\"padding-left: 1em; padding-right: 1em; text-align: center; vertical-align: top\">0.00290215667337</td>\n",
       "    </tr>\n",
       "    <tr>\n",
       "        <td style=\"padding-left: 1em; padding-right: 1em; text-align: center; vertical-align: top\">./motifs/4364.motifcount</td>\n",
       "        <td style=\"padding-left: 1em; padding-right: 1em; text-align: center; vertical-align: top\">2</td>\n",
       "        <td style=\"padding-left: 1em; padding-right: 1em; text-align: center; vertical-align: top\">0.00290215667337</td>\n",
       "    </tr>\n",
       "    <tr>\n",
       "        <td style=\"padding-left: 1em; padding-right: 1em; text-align: center; vertical-align: top\">./motifs/4366.motifcount</td>\n",
       "        <td style=\"padding-left: 1em; padding-right: 1em; text-align: center; vertical-align: top\">2</td>\n",
       "        <td style=\"padding-left: 1em; padding-right: 1em; text-align: center; vertical-align: top\">0.00290215667337</td>\n",
       "    </tr>\n",
       "    <tr>\n",
       "        <td style=\"padding-left: 1em; padding-right: 1em; text-align: center; vertical-align: top\">./motifs/4369.motifcount</td>\n",
       "        <td style=\"padding-left: 1em; padding-right: 1em; text-align: center; vertical-align: top\">2</td>\n",
       "        <td style=\"padding-left: 1em; padding-right: 1em; text-align: center; vertical-align: top\">0.00290215667337</td>\n",
       "    </tr>\n",
       "    <tr>\n",
       "        <td style=\"padding-left: 1em; padding-right: 1em; text-align: center; vertical-align: top\">./motifs/4371.motifcount</td>\n",
       "        <td style=\"padding-left: 1em; padding-right: 1em; text-align: center; vertical-align: top\">2</td>\n",
       "        <td style=\"padding-left: 1em; padding-right: 1em; text-align: center; vertical-align: top\">0.00290215667337</td>\n",
       "    </tr>\n",
       "    <tr>\n",
       "        <td style=\"padding-left: 1em; padding-right: 1em; text-align: center; vertical-align: top\">./motifs/4372.motifcount</td>\n",
       "        <td style=\"padding-left: 1em; padding-right: 1em; text-align: center; vertical-align: top\">2</td>\n",
       "        <td style=\"padding-left: 1em; padding-right: 1em; text-align: center; vertical-align: top\">0.00290215667337</td>\n",
       "    </tr>\n",
       "    <tr>\n",
       "        <td style=\"padding-left: 1em; padding-right: 1em; text-align: center; vertical-align: top\">./motifs/4375.motifcount</td>\n",
       "        <td style=\"padding-left: 1em; padding-right: 1em; text-align: center; vertical-align: top\">2</td>\n",
       "        <td style=\"padding-left: 1em; padding-right: 1em; text-align: center; vertical-align: top\">0.00290215667337</td>\n",
       "    </tr>\n",
       "</table>\n",
       "[232 rows x 3 columns]<br/>Note: Only the head of the SFrame is printed.<br/>You can use print_rows(num_rows=m, num_columns=n) to print more rows and columns.\n",
       "</div>"
      ],
      "text/plain": [
       "Columns:\n",
       "\tfilename\tstr\n",
       "\tcluster_id\tint\n",
       "\tdistance\tfloat\n",
       "\n",
       "Rows: 232\n",
       "\n",
       "Data:\n",
       "+--------------------------+------------+------------------+\n",
       "|         filename         | cluster_id |     distance     |\n",
       "+--------------------------+------------+------------------+\n",
       "| ./motifs/4683.motifcount |     2      | 0.00290215667337 |\n",
       "| ./motifs/4353.motifcount |     2      | 0.00290215667337 |\n",
       "| ./motifs/4357.motifcount |     2      | 0.00290215667337 |\n",
       "| ./motifs/4358.motifcount |     2      | 0.00290215667337 |\n",
       "| ./motifs/4364.motifcount |     2      | 0.00290215667337 |\n",
       "| ./motifs/4366.motifcount |     2      | 0.00290215667337 |\n",
       "| ./motifs/4369.motifcount |     2      | 0.00290215667337 |\n",
       "| ./motifs/4371.motifcount |     2      | 0.00290215667337 |\n",
       "| ./motifs/4372.motifcount |     2      | 0.00290215667337 |\n",
       "| ./motifs/4375.motifcount |     2      | 0.00290215667337 |\n",
       "+--------------------------+------------+------------------+\n",
       "[232 rows x 3 columns]\n",
       "Note: Only the head of the SFrame is printed.\n",
       "You can use print_rows(num_rows=m, num_columns=n) to print more rows and columns."
      ]
     },
     "execution_count": 88,
     "metadata": {},
     "output_type": "execute_result"
    }
   ],
   "source": [
    "graphs_cluster2.sort('distance')"
   ]
  },
  {
   "cell_type": "code",
   "execution_count": 92,
   "metadata": {
    "collapsed": false
   },
   "outputs": [
    {
     "name": "stdout",
     "output_type": "stream",
     "text": [
      "298417\n",
      "285809\n",
      "189290\n",
      "263517\n"
     ]
    }
   ],
   "source": [
    "G_5 =  nx.read_adjlist(\"subgraphs/4683-subgraph.adjlist\")\n",
    "#nx.draw(G_5,pos=nx.spring_layout(G_5))\n",
    "for node in G_5:\n",
    "    print node"
   ]
  },
  {
   "cell_type": "code",
   "execution_count": 93,
   "metadata": {
    "collapsed": true
   },
   "outputs": [],
   "source": [
    "import json\n",
    "with open('fullgraphs/all_nodes_type.json') as data_file:    \n",
    "    data = json.load(data_file)"
   ]
  },
  {
   "cell_type": "code",
   "execution_count": 128,
   "metadata": {
    "collapsed": false
   },
   "outputs": [
    {
     "name": "stdout",
     "output_type": "stream",
     "text": [
      "{u'node_type': u'intermediates'}\n",
      "{u'node_type': u'address'}\n",
      "{u'node_type': u'entitities'}\n",
      "{u'node_type': u'address'}\n"
     ]
    }
   ],
   "source": [
    "label = {}\n",
    "for node in G_5:\n",
    "    print data[str(node)]"
   ]
  },
  {
   "cell_type": "code",
   "execution_count": 118,
   "metadata": {
    "collapsed": false
   },
   "outputs": [
    {
     "data": {
      "image/png": "[encoded data removed]",
      "text/plain": [
       "<matplotlib.figure.Figure at 0x12bba9b10>"
      ]
     },
     "metadata": {},
     "output_type": "display_data"
    }
   ],
   "source": [
    "nx.draw_networkx(G_5,pos=nx.spring_layout(G_5),labels=label)"
   ]
  },
  {
   "cell_type": "code",
   "execution_count": 121,
   "metadata": {
    "collapsed": false
   },
   "outputs": [
    {
     "name": "stdout",
     "output_type": "stream",
     "text": [
      "[u'12119515', u'11008784', u'10205283', u'14022097']\n"
     ]
    }
   ],
   "source": [
    "G_6 =  nx.read_adjlist(\"subgraphs/4357-subgraph.adjlist\")\n",
    "print G_6.nodes()"
   ]
  },
  {
   "cell_type": "code",
   "execution_count": 122,
   "metadata": {
    "collapsed": false
   },
   "outputs": [
    {
     "name": "stdout",
     "output_type": "stream",
     "text": [
      "{u'11008784': u'intermediates', u'10205283': u'entitities', u'12119515': u'officers', u'14022097': u'address'}\n"
     ]
    },
    {
     "data": {
      "image/png": "[encoded data removed]",
      "text/plain": [
       "<matplotlib.figure.Figure at 0x12d0d21d0>"
      ]
     },
     "metadata": {},
     "output_type": "display_data"
    }
   ],
   "source": [
    "label = {}\n",
    "for node in G_6:\n",
    "    label[node] = data[str(node)]['node_type']\n",
    "print label\n",
    "nx.draw_networkx(G_6,pos=nx.spring_layout(G_6), labels=label)"
   ]
  },
  {
   "cell_type": "code",
   "execution_count": 66,
   "metadata": {
    "collapsed": false
   },
   "outputs": [],
   "source": [
    "graphs_cluster3 = cluster_ids[cluster_ids['cluster_id'] == 3]\n",
    "graphs_cluster4 = cluster_ids[cluster_ids['cluster_id'] == 4]\n",
    "graphs_cluster5 = cluster_ids[cluster_ids['cluster_id'] == 5]"
   ]
  },
  {
   "cell_type": "code",
   "execution_count": 67,
   "metadata": {
    "collapsed": false
   },
   "outputs": [
    {
     "data": {
      "text/html": [
       "<div style=\"max-height:1000px;max-width:1500px;overflow:auto;\"><table frame=\"box\" rules=\"cols\">\n",
       "    <tr>\n",
       "        <th style=\"padding-left: 1em; padding-right: 1em; text-align: center\">filename</th>\n",
       "        <th style=\"padding-left: 1em; padding-right: 1em; text-align: center\">cluster_id</th>\n",
       "        <th style=\"padding-left: 1em; padding-right: 1em; text-align: center\">distance</th>\n",
       "    </tr>\n",
       "    <tr>\n",
       "        <td style=\"padding-left: 1em; padding-right: 1em; text-align: center; vertical-align: top\">./motifs/3062.motifcount</td>\n",
       "        <td style=\"padding-left: 1em; padding-right: 1em; text-align: center; vertical-align: top\">3</td>\n",
       "        <td style=\"padding-left: 1em; padding-right: 1em; text-align: center; vertical-align: top\">0.150766924024</td>\n",
       "    </tr>\n",
       "    <tr>\n",
       "        <td style=\"padding-left: 1em; padding-right: 1em; text-align: center; vertical-align: top\">./motifs/3607.motifcount</td>\n",
       "        <td style=\"padding-left: 1em; padding-right: 1em; text-align: center; vertical-align: top\">3</td>\n",
       "        <td style=\"padding-left: 1em; padding-right: 1em; text-align: center; vertical-align: top\">0.150766924024</td>\n",
       "    </tr>\n",
       "    <tr>\n",
       "        <td style=\"padding-left: 1em; padding-right: 1em; text-align: center; vertical-align: top\">./motifs/3606.motifcount</td>\n",
       "        <td style=\"padding-left: 1em; padding-right: 1em; text-align: center; vertical-align: top\">3</td>\n",
       "        <td style=\"padding-left: 1em; padding-right: 1em; text-align: center; vertical-align: top\">0.150766924024</td>\n",
       "    </tr>\n",
       "    <tr>\n",
       "        <td style=\"padding-left: 1em; padding-right: 1em; text-align: center; vertical-align: top\">./motifs/3605.motifcount</td>\n",
       "        <td style=\"padding-left: 1em; padding-right: 1em; text-align: center; vertical-align: top\">3</td>\n",
       "        <td style=\"padding-left: 1em; padding-right: 1em; text-align: center; vertical-align: top\">0.150766924024</td>\n",
       "    </tr>\n",
       "    <tr>\n",
       "        <td style=\"padding-left: 1em; padding-right: 1em; text-align: center; vertical-align: top\">./motifs/3603.motifcount</td>\n",
       "        <td style=\"padding-left: 1em; padding-right: 1em; text-align: center; vertical-align: top\">3</td>\n",
       "        <td style=\"padding-left: 1em; padding-right: 1em; text-align: center; vertical-align: top\">0.150766924024</td>\n",
       "    </tr>\n",
       "    <tr>\n",
       "        <td style=\"padding-left: 1em; padding-right: 1em; text-align: center; vertical-align: top\">./motifs/3602.motifcount</td>\n",
       "        <td style=\"padding-left: 1em; padding-right: 1em; text-align: center; vertical-align: top\">3</td>\n",
       "        <td style=\"padding-left: 1em; padding-right: 1em; text-align: center; vertical-align: top\">0.150766924024</td>\n",
       "    </tr>\n",
       "    <tr>\n",
       "        <td style=\"padding-left: 1em; padding-right: 1em; text-align: center; vertical-align: top\">./motifs/3601.motifcount</td>\n",
       "        <td style=\"padding-left: 1em; padding-right: 1em; text-align: center; vertical-align: top\">3</td>\n",
       "        <td style=\"padding-left: 1em; padding-right: 1em; text-align: center; vertical-align: top\">0.150766924024</td>\n",
       "    </tr>\n",
       "    <tr>\n",
       "        <td style=\"padding-left: 1em; padding-right: 1em; text-align: center; vertical-align: top\">./motifs/3598.motifcount</td>\n",
       "        <td style=\"padding-left: 1em; padding-right: 1em; text-align: center; vertical-align: top\">3</td>\n",
       "        <td style=\"padding-left: 1em; padding-right: 1em; text-align: center; vertical-align: top\">0.150766924024</td>\n",
       "    </tr>\n",
       "    <tr>\n",
       "        <td style=\"padding-left: 1em; padding-right: 1em; text-align: center; vertical-align: top\">./motifs/3594.motifcount</td>\n",
       "        <td style=\"padding-left: 1em; padding-right: 1em; text-align: center; vertical-align: top\">3</td>\n",
       "        <td style=\"padding-left: 1em; padding-right: 1em; text-align: center; vertical-align: top\">0.150766924024</td>\n",
       "    </tr>\n",
       "    <tr>\n",
       "        <td style=\"padding-left: 1em; padding-right: 1em; text-align: center; vertical-align: top\">./motifs/3593.motifcount</td>\n",
       "        <td style=\"padding-left: 1em; padding-right: 1em; text-align: center; vertical-align: top\">3</td>\n",
       "        <td style=\"padding-left: 1em; padding-right: 1em; text-align: center; vertical-align: top\">0.150766924024</td>\n",
       "    </tr>\n",
       "</table>\n",
       "[440 rows x 3 columns]<br/>Note: Only the head of the SFrame is printed.<br/>You can use print_rows(num_rows=m, num_columns=n) to print more rows and columns.\n",
       "</div>"
      ],
      "text/plain": [
       "Columns:\n",
       "\tfilename\tstr\n",
       "\tcluster_id\tint\n",
       "\tdistance\tfloat\n",
       "\n",
       "Rows: 440\n",
       "\n",
       "Data:\n",
       "+--------------------------+------------+----------------+\n",
       "|         filename         | cluster_id |    distance    |\n",
       "+--------------------------+------------+----------------+\n",
       "| ./motifs/3062.motifcount |     3      | 0.150766924024 |\n",
       "| ./motifs/3607.motifcount |     3      | 0.150766924024 |\n",
       "| ./motifs/3606.motifcount |     3      | 0.150766924024 |\n",
       "| ./motifs/3605.motifcount |     3      | 0.150766924024 |\n",
       "| ./motifs/3603.motifcount |     3      | 0.150766924024 |\n",
       "| ./motifs/3602.motifcount |     3      | 0.150766924024 |\n",
       "| ./motifs/3601.motifcount |     3      | 0.150766924024 |\n",
       "| ./motifs/3598.motifcount |     3      | 0.150766924024 |\n",
       "| ./motifs/3594.motifcount |     3      | 0.150766924024 |\n",
       "| ./motifs/3593.motifcount |     3      | 0.150766924024 |\n",
       "+--------------------------+------------+----------------+\n",
       "[440 rows x 3 columns]\n",
       "Note: Only the head of the SFrame is printed.\n",
       "You can use print_rows(num_rows=m, num_columns=n) to print more rows and columns."
      ]
     },
     "execution_count": 67,
     "metadata": {},
     "output_type": "execute_result"
    }
   ],
   "source": [
    "graphs_cluster3.sort('distance')"
   ]
  },
  {
   "cell_type": "code",
   "execution_count": 124,
   "metadata": {
    "collapsed": false
   },
   "outputs": [
    {
     "name": "stdout",
     "output_type": "stream",
     "text": [
      "{u'11000388': u'intermediates', u'10006962': u'entitities', u'10036133': u'entitities', u'10035416': u'entitities', u'10190578': u'entitities', u'10033640': u'entitities'}\n"
     ]
    },
    {
     "data": {
      "image/png": "[encoded data removed]",
      "text/plain": [
       "<matplotlib.figure.Figure at 0x12d6e4950>"
      ]
     },
     "metadata": {},
     "output_type": "display_data"
    }
   ],
   "source": [
    "G_7 =  nx.read_adjlist(\"subgraphs/3062-subgraph.adjlist\")\n",
    "label = {}\n",
    "for node in G_7:\n",
    "    label[node] = data[str(node)]['node_type']\n",
    "print label\n",
    "nx.draw_networkx(G_7,pos=nx.spring_layout(G_7), labels=label)"
   ]
  },
  {
   "cell_type": "code",
   "execution_count": 125,
   "metadata": {
    "collapsed": false
   },
   "outputs": [
    {
     "name": "stdout",
     "output_type": "stream",
     "text": [
      "{u'10067878': u'entitities', u'12063288': u'officers', u'12063289': u'officers', u'11007429': u'intermediates', u'12063286': u'officers', u'12063287': u'officers'}\n"
     ]
    },
    {
     "data": {
      "image/png": "[encoded data removed]",
      "text/plain": [
       "<matplotlib.figure.Figure at 0x12e0c83d0>"
      ]
     },
     "metadata": {},
     "output_type": "display_data"
    }
   ],
   "source": [
    "G_7 =  nx.read_adjlist(\"subgraphs/3607-subgraph.adjlist\")\n",
    "label = {}\n",
    "for node in G_7:\n",
    "    label[node] = data[str(node)]['node_type']\n",
    "print label\n",
    "nx.draw_networkx(G_7,pos=nx.spring_layout(G_7), labels=label)"
   ]
  },
  {
   "cell_type": "code",
   "execution_count": 70,
   "metadata": {
    "collapsed": false
   },
   "outputs": [
    {
     "data": {
      "text/html": [
       "<div style=\"max-height:1000px;max-width:1500px;overflow:auto;\"><table frame=\"box\" rules=\"cols\">\n",
       "    <tr>\n",
       "        <th style=\"padding-left: 1em; padding-right: 1em; text-align: center\">filename</th>\n",
       "        <th style=\"padding-left: 1em; padding-right: 1em; text-align: center\">cluster_id</th>\n",
       "        <th style=\"padding-left: 1em; padding-right: 1em; text-align: center\">distance</th>\n",
       "    </tr>\n",
       "    <tr>\n",
       "        <td style=\"padding-left: 1em; padding-right: 1em; text-align: center; vertical-align: top\">./motifs/4997.motifcount</td>\n",
       "        <td style=\"padding-left: 1em; padding-right: 1em; text-align: center; vertical-align: top\">4</td>\n",
       "        <td style=\"padding-left: 1em; padding-right: 1em; text-align: center; vertical-align: top\">0.310309410095</td>\n",
       "    </tr>\n",
       "    <tr>\n",
       "        <td style=\"padding-left: 1em; padding-right: 1em; text-align: center; vertical-align: top\">./motifs/4995.motifcount</td>\n",
       "        <td style=\"padding-left: 1em; padding-right: 1em; text-align: center; vertical-align: top\">4</td>\n",
       "        <td style=\"padding-left: 1em; padding-right: 1em; text-align: center; vertical-align: top\">0.310309410095</td>\n",
       "    </tr>\n",
       "    <tr>\n",
       "        <td style=\"padding-left: 1em; padding-right: 1em; text-align: center; vertical-align: top\">./motifs/4989.motifcount</td>\n",
       "        <td style=\"padding-left: 1em; padding-right: 1em; text-align: center; vertical-align: top\">4</td>\n",
       "        <td style=\"padding-left: 1em; padding-right: 1em; text-align: center; vertical-align: top\">0.310309410095</td>\n",
       "    </tr>\n",
       "    <tr>\n",
       "        <td style=\"padding-left: 1em; padding-right: 1em; text-align: center; vertical-align: top\">./motifs/4988.motifcount</td>\n",
       "        <td style=\"padding-left: 1em; padding-right: 1em; text-align: center; vertical-align: top\">4</td>\n",
       "        <td style=\"padding-left: 1em; padding-right: 1em; text-align: center; vertical-align: top\">0.310309410095</td>\n",
       "    </tr>\n",
       "    <tr>\n",
       "        <td style=\"padding-left: 1em; padding-right: 1em; text-align: center; vertical-align: top\">./motifs/4984.motifcount</td>\n",
       "        <td style=\"padding-left: 1em; padding-right: 1em; text-align: center; vertical-align: top\">4</td>\n",
       "        <td style=\"padding-left: 1em; padding-right: 1em; text-align: center; vertical-align: top\">0.310309410095</td>\n",
       "    </tr>\n",
       "    <tr>\n",
       "        <td style=\"padding-left: 1em; padding-right: 1em; text-align: center; vertical-align: top\">./motifs/4983.motifcount</td>\n",
       "        <td style=\"padding-left: 1em; padding-right: 1em; text-align: center; vertical-align: top\">4</td>\n",
       "        <td style=\"padding-left: 1em; padding-right: 1em; text-align: center; vertical-align: top\">0.310309410095</td>\n",
       "    </tr>\n",
       "    <tr>\n",
       "        <td style=\"padding-left: 1em; padding-right: 1em; text-align: center; vertical-align: top\">./motifs/4979.motifcount</td>\n",
       "        <td style=\"padding-left: 1em; padding-right: 1em; text-align: center; vertical-align: top\">4</td>\n",
       "        <td style=\"padding-left: 1em; padding-right: 1em; text-align: center; vertical-align: top\">0.310309410095</td>\n",
       "    </tr>\n",
       "    <tr>\n",
       "        <td style=\"padding-left: 1em; padding-right: 1em; text-align: center; vertical-align: top\">./motifs/4978.motifcount</td>\n",
       "        <td style=\"padding-left: 1em; padding-right: 1em; text-align: center; vertical-align: top\">4</td>\n",
       "        <td style=\"padding-left: 1em; padding-right: 1em; text-align: center; vertical-align: top\">0.310309410095</td>\n",
       "    </tr>\n",
       "    <tr>\n",
       "        <td style=\"padding-left: 1em; padding-right: 1em; text-align: center; vertical-align: top\">./motifs/4976.motifcount</td>\n",
       "        <td style=\"padding-left: 1em; padding-right: 1em; text-align: center; vertical-align: top\">4</td>\n",
       "        <td style=\"padding-left: 1em; padding-right: 1em; text-align: center; vertical-align: top\">0.310309410095</td>\n",
       "    </tr>\n",
       "    <tr>\n",
       "        <td style=\"padding-left: 1em; padding-right: 1em; text-align: center; vertical-align: top\">./motifs/4974.motifcount</td>\n",
       "        <td style=\"padding-left: 1em; padding-right: 1em; text-align: center; vertical-align: top\">4</td>\n",
       "        <td style=\"padding-left: 1em; padding-right: 1em; text-align: center; vertical-align: top\">0.310309410095</td>\n",
       "    </tr>\n",
       "</table>\n",
       "[627 rows x 3 columns]<br/>Note: Only the head of the SFrame is printed.<br/>You can use print_rows(num_rows=m, num_columns=n) to print more rows and columns.\n",
       "</div>"
      ],
      "text/plain": [
       "Columns:\n",
       "\tfilename\tstr\n",
       "\tcluster_id\tint\n",
       "\tdistance\tfloat\n",
       "\n",
       "Rows: 627\n",
       "\n",
       "Data:\n",
       "+--------------------------+------------+----------------+\n",
       "|         filename         | cluster_id |    distance    |\n",
       "+--------------------------+------------+----------------+\n",
       "| ./motifs/4997.motifcount |     4      | 0.310309410095 |\n",
       "| ./motifs/4995.motifcount |     4      | 0.310309410095 |\n",
       "| ./motifs/4989.motifcount |     4      | 0.310309410095 |\n",
       "| ./motifs/4988.motifcount |     4      | 0.310309410095 |\n",
       "| ./motifs/4984.motifcount |     4      | 0.310309410095 |\n",
       "| ./motifs/4983.motifcount |     4      | 0.310309410095 |\n",
       "| ./motifs/4979.motifcount |     4      | 0.310309410095 |\n",
       "| ./motifs/4978.motifcount |     4      | 0.310309410095 |\n",
       "| ./motifs/4976.motifcount |     4      | 0.310309410095 |\n",
       "| ./motifs/4974.motifcount |     4      | 0.310309410095 |\n",
       "+--------------------------+------------+----------------+\n",
       "[627 rows x 3 columns]\n",
       "Note: Only the head of the SFrame is printed.\n",
       "You can use print_rows(num_rows=m, num_columns=n) to print more rows and columns."
      ]
     },
     "execution_count": 70,
     "metadata": {},
     "output_type": "execute_result"
    }
   ],
   "source": [
    "graphs_cluster4.sort('distance')"
   ]
  },
  {
   "cell_type": "code",
   "execution_count": 126,
   "metadata": {
    "collapsed": false
   },
   "outputs": [
    {
     "name": "stdout",
     "output_type": "stream",
     "text": [
      "{u'110677': u'officers', u'164887': u'entitities', u'182326': u'entitities', u'238648': u'address'}\n"
     ]
    },
    {
     "data": {
      "image/png": "[encoded data removed]",
      "text/plain": [
       "<matplotlib.figure.Figure at 0x12d1b6150>"
      ]
     },
     "metadata": {},
     "output_type": "display_data"
    }
   ],
   "source": [
    "G_7 =  nx.read_adjlist(\"subgraphs/4997-subgraph.adjlist\")\n",
    "label = {}\n",
    "for node in G_7:\n",
    "    label[node] = data[str(node)]['node_type']\n",
    "print label\n",
    "nx.draw_networkx(G_7,pos=nx.spring_layout(G_7), labels=label)"
   ]
  },
  {
   "cell_type": "code",
   "execution_count": 157,
   "metadata": {
    "collapsed": false
   },
   "outputs": [
    {
     "name": "stdout",
     "output_type": "stream",
     "text": [
      "{u'12056682': u'officers', u'11002577': u'intermediates', u'10044954': u'entitities', u'12057411': u'officers'}\n"
     ]
    },
    {
     "data": {
      "image/png": "[encoded data removed]",
      "text/plain": [
       "<matplotlib.figure.Figure at 0x13c0aed90>"
      ]
     },
     "metadata": {},
     "output_type": "display_data"
    }
   ],
   "source": [
    "G_7 =  nx.read_adjlist(\"subgraphs/4984-subgraph.adjlist\")\n",
    "label = {}\n",
    "for node in G_7:\n",
    "    label[node] = data[str(node)]['node_type']\n",
    "print label\n",
    "nx.draw_networkx(G_7,pos=nx.spring_layout(G_7), labels=label)"
   ]
  },
  {
   "cell_type": "code",
   "execution_count": 73,
   "metadata": {
    "collapsed": false
   },
   "outputs": [
    {
     "data": {
      "text/html": [
       "<div style=\"max-height:1000px;max-width:1500px;overflow:auto;\"><table frame=\"box\" rules=\"cols\">\n",
       "    <tr>\n",
       "        <th style=\"padding-left: 1em; padding-right: 1em; text-align: center\">filename</th>\n",
       "        <th style=\"padding-left: 1em; padding-right: 1em; text-align: center\">cluster_id</th>\n",
       "        <th style=\"padding-left: 1em; padding-right: 1em; text-align: center\">distance</th>\n",
       "    </tr>\n",
       "    <tr>\n",
       "        <td style=\"padding-left: 1em; padding-right: 1em; text-align: center; vertical-align: top\">./motifs/2587.motifcount</td>\n",
       "        <td style=\"padding-left: 1em; padding-right: 1em; text-align: center; vertical-align: top\">5</td>\n",
       "        <td style=\"padding-left: 1em; padding-right: 1em; text-align: center; vertical-align: top\">0.363626509905</td>\n",
       "    </tr>\n",
       "    <tr>\n",
       "        <td style=\"padding-left: 1em; padding-right: 1em; text-align: center; vertical-align: top\">./motifs/2596.motifcount</td>\n",
       "        <td style=\"padding-left: 1em; padding-right: 1em; text-align: center; vertical-align: top\">5</td>\n",
       "        <td style=\"padding-left: 1em; padding-right: 1em; text-align: center; vertical-align: top\">0.363626509905</td>\n",
       "    </tr>\n",
       "    <tr>\n",
       "        <td style=\"padding-left: 1em; padding-right: 1em; text-align: center; vertical-align: top\">./motifs/2696.motifcount</td>\n",
       "        <td style=\"padding-left: 1em; padding-right: 1em; text-align: center; vertical-align: top\">5</td>\n",
       "        <td style=\"padding-left: 1em; padding-right: 1em; text-align: center; vertical-align: top\">0.363626509905</td>\n",
       "    </tr>\n",
       "    <tr>\n",
       "        <td style=\"padding-left: 1em; padding-right: 1em; text-align: center; vertical-align: top\">./motifs/2558.motifcount</td>\n",
       "        <td style=\"padding-left: 1em; padding-right: 1em; text-align: center; vertical-align: top\">5</td>\n",
       "        <td style=\"padding-left: 1em; padding-right: 1em; text-align: center; vertical-align: top\">0.363626509905</td>\n",
       "    </tr>\n",
       "    <tr>\n",
       "        <td style=\"padding-left: 1em; padding-right: 1em; text-align: center; vertical-align: top\">./motifs/2632.motifcount</td>\n",
       "        <td style=\"padding-left: 1em; padding-right: 1em; text-align: center; vertical-align: top\">5</td>\n",
       "        <td style=\"padding-left: 1em; padding-right: 1em; text-align: center; vertical-align: top\">0.363626509905</td>\n",
       "    </tr>\n",
       "    <tr>\n",
       "        <td style=\"padding-left: 1em; padding-right: 1em; text-align: center; vertical-align: top\">./motifs/2713.motifcount</td>\n",
       "        <td style=\"padding-left: 1em; padding-right: 1em; text-align: center; vertical-align: top\">5</td>\n",
       "        <td style=\"padding-left: 1em; padding-right: 1em; text-align: center; vertical-align: top\">0.363626509905</td>\n",
       "    </tr>\n",
       "    <tr>\n",
       "        <td style=\"padding-left: 1em; padding-right: 1em; text-align: center; vertical-align: top\">./motifs/2669.motifcount</td>\n",
       "        <td style=\"padding-left: 1em; padding-right: 1em; text-align: center; vertical-align: top\">5</td>\n",
       "        <td style=\"padding-left: 1em; padding-right: 1em; text-align: center; vertical-align: top\">0.363626509905</td>\n",
       "    </tr>\n",
       "    <tr>\n",
       "        <td style=\"padding-left: 1em; padding-right: 1em; text-align: center; vertical-align: top\">./motifs/2464.motifcount</td>\n",
       "        <td style=\"padding-left: 1em; padding-right: 1em; text-align: center; vertical-align: top\">5</td>\n",
       "        <td style=\"padding-left: 1em; padding-right: 1em; text-align: center; vertical-align: top\">0.363626509905</td>\n",
       "    </tr>\n",
       "    <tr>\n",
       "        <td style=\"padding-left: 1em; padding-right: 1em; text-align: center; vertical-align: top\">./motifs/2700.motifcount</td>\n",
       "        <td style=\"padding-left: 1em; padding-right: 1em; text-align: center; vertical-align: top\">5</td>\n",
       "        <td style=\"padding-left: 1em; padding-right: 1em; text-align: center; vertical-align: top\">0.363626509905</td>\n",
       "    </tr>\n",
       "    <tr>\n",
       "        <td style=\"padding-left: 1em; padding-right: 1em; text-align: center; vertical-align: top\">./motifs/2223.motifcount</td>\n",
       "        <td style=\"padding-left: 1em; padding-right: 1em; text-align: center; vertical-align: top\">5</td>\n",
       "        <td style=\"padding-left: 1em; padding-right: 1em; text-align: center; vertical-align: top\">0.392443150282</td>\n",
       "    </tr>\n",
       "</table>\n",
       "[1083 rows x 3 columns]<br/>Note: Only the head of the SFrame is printed.<br/>You can use print_rows(num_rows=m, num_columns=n) to print more rows and columns.\n",
       "</div>"
      ],
      "text/plain": [
       "Columns:\n",
       "\tfilename\tstr\n",
       "\tcluster_id\tint\n",
       "\tdistance\tfloat\n",
       "\n",
       "Rows: 1083\n",
       "\n",
       "Data:\n",
       "+--------------------------+------------+----------------+\n",
       "|         filename         | cluster_id |    distance    |\n",
       "+--------------------------+------------+----------------+\n",
       "| ./motifs/2587.motifcount |     5      | 0.363626509905 |\n",
       "| ./motifs/2596.motifcount |     5      | 0.363626509905 |\n",
       "| ./motifs/2696.motifcount |     5      | 0.363626509905 |\n",
       "| ./motifs/2558.motifcount |     5      | 0.363626509905 |\n",
       "| ./motifs/2632.motifcount |     5      | 0.363626509905 |\n",
       "| ./motifs/2713.motifcount |     5      | 0.363626509905 |\n",
       "| ./motifs/2669.motifcount |     5      | 0.363626509905 |\n",
       "| ./motifs/2464.motifcount |     5      | 0.363626509905 |\n",
       "| ./motifs/2700.motifcount |     5      | 0.363626509905 |\n",
       "| ./motifs/2223.motifcount |     5      | 0.392443150282 |\n",
       "+--------------------------+------------+----------------+\n",
       "[1083 rows x 3 columns]\n",
       "Note: Only the head of the SFrame is printed.\n",
       "You can use print_rows(num_rows=m, num_columns=n) to print more rows and columns."
      ]
     },
     "execution_count": 73,
     "metadata": {},
     "output_type": "execute_result"
    }
   ],
   "source": [
    "graphs_cluster5.sort('distance')"
   ]
  },
  {
   "cell_type": "code",
   "execution_count": 129,
   "metadata": {
    "collapsed": false
   },
   "outputs": [
    {
     "name": "stdout",
     "output_type": "stream",
     "text": [
      "{u'181185': u'entitities', u'271445': u'address', u'286561': u'address', u'250658': u'address', u'164664': u'entitities', u'291042': u'intermediates', u'97267': u'officers'}\n"
     ]
    },
    {
     "data": {
      "image/png": "[encoded data removed]",
      "text/plain": [
       "<matplotlib.figure.Figure at 0x12ef2eb90>"
      ]
     },
     "metadata": {},
     "output_type": "display_data"
    }
   ],
   "source": [
    "G_7 =  nx.read_adjlist(\"subgraphs/2587-subgraph.adjlist\")\n",
    "label = {}\n",
    "for node in G_7:\n",
    "    label[node] = data[str(node)]['node_type']\n",
    "print label\n",
    "nx.draw_networkx(G_7,pos=nx.spring_layout(G_7), labels=label)"
   ]
  },
  {
   "cell_type": "code",
   "execution_count": 137,
   "metadata": {
    "collapsed": false
   },
   "outputs": [
    {
     "name": "stdout",
     "output_type": "stream",
     "text": [
      "{u'296620': u'intermediates', u'68923': u'address', u'81084': u'officers', u'286539': u'address', u'100639': u'officers', u'135806': u'entitities', u'188071': u'entitities'}\n"
     ]
    }
   ],
   "source": [
    "G_7 =  nx.read_adjlist(\"subgraphs/2596-subgraph.adjlist\")\n",
    "label = {}\n",
    "for node in G_7:\n",
    "    label[node] = data[str(node)]['node_type']\n",
    "print label\n",
    "details = {}\n",
    "import csv\n",
    "officers = pd.read_csv('fullgraphs/Officers.csv', low_memory=False)"
   ]
  },
  {
   "cell_type": "code",
   "execution_count": 141,
   "metadata": {
    "collapsed": false
   },
   "outputs": [
    {
     "data": {
      "text/html": [
       "<div>\n",
       "<table border=\"1\" class=\"dataframe\">\n",
       "  <thead>\n",
       "    <tr style=\"text-align: right;\">\n",
       "      <th></th>\n",
       "      <th>name</th>\n",
       "      <th>icij_id</th>\n",
       "      <th>country_codes</th>\n",
       "      <th>countries</th>\n",
       "      <th>node_id</th>\n",
       "      <th>sourceID</th>\n",
       "      <th>note</th>\n",
       "    </tr>\n",
       "  </thead>\n",
       "  <tbody>\n",
       "    <tr>\n",
       "      <th>0</th>\n",
       "      <td>KIM SOO IN</td>\n",
       "      <td>E72326DEA50F1A9C2876E112AAEB42BC</td>\n",
       "      <td>KOR</td>\n",
       "      <td>South Korea</td>\n",
       "      <td>12000001</td>\n",
       "      <td>Panama Papers</td>\n",
       "      <td>NaN</td>\n",
       "    </tr>\n",
       "    <tr>\n",
       "      <th>1</th>\n",
       "      <td>Tian Yuan</td>\n",
       "      <td>58287E0FD37852000D9D5AB8B27A2581</td>\n",
       "      <td>CHN</td>\n",
       "      <td>China</td>\n",
       "      <td>12000002</td>\n",
       "      <td>Panama Papers</td>\n",
       "      <td>NaN</td>\n",
       "    </tr>\n",
       "    <tr>\n",
       "      <th>2</th>\n",
       "      <td>GREGORY JOHN SOLOMON</td>\n",
       "      <td>F476011509FD5C2EF98E9B1D74913CCE</td>\n",
       "      <td>AUS</td>\n",
       "      <td>Australia</td>\n",
       "      <td>12000003</td>\n",
       "      <td>Panama Papers</td>\n",
       "      <td>NaN</td>\n",
       "    </tr>\n",
       "    <tr>\n",
       "      <th>3</th>\n",
       "      <td>MATSUDA MASUMI</td>\n",
       "      <td>974F420B2324A23EAF46F20E178AF52C</td>\n",
       "      <td>JPN</td>\n",
       "      <td>Japan</td>\n",
       "      <td>12000004</td>\n",
       "      <td>Panama Papers</td>\n",
       "      <td>NaN</td>\n",
       "    </tr>\n",
       "    <tr>\n",
       "      <th>4</th>\n",
       "      <td>HO THUY NGA</td>\n",
       "      <td>06A0FC92656D09F63D966FE7BD076A45</td>\n",
       "      <td>VNM</td>\n",
       "      <td>Viet Nam</td>\n",
       "      <td>12000005</td>\n",
       "      <td>Panama Papers</td>\n",
       "      <td>NaN</td>\n",
       "    </tr>\n",
       "  </tbody>\n",
       "</table>\n",
       "</div>"
      ],
      "text/plain": [
       "                   name                           icij_id country_codes  \\\n",
       "0            KIM SOO IN  E72326DEA50F1A9C2876E112AAEB42BC           KOR   \n",
       "1             Tian Yuan  58287E0FD37852000D9D5AB8B27A2581           CHN   \n",
       "2  GREGORY JOHN SOLOMON  F476011509FD5C2EF98E9B1D74913CCE           AUS   \n",
       "3        MATSUDA MASUMI  974F420B2324A23EAF46F20E178AF52C           JPN   \n",
       "4           HO THUY NGA  06A0FC92656D09F63D966FE7BD076A45           VNM   \n",
       "\n",
       "     countries   node_id       sourceID  note  \n",
       "0  South Korea  12000001  Panama Papers   NaN  \n",
       "1        China  12000002  Panama Papers   NaN  \n",
       "2    Australia  12000003  Panama Papers   NaN  \n",
       "3        Japan  12000004  Panama Papers   NaN  \n",
       "4     Viet Nam  12000005  Panama Papers   NaN  "
      ]
     },
     "execution_count": 141,
     "metadata": {},
     "output_type": "execute_result"
    }
   ],
   "source": [
    "officers.head()"
   ]
  },
  {
   "cell_type": "code",
   "execution_count": 147,
   "metadata": {
    "collapsed": false
   },
   "outputs": [
    {
     "data": {
      "text/html": [
       "<div>\n",
       "<table border=\"1\" class=\"dataframe\">\n",
       "  <thead>\n",
       "    <tr style=\"text-align: right;\">\n",
       "      <th></th>\n",
       "      <th>name</th>\n",
       "      <th>icij_id</th>\n",
       "      <th>country_codes</th>\n",
       "      <th>countries</th>\n",
       "      <th>node_id</th>\n",
       "      <th>sourceID</th>\n",
       "      <th>note</th>\n",
       "    </tr>\n",
       "  </thead>\n",
       "  <tbody>\n",
       "    <tr>\n",
       "      <th>267466</th>\n",
       "      <td>Walmert China Co Ltd</td>\n",
       "      <td>NaN</td>\n",
       "      <td>XXX</td>\n",
       "      <td>Not identified</td>\n",
       "      <td>100639</td>\n",
       "      <td>Offshore Leaks</td>\n",
       "      <td>NaN</td>\n",
       "    </tr>\n",
       "  </tbody>\n",
       "</table>\n",
       "</div>"
      ],
      "text/plain": [
       "                        name icij_id country_codes       countries  node_id  \\\n",
       "267466  Walmert China Co Ltd     NaN           XXX  Not identified   100639   \n",
       "\n",
       "              sourceID  note  \n",
       "267466  Offshore Leaks   NaN  "
      ]
     },
     "execution_count": 147,
     "metadata": {},
     "output_type": "execute_result"
    }
   ],
   "source": [
    "officers[ officers['node_id'] == 81084]\n",
    "officers[ officers['node_id'] == 100639]"
   ]
  },
  {
   "cell_type": "code",
   "execution_count": 144,
   "metadata": {
    "collapsed": false
   },
   "outputs": [
    {
     "name": "stdout",
     "output_type": "stream",
     "text": [
      "{u'296620': u'intermediates', u'68923': u'address', u'81084': u'officers', u'286539': u'address', u'100639': u'officers', u'135806': u'entitities', u'188071': u'entitities'}\n"
     ]
    }
   ],
   "source": [
    "print label"
   ]
  },
  {
   "cell_type": "code",
   "execution_count": 153,
   "metadata": {
    "collapsed": false
   },
   "outputs": [
    {
     "name": "stdout",
     "output_type": "stream",
     "text": [
      "{u'163325': u'entitities', u'2003948': u'officers', u'273423': u'address', u'297063': u'intermediates', u'81752': u'officers', u'273448': u'address', u'188595': u'entitities'}\n"
     ]
    },
    {
     "data": {
      "image/png": "[encoded data removed]",
      "text/plain": [
       "<matplotlib.figure.Figure at 0x133c6c350>"
      ]
     },
     "metadata": {},
     "output_type": "display_data"
    }
   ],
   "source": [
    "G_7 =  nx.read_adjlist(\"subgraphs/2696-subgraph.adjlist\")\n",
    "label = {}\n",
    "for node in G_7:\n",
    "    label[node] = data[str(node)]['node_type']\n",
    "print label\n",
    "nx.draw_networkx(G_7,pos=nx.spring_layout(G_7), labels=label)"
   ]
  },
  {
   "cell_type": "code",
   "execution_count": 154,
   "metadata": {
    "collapsed": false
   },
   "outputs": [
    {
     "data": {
      "text/html": [
       "<div>\n",
       "<table border=\"1\" class=\"dataframe\">\n",
       "  <thead>\n",
       "    <tr style=\"text-align: right;\">\n",
       "      <th></th>\n",
       "      <th>name</th>\n",
       "      <th>icij_id</th>\n",
       "      <th>country_codes</th>\n",
       "      <th>countries</th>\n",
       "      <th>node_id</th>\n",
       "      <th>sourceID</th>\n",
       "      <th>note</th>\n",
       "    </tr>\n",
       "  </thead>\n",
       "  <tbody>\n",
       "    <tr>\n",
       "      <th>250740</th>\n",
       "      <td>WU, CHUN-I @ WU, JIMMY</td>\n",
       "      <td>NaN</td>\n",
       "      <td>TWN</td>\n",
       "      <td>Taiwan</td>\n",
       "      <td>81752</td>\n",
       "      <td>Offshore Leaks</td>\n",
       "      <td>NaN</td>\n",
       "    </tr>\n",
       "  </tbody>\n",
       "</table>\n",
       "</div>"
      ],
      "text/plain": [
       "                          name icij_id country_codes countries  node_id  \\\n",
       "250740  WU, CHUN-I @ WU, JIMMY     NaN           TWN    Taiwan    81752   \n",
       "\n",
       "              sourceID  note  \n",
       "250740  Offshore Leaks   NaN  "
      ]
     },
     "execution_count": 154,
     "metadata": {},
     "output_type": "execute_result"
    }
   ],
   "source": [
    "officers[ officers['node_id'] == 81752 ]"
   ]
  },
  {
   "cell_type": "code",
   "execution_count": 162,
   "metadata": {
    "collapsed": false
   },
   "outputs": [
    {
     "name": "stdout",
     "output_type": "stream",
     "text": [
      "{u'189136': u'entitities', u'72882': u'officers', u'164190': u'entitities', u'238261': u'address'}\n"
     ]
    },
    {
     "data": {
      "image/png": "[encoded data removed]",
      "text/plain": [
       "<matplotlib.figure.Figure at 0x13d7116d0>"
      ]
     },
     "metadata": {},
     "output_type": "display_data"
    }
   ],
   "source": [
    "G_7 =  nx.read_adjlist(\"subgraphs/4979-subgraph.adjlist\")\n",
    "label = {}\n",
    "for node in G_7:\n",
    "    label[node] = data[str(node)]['node_type']\n",
    "print label\n",
    "nx.draw_networkx(G_7,pos=nx.spring_layout(G_7), labels=label)"
   ]
  },
  {
   "cell_type": "code",
   "execution_count": 163,
   "metadata": {
    "collapsed": false
   },
   "outputs": [
    {
     "data": {
      "text/html": [
       "<div>\n",
       "<table border=\"1\" class=\"dataframe\">\n",
       "  <thead>\n",
       "    <tr style=\"text-align: right;\">\n",
       "      <th></th>\n",
       "      <th>name</th>\n",
       "      <th>icij_id</th>\n",
       "      <th>country_codes</th>\n",
       "      <th>countries</th>\n",
       "      <th>node_id</th>\n",
       "      <th>sourceID</th>\n",
       "      <th>note</th>\n",
       "    </tr>\n",
       "  </thead>\n",
       "  <tbody>\n",
       "    <tr>\n",
       "      <th>243724</th>\n",
       "      <td>YANG, SHAO-PING</td>\n",
       "      <td>NaN</td>\n",
       "      <td>TWN</td>\n",
       "      <td>Taiwan</td>\n",
       "      <td>72882</td>\n",
       "      <td>Offshore Leaks</td>\n",
       "      <td>NaN</td>\n",
       "    </tr>\n",
       "  </tbody>\n",
       "</table>\n",
       "</div>"
      ],
      "text/plain": [
       "                   name icij_id country_codes countries  node_id  \\\n",
       "243724  YANG, SHAO-PING     NaN           TWN    Taiwan    72882   \n",
       "\n",
       "              sourceID  note  \n",
       "243724  Offshore Leaks   NaN  "
      ]
     },
     "execution_count": 163,
     "metadata": {},
     "output_type": "execute_result"
    }
   ],
   "source": [
    "officers[ officers['node_id'] == 72882 ]"
   ]
  },
  {
   "cell_type": "code",
   "execution_count": 15,
   "metadata": {
    "collapsed": false
   },
   "outputs": [
    {
     "data": {
      "image/png": "[encoded data removed]",
      "text/plain": [
       "<matplotlib.figure.Figure at 0x121bd86d0>"
      ]
     },
     "metadata": {},
     "output_type": "display_data"
    }
   ],
   "source": [
    "G_7 =  nx.read_adjlist(\"subgraphs/4872-subgraph.adjlist\")\n",
    "nx.draw_networkx(G_7,pos=nx.spring_layout(G_7), labels=label)"
   ]
  },
  {
   "cell_type": "code",
   "execution_count": null,
   "metadata": {
    "collapsed": true
   },
   "outputs": [],
   "source": []
  }
 ],
 "metadata": {
  "kernelspec": {
   "display_name": "Python 2",
   "language": "python",
   "name": "python2"
  },
  "language_info": {
   "codemirror_mode": {
    "name": "ipython",
    "version": 2
   },
   "file_extension": ".py",
   "mimetype": "text/x-python",
   "name": "python",
   "nbconvert_exporter": "python",
   "pygments_lexer": "ipython2",
   "version": "2.7.11"
  }
 },
 "nbformat": 4,
 "nbformat_minor": 0
}
